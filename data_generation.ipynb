{
 "cells": [
  {
   "cell_type": "markdown",
   "metadata": {},
   "source": [
    "# Generate data using api (for now, DR dataset only)"
   ]
  },
  {
   "cell_type": "code",
   "execution_count": 25,
   "metadata": {},
   "outputs": [
    {
     "data": {
      "text/plain": [
       "array([' Question: The answer to the question \"Does the poster suffers from depression?\" is '],\n",
       "      dtype=object)"
      ]
     },
     "execution_count": 25,
     "metadata": {},
     "output_type": "execute_result"
    }
   ],
   "source": [
    "df = pd.read_csv(r\".\\data\\released_data_mentalllama\\train_data\\complete_data\\DR\\reddit_valid.csv\")\n",
    "\n",
    "df.question.unique()"
   ]
  },
  {
   "cell_type": "markdown",
   "metadata": {},
   "source": [
    "#### Sampling without replacement from original data"
   ]
  },
  {
   "cell_type": "code",
   "execution_count": null,
   "metadata": {},
   "outputs": [
    {
     "name": "stdout",
     "output_type": "stream",
     "text": [
      "Updated '.\\prompts\\prompt_complete_DR.txt' with 25 new example rows.\n"
     ]
    }
   ],
   "source": [
    "import random\n",
    "from update_prompt import update_prompt_with_csv\n",
    "\n",
    "\n",
    "prompt_path = r\".\\prompts\\prompt_complete_DR.txt\"\n",
    "csv_valid_path = r\".\\data\\released_data_mentalllama\\train_data\\complete_data\\DR\\reddit_valid.csv\"\n",
    "csv_train_path = r\".\\data\\released_data_mentalllama\\train_data\\complete_data\\DR\\reddit_train.csv\"\n",
    "\n",
    "random.seed(42) # For reproducibility\n",
    "n = 25\n",
    "\n",
    "update_prompt_with_csv(prompt_path, csv_valid_path, csv_train_path, n)"
   ]
  },
  {
   "cell_type": "markdown",
   "metadata": {},
   "source": [
    "#### data generation"
   ]
  },
  {
   "cell_type": "code",
   "execution_count": 8,
   "metadata": {},
   "outputs": [],
   "source": [
    "from openai import OpenAI\n",
    "\n",
    "client_ds = OpenAI(api_key=\"sk-ed8f7a41078845a5bf6d6db82686ca08\", base_url=\"https://api.deepseek.com\")"
   ]
  },
  {
   "cell_type": "code",
   "execution_count": 37,
   "metadata": {},
   "outputs": [
    {
     "name": "stdout",
     "output_type": "stream",
     "text": [
      "\"Post: I feel like I'm drowning in my own thoughts. Every day is a battle to get out of bed, and even when I do, I feel like I'm just going through the motions. I used to love reading, but now I can't even focus on a single page. My friends keep asking me to hang out, but I just can't bring myself to go. I feel like I'm letting everyone down, including myself. I don't know why I feel this way, but it's like a heavy weight is constantly pressing down on my chest. I try to smile and act normal, but inside, I feel so empty. I don't know how much longer I can keep pretending everything is okay.\",\"Question: The answer to the question \"Does the poster suffers from depression?\" is\",\"yes. Reasoning: The post exhibits multiple symptoms of depression, including persistent sadness, lack of interest in previously enjoyed activities, difficulty concentrating, and feelings of worthlessness. The poster describes a constant emotional struggle, feeling empty and overwhelmed by negative thoughts. The mention of pretending to be okay suggests a disconnect between their internal emotional state and their outward behavior, which is common in individuals experiencing depression. The overall tone of the post conveys a profound sense of hopelessness and emotional pain, aligning with diagnostic criteria for depression.\"\n",
      "\n",
      "\"Post: I've been feeling so angry lately, and I don't know why. Everything seems to irritate me, even small things like someone talking too loudly or the sound of a pen clicking. I snap at people without meaning to, and then I feel guilty afterward. I know I'm pushing people away, but I can't seem to stop myself. I feel like I'm losing control, and it's terrifying. I don't want to be this person, but I don't know how to change.\",\"Question: The answer to the question \"Does the poster suffers from depression?\" is\",\"no. Reasoning: The post primarily focuses on feelings of anger and irritability, which are more indicative of emotional regulation difficulties or possibly an underlying anxiety disorder rather than depression. While the poster expresses guilt and frustration about their behavior, there is no clear evidence of the pervasive sadness, hopelessness, or lack of interest in activities that are hallmark symptoms of depression. The emotional distress described seems to stem more from a struggle to manage anger than from a depressive state.\"\n",
      "\n",
      "\"Post: I can't stop thinking about how much of a failure I am. No matter how hard I try, I feel like I'm never good enough. My grades are slipping, and I can't seem to focus on anything. I keep comparing myself to others, and I always come up short. I feel like I'm stuck in a hole that I can't climb out of. I don't even know why I bother trying anymore.\",\"Question: The answer to the question \"Does the poster suffers from depression?\" is\",\"yes. Reasoning: The post strongly conveys feelings of worthlessness, self-doubt, and hopelessness, which are key symptoms of depression. The poster's inability to focus, persistent negative self-evaluation, and sense of being trapped in a hopeless situation further support the presence of depressive symptoms. The overall tone of the post reflects a deep sense of despair and a lack of motivation, aligning with the diagnostic criteria for depression.\"\n",
      "\n",
      "\"Post: I’ve been feeling so lonely lately. It’s like no matter how many people are around me, I still feel alone. I try to reach out to friends, but it feels like they don’t really care. I keep telling myself that it’s all in my head, but the loneliness just won’t go away. I don’t know what’s wrong with me. Why can’t I just feel connected to someone?\",\"Question: The answer to the question \"Does the poster suffers from depression?\" is\",\"yes. Reasoning: The post expresses a deep sense of loneliness and emotional isolation, which are common symptoms of depression. The poster's inability to feel connected to others, despite being surrounded by people, suggests a pervasive sense of disconnection and sadness. The recurring theme of self-doubt and questioning why they can't feel connected further indicates a depressive state. The emotional pain and lack of fulfillment in social interactions align with the symptoms of depression.\"\n",
      "\n",
      "\"Post: I’ve been having these nightmares every night, and I can’t seem to shake them. They’re so vivid and disturbing, and they leave me feeling drained and anxious all day. I’m scared to go to sleep because I don’t want to have another nightmare, but I’m so tired. I feel like I’m stuck in this cycle of fear and exhaustion, and I don’t know how to break free.\",\"Question: The answer to the question \"Does the poster suffers from depression?\" is\",\"no. Reasoning: The post primarily describes symptoms related to nightmares, anxiety, and sleep disturbances, which are more indicative of an anxiety disorder or trauma-related condition rather than depression. While the poster expresses feelings of exhaustion and being trapped in a cycle of fear, there is no clear evidence of the pervasive sadness, hopelessness, or lack of interest in activities that are characteristic of depression. The focus is more on the distress caused by nightmares and their impact on daily functioning, rather than on depressive symptoms.\"\n"
     ]
    }
   ],
   "source": [
    "import csv\n",
    "import io\n",
    "import os\n",
    "\n",
    "with open('./prompts/prompt_complete_DR.txt', 'r') as file:\n",
    "    content = file.read()\n",
    "\n",
    "\n",
    "response = client_ds.chat.completions.create(\n",
    "    model=\"deepseek-chat\",\n",
    "    messages=[\n",
    "        {\"role\": \"system\", \"content\": \"You are a mental health data generation assistant\"},\n",
    "        {\"role\": \"user\", \"content\": content},\n",
    "    ],\n",
    "    stream=False,\n",
    "    temperature=1.5,\n",
    "    max_tokens=8192\n",
    ")\n",
    "\n",
    "print(response.choices[0].message.content)\n",
    "\n",
    "\n",
    "reader = csv.reader(io.StringIO(response.choices[0].message.content))\n",
    "rows = list(reader)\n",
    "\n",
    "header = ['post', 'question', 'response']\n",
    "output_csv = './data/data_generated/DR_generated.csv'\n",
    "\n",
    "file_exists = os.path.exists(output_csv)\n",
    "\n",
    "with open(output_csv, 'a' if file_exists else 'w', newline='', encoding='utf-8') as out_f:\n",
    "    writer = csv.writer(out_f)\n",
    "    if not file_exists or os.stat(output_csv).st_size == 0:\n",
    "        writer.writerow(header)\n",
    "    writer.writerows(rows)\n",
    "\n",
    "print(f\"CSV file '{output_csv}' updated with {len(rows)} new rows of data.\")"
   ]
  },
  {
   "cell_type": "code",
   "execution_count": 38,
   "metadata": {},
   "outputs": [
    {
     "data": {
      "text/html": [
       "<div>\n",
       "<style scoped>\n",
       "    .dataframe tbody tr th:only-of-type {\n",
       "        vertical-align: middle;\n",
       "    }\n",
       "\n",
       "    .dataframe tbody tr th {\n",
       "        vertical-align: top;\n",
       "    }\n",
       "\n",
       "    .dataframe thead th {\n",
       "        text-align: right;\n",
       "    }\n",
       "</style>\n",
       "<table border=\"1\" class=\"dataframe\">\n",
       "  <thead>\n",
       "    <tr style=\"text-align: right;\">\n",
       "      <th></th>\n",
       "      <th>post</th>\n",
       "      <th>question</th>\n",
       "      <th>response</th>\n",
       "    </tr>\n",
       "  </thead>\n",
       "  <tbody>\n",
       "    <tr>\n",
       "      <th>0</th>\n",
       "      <td>Post: I feel like I’m drowning in my own thoug...</td>\n",
       "      <td>Question: The answer to the question 'Does the...</td>\n",
       "      <td>yes. Reasoning: The post exhibits strong emoti...</td>\n",
       "    </tr>\n",
       "    <tr>\n",
       "      <th>1</th>\n",
       "      <td>Post: I’ve been feeling so off lately. I can’t...</td>\n",
       "      <td>Question: The answer to the question 'Does the...</td>\n",
       "      <td>no. Reasoning: While the post describes signif...</td>\n",
       "    </tr>\n",
       "  </tbody>\n",
       "</table>\n",
       "</div>"
      ],
      "text/plain": [
       "                                                post  \\\n",
       "0  Post: I feel like I’m drowning in my own thoug...   \n",
       "1  Post: I’ve been feeling so off lately. I can’t...   \n",
       "\n",
       "                                            question  \\\n",
       "0  Question: The answer to the question 'Does the...   \n",
       "1  Question: The answer to the question 'Does the...   \n",
       "\n",
       "                                            response  \n",
       "0  yes. Reasoning: The post exhibits strong emoti...  \n",
       "1  no. Reasoning: While the post describes signif...  "
      ]
     },
     "execution_count": 38,
     "metadata": {},
     "output_type": "execute_result"
    }
   ],
   "source": [
    "# data prepossessing\n",
    "pd.read_csv('./data/data_generated/DR_generated.csv')"
   ]
  },
  {
   "cell_type": "code",
   "execution_count": null,
   "metadata": {},
   "outputs": [],
   "source": []
  }
 ],
 "metadata": {
  "kernelspec": {
   "display_name": "python_ml",
   "language": "python",
   "name": "python3"
  },
  "language_info": {
   "codemirror_mode": {
    "name": "ipython",
    "version": 3
   },
   "file_extension": ".py",
   "mimetype": "text/x-python",
   "name": "python",
   "nbconvert_exporter": "python",
   "pygments_lexer": "ipython3",
   "version": "3.11.11"
  }
 },
 "nbformat": 4,
 "nbformat_minor": 2
}
