{
 "cells": [
  {
   "cell_type": "markdown",
   "metadata": {},
   "source": [
    "# Generate data using api"
   ]
  },
  {
   "cell_type": "code",
   "execution_count": 25,
   "metadata": {},
   "outputs": [
    {
     "data": {
      "text/plain": [
       "array([' Question: The answer to the question \"Does the poster suffers from depression?\" is '],\n",
       "      dtype=object)"
      ]
     },
     "execution_count": 25,
     "metadata": {},
     "output_type": "execute_result"
    }
   ],
   "source": [
    "df = pd.read_csv(r\".\\data\\released_data_mentalllama\\train_data\\complete_data\\DR\\reddit_valid.csv\")\n",
    "\n",
    "df.question.unique()"
   ]
  },
  {
   "cell_type": "markdown",
   "metadata": {},
   "source": [
    "#### Sampling without replacement from original data"
   ]
  },
  {
   "cell_type": "code",
   "execution_count": 26,
   "metadata": {},
   "outputs": [
    {
     "name": "stdout",
     "output_type": "stream",
     "text": [
      "Updated '.\\prompts\\prompt_complete_DR.txt' with 25 new example rows.\n"
     ]
    }
   ],
   "source": [
    "import random\n",
    "from update_prompt import update_prompt_with_csv\n",
    "\n",
    "\n",
    "prompt_path = r\".\\prompts\\prompt_complete_DR.txt\"\n",
    "csv_valid_path = r\".\\data\\released_data_mentalllama\\train_data\\complete_data\\DR\\reddit_valid.csv\"\n",
    "csv_train_path = r\".\\data\\released_data_mentalllama\\train_data\\complete_data\\DR\\reddit_train.csv\"\n",
    "\n",
    "random.seed(42) # For reproducibility\n",
    "n = 25\n",
    "\n",
    "\n",
    "update_prompt_with_csv(prompt_path, csv_valid_path, csv_train_path, n)"
   ]
  },
  {
   "cell_type": "markdown",
   "metadata": {},
   "source": [
    "#### data generation"
   ]
  },
  {
   "cell_type": "code",
   "execution_count": 8,
   "metadata": {},
   "outputs": [],
   "source": [
    "from openai import OpenAI\n",
    "\n",
    "client_ds = OpenAI(api_key=\"sk-ed8f7a41078845a5bf6d6db82686ca08\", base_url=\"https://api.deepseek.com\")"
   ]
  },
  {
   "cell_type": "code",
   "execution_count": 27,
   "metadata": {},
   "outputs": [
    {
     "name": "stdout",
     "output_type": "stream",
     "text": [
      "\"Post: I feel like I’m drowning in my own thoughts. Every day is a battle to get out of bed, and when I finally do, I’m hit with this overwhelming sense of emptiness. I try to distract myself with work, but it feels like I’m just going through the motions. I can’t remember the last time I genuinely laughed or felt happy. My friends keep telling me to ‘just cheer up,’ but they don’t understand how hard it is to even pretend to be okay. I feel so alone, like no one really gets it. I’ve started avoiding social situations because I don’t want to bring anyone down with my negativity. I don’t know how much longer I can keep this up.\",\"Question: The answer to the question 'Does the poster suffer from depression?' is\",\"yes. Reasoning: The post exhibits strong emotional indicators of depression. The poster describes a persistent sense of emptiness, difficulty getting out of bed, and a lack of enjoyment in activities they once found pleasurable. They also express feelings of isolation and a belief that others do not understand their struggle, which is common in individuals experiencing depression. The avoidance of social situations and the inability to ‘cheer up’ despite others’ encouragement further reinforce the presence of depressive symptoms. The overall tone of the post conveys hopelessness and emotional exhaustion, which are hallmark signs of depression.\"\n",
      "\n",
      "\"Post: I’ve been feeling so off lately. I can’t concentrate at work, and my mind keeps drifting to the worst-case scenarios. I’m constantly worried about failing, even though I know I’m doing fine. My sleep is all over the place—some nights I can’t fall asleep, and other nights I sleep for 10 hours and still feel exhausted. I’ve been snapping at people for no reason, and I hate how it makes me feel afterward. I don’t know what’s wrong with me, but I feel like I’m losing control.\",\"Question: The answer to the question 'Does the poster suffer from depression?' is\",\"no. Reasoning: While the post describes significant emotional distress, the symptoms align more closely with anxiety rather than depression. The poster mentions constant worry, difficulty concentrating, sleep disturbances, and irritability, which are common indicators of anxiety disorders. Although there is some overlap between anxiety and depression symptoms, the lack of explicit expressions of hopelessness, sadness, or loss of interest in life\n"
     ]
    }
   ],
   "source": [
    "with open('./prompts/prompt_complete_DR.txt', 'r') as file:\n",
    "    content = file.read()\n",
    "\n",
    "\n",
    "response = client_ds.chat.completions.create(\n",
    "    model=\"deepseek-chat\",\n",
    "    messages=[\n",
    "        {\"role\": \"system\", \"content\": \"You are a mental health data generation assistant\"},\n",
    "        {\"role\": \"user\", \"content\": content},\n",
    "    ],\n",
    "    stream=False,\n",
    "    temperature=1.6,\n",
    "    max_tokens=500\n",
    ")\n",
    "\n",
    "print(response.choices[0].message.content)"
   ]
  },
  {
   "cell_type": "code",
   "execution_count": 30,
   "metadata": {},
   "outputs": [
    {
     "name": "stdout",
     "output_type": "stream",
     "text": [
      "CSV file './data/data_generated/DR_generated.csv' updated with 3 new rows of data.\n"
     ]
    }
   ],
   "source": [
    "import csv\n",
    "import io\n",
    "import os\n",
    "\n",
    "reader = csv.reader(io.StringIO(response.choices[0].message.content))\n",
    "rows = list(reader)\n",
    "\n",
    "header = ['post', 'question', 'response']\n",
    "output_csv = './data/data_generated/DR_generated.csv'\n",
    "\n",
    "file_exists = os.path.exists(output_csv)\n",
    "\n",
    "with open(output_csv, 'a' if file_exists else 'w', newline='', encoding='utf-8') as out_f:\n",
    "    writer = csv.writer(out_f)\n",
    "    if not file_exists or os.stat(output_csv).st_size == 0:\n",
    "        writer.writerow(header)\n",
    "    writer.writerows(rows)\n",
    "\n",
    "print(f\"CSV file '{output_csv}' updated with {len(rows)} new rows of data.\")"
   ]
  },
  {
   "cell_type": "code",
   "execution_count": null,
   "metadata": {},
   "outputs": [
    {
     "data": {
      "text/html": [
       "<div>\n",
       "<style scoped>\n",
       "    .dataframe tbody tr th:only-of-type {\n",
       "        vertical-align: middle;\n",
       "    }\n",
       "\n",
       "    .dataframe tbody tr th {\n",
       "        vertical-align: top;\n",
       "    }\n",
       "\n",
       "    .dataframe thead th {\n",
       "        text-align: right;\n",
       "    }\n",
       "</style>\n",
       "<table border=\"1\" class=\"dataframe\">\n",
       "  <thead>\n",
       "    <tr style=\"text-align: right;\">\n",
       "      <th></th>\n",
       "      <th>post</th>\n",
       "      <th>question</th>\n",
       "      <th>response</th>\n",
       "    </tr>\n",
       "  </thead>\n",
       "  <tbody>\n",
       "    <tr>\n",
       "      <th>0</th>\n",
       "      <td>Post: I feel like I’m drowning in my own thoug...</td>\n",
       "      <td>Question: The answer to the question 'Does the...</td>\n",
       "      <td>yes. Reasoning: The post exhibits strong emoti...</td>\n",
       "    </tr>\n",
       "    <tr>\n",
       "      <th>1</th>\n",
       "      <td>Post: I’ve been feeling so off lately. I can’t...</td>\n",
       "      <td>Question: The answer to the question 'Does the...</td>\n",
       "      <td>no. Reasoning: While the post describes signif...</td>\n",
       "    </tr>\n",
       "  </tbody>\n",
       "</table>\n",
       "</div>"
      ],
      "text/plain": [
       "                                                post  \\\n",
       "0  Post: I feel like I’m drowning in my own thoug...   \n",
       "1  Post: I’ve been feeling so off lately. I can’t...   \n",
       "\n",
       "                                            question  \\\n",
       "0  Question: The answer to the question 'Does the...   \n",
       "1  Question: The answer to the question 'Does the...   \n",
       "\n",
       "                                            response  \n",
       "0  yes. Reasoning: The post exhibits strong emoti...  \n",
       "1  no. Reasoning: While the post describes signif...  "
      ]
     },
     "execution_count": 31,
     "metadata": {},
     "output_type": "execute_result"
    }
   ],
   "source": [
    "# data prepossessing\n",
    "pd.read_csv('./data/data_generated/DR_generated.csv')"
   ]
  },
  {
   "cell_type": "code",
   "execution_count": null,
   "metadata": {},
   "outputs": [],
   "source": []
  }
 ],
 "metadata": {
  "kernelspec": {
   "display_name": "python_ml",
   "language": "python",
   "name": "python3"
  },
  "language_info": {
   "codemirror_mode": {
    "name": "ipython",
    "version": 3
   },
   "file_extension": ".py",
   "mimetype": "text/x-python",
   "name": "python",
   "nbconvert_exporter": "python",
   "pygments_lexer": "ipython3",
   "version": "3.11.11"
  }
 },
 "nbformat": 4,
 "nbformat_minor": 2
}
