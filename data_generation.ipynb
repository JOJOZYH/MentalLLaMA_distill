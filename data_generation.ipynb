{
 "cells": [
  {
   "cell_type": "code",
   "execution_count": 1,
   "metadata": {},
   "outputs": [
    {
     "name": "stdout",
     "output_type": "stream",
     "text": [
      "hello world\n"
     ]
    }
   ],
   "source": [
    "print('hello world')"
   ]
  },
  {
   "cell_type": "code",
   "execution_count": null,
   "metadata": {},
   "outputs": [],
   "source": [
    "from openai import OpenAI\n",
    "\n",
    "client = OpenAI(api_key=\"<DeepSeek API Key>\", base_url=\"https://api.deepseek.com\")\n",
    "\n",
    "response = client.chat.completions.create(\n",
    "    model=\"deepseek-chat\",\n",
    "    messages=[\n",
    "        {\"role\": \"system\", \"content\": \"You are a helpful assistant\"},\n",
    "        {\"role\": \"user\", \"content\": \"Hello\"},\n",
    "    ],\n",
    "    stream=False\n",
    ")\n",
    "\n",
    "print(response.choices[0].message.content)"
   ]
  },
  {
   "cell_type": "code",
   "execution_count": null,
   "metadata": {},
   "outputs": [],
   "source": [
    "import openai\n",
    "\n",
    "# 读取文本文件内容\n",
    "with open(\"your_text_file.txt\", \"r\", encoding=\"utf-8\") as file:\n",
    "    text_content = file.read()\n",
    "\n",
    "# 发送请求\n",
    "response = client.chat.completions.create(\n",
    "    model=\"deepseek-chat\",\n",
    "    messages=[\n",
    "        {\"role\": \"system\", \"content\": \"You are a helpful assistant\"},\n",
    "        {\"role\": \"user\", \"content\": text_content},  # 这里替换成文件内容\n",
    "    ],\n",
    "    stream=False,\n",
    "    max_tokens=300\n",
    ")\n",
    "\n",
    "print(response.choices[0].message.content)\n",
    "\n",
    "# import requests\n",
    "# import json\n",
    "\n",
    "# url = \"https://api.deepseek.com/beta/completions\"\n",
    "\n",
    "# payload = json.dumps({\n",
    "#   \"model\": \"deepseek-chat\",\n",
    "#   \"prompt\": \"Once upon a time, \",\n",
    "#   \"echo\": False,\n",
    "#   \"frequency_penalty\": 0,\n",
    "#   \"logprobs\": 0,\n",
    "#   \"max_tokens\": 300,\n",
    "#   \"presence_penalty\": 0,\n",
    "#   \"stop\": None,\n",
    "#   \"stream\": False,\n",
    "#   \"stream_options\": None,\n",
    "#   \"suffix\": None,\n",
    "#   \"temperature\": 1,\n",
    "#   \"top_p\": 1\n",
    "# })\n",
    "# headers = {\n",
    "#   'Content-Type': 'application/json',\n",
    "#   'Accept': 'application/json',\n",
    "#   'Authorization': 'Bearer <TOKEN>'\n",
    "# }\n",
    "\n",
    "# response = requests.request(\"POST\", url, headers=headers, data=payload)\n",
    "\n",
    "# print(response.text)\n",
    "# print(response.choices[0].message.content)"
   ]
  }
 ],
 "metadata": {
  "kernelspec": {
   "display_name": "python_ml",
   "language": "python",
   "name": "python3"
  },
  "language_info": {
   "codemirror_mode": {
    "name": "ipython",
    "version": 3
   },
   "file_extension": ".py",
   "mimetype": "text/x-python",
   "name": "python",
   "nbconvert_exporter": "python",
   "pygments_lexer": "ipython3",
   "version": "3.11.11"
  }
 },
 "nbformat": 4,
 "nbformat_minor": 2
}
