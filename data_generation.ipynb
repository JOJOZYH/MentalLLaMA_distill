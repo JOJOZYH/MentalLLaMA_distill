{
 "cells": [
  {
   "cell_type": "markdown",
   "metadata": {},
   "source": [
    "# Generate data using api"
   ]
  },
  {
   "cell_type": "markdown",
   "metadata": {},
   "source": [
    "#### Sampling without replacement from original data"
   ]
  },
  {
   "cell_type": "code",
   "execution_count": 7,
   "metadata": {},
   "outputs": [
    {
     "name": "stdout",
     "output_type": "stream",
     "text": [
      "Updated '.\\prompts\\prompt_complete_DR.txt' with 25 new example rows.\n"
     ]
    }
   ],
   "source": [
    "import random\n",
    "from update_prompt import update_prompt_with_csv\n",
    "\n",
    "\n",
    "prompt_path = r\".\\prompts\\prompt_complete_DR.txt\"\n",
    "csv_valid_path = r\".\\data\\released_data_mentalllama\\train_data\\complete_data\\DR\\reddit_valid.csv\"\n",
    "csv_train_path = r\".\\data\\released_data_mentalllama\\train_data\\complete_data\\DR\\reddit_train.csv\"\n",
    "\n",
    "random.seed(42) # For reproducibility\n",
    "n = 25\n",
    "\n",
    "\n",
    "update_prompt_with_csv(prompt_path, csv_valid_path, csv_train_path, n)"
   ]
  },
  {
   "cell_type": "markdown",
   "metadata": {},
   "source": [
    "#### data generation"
   ]
  },
  {
   "cell_type": "code",
   "execution_count": 8,
   "metadata": {},
   "outputs": [],
   "source": [
    "from openai import OpenAI\n",
    "\n",
    "client_ds = OpenAI(api_key=\"sk-ed8f7a41078845a5bf6d6db82686ca08\", base_url=\"https://api.deepseek.com\")"
   ]
  },
  {
   "cell_type": "code",
   "execution_count": null,
   "metadata": {},
   "outputs": [
    {
     "name": "stdout",
     "output_type": "stream",
     "text": [
      "\"Post: I feel like I’m drowning in my own thoughts. Every day feels like a battle just to get out of bed. I keep telling myself it’ll get better, but it never does. I’m so tired of feeling this way. I don’t even know why I’m sad half the time. I just feel empty, like there’s no point to anything. I try to talk to people, but it feels like no one really understands. They just tell me to ‘cheer up’ or ‘it’s just a phase.’ But it’s not a phase. It’s been years. I don’t know how much longer I can keep pretending I’m okay.\",\"Question: The answer to the question 'Does the poster suffer from depression?' is\",\"yes. Reasoning: The post exhibits several key indicators of depression. The poster describes a persistent feeling of emptiness, lack of motivation, and difficulty performing daily tasks like getting out of bed. They express a sense of hopelessness, stating that they’ve been feeling this way for years and that it’s not just a phase. The mention of feeling misunderstood by others and the inability to find joy or purpose in life further supports the presence of depressive symptoms. The overall tone of the post conveys deep emotional pain and a sense of being overwhelmed, which aligns with the diagnostic criteria for depression.\"\n",
      "\n",
      "\"Post: I’ve been feeling so anxious lately. It’s like my mind is racing all the time, and I can’t shut it off. I keep worrying about everything—work, relationships, even things that haven’t happened yet. I’m so scared of failing or disappointing people. Sometimes it gets so bad that I can’t breathe, and I feel like I’m having a heart attack. I don’t know what to do anymore. I just want this constant fear to go away.\",\"Question: The answer to the question 'Is the poster likely experiencing an anxiety disorder?' is\",\"yes. Reasoning: The post clearly describes symptoms of an anxiety disorder, including persistent worry, racing thoughts, and physical symptoms like difficulty breathing and a sense of impending doom. The poster expresses excessive fear about various aspects of their life, including work and relationships, which interferes with their ability to function. The mention of physical symptoms such as feeling like they’re having a heart attack suggests panic attacks, which are commonly associated with anxiety disorders. The overall tone\n"
     ]
    }
   ],
   "source": [
    "with open('./prompts/prompt_complete_DR.txt', 'r') as file:\n",
    "    content = file.read()\n",
    "\n",
    "\n",
    "response = client_ds.chat.completions.create(\n",
    "    model=\"deepseek-chat\",\n",
    "    messages=[\n",
    "        {\"role\": \"system\", \"content\": \"You are a mental health data generation assistant\"},\n",
    "        {\"role\": \"user\", \"content\": content},\n",
    "    ],\n",
    "    stream=False,\n",
    "    temperature=1.6,\n",
    "    max_tokens=1000\n",
    ")\n",
    "\n",
    "print(response.choices[0].message.content)"
   ]
  },
  {
   "cell_type": "code",
   "execution_count": null,
   "metadata": {},
   "outputs": [
    {
     "data": {
      "text/plain": [
       "str"
      ]
     },
     "execution_count": 12,
     "metadata": {},
     "output_type": "execute_result"
    }
   ],
   "source": [
    "import csv\n",
    "import io\n",
    "import os\n",
    "\n",
    "reader = csv.reader(io.StringIO(content))\n",
    "rows = list(reader)\n",
    "\n",
    "header = ['post', 'question', 'response']\n",
    "output_csv = 'output.csv'\n",
    "\n",
    "file_exists = os.path.exists(output_csv)\n",
    "\n",
    "with open(output_csv, 'a' if file_exists else 'w', newline='', encoding='utf-8') as out_f:\n",
    "    writer = csv.writer(out_f)\n",
    "    if not file_exists:\n",
    "        writer.writerow(header)\n",
    "    writer.writerows(rows)\n",
    "\n",
    "print(f\"CSV file '{output_csv}' updated with {len(rows)} new rows of data.\")"
   ]
  },
  {
   "cell_type": "code",
   "execution_count": null,
   "metadata": {},
   "outputs": [],
   "source": []
  },
  {
   "cell_type": "code",
   "execution_count": null,
   "metadata": {},
   "outputs": [],
   "source": [
    "# data prepossessing"
   ]
  }
 ],
 "metadata": {
  "kernelspec": {
   "display_name": "python_ml",
   "language": "python",
   "name": "python3"
  },
  "language_info": {
   "codemirror_mode": {
    "name": "ipython",
    "version": 3
   },
   "file_extension": ".py",
   "mimetype": "text/x-python",
   "name": "python",
   "nbconvert_exporter": "python",
   "pygments_lexer": "ipython3",
   "version": "3.11.11"
  }
 },
 "nbformat": 4,
 "nbformat_minor": 2
}
