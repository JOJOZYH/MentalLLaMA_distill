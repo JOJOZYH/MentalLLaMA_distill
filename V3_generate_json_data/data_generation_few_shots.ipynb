{
 "cells": [
  {
   "cell_type": "code",
   "execution_count": 1,
   "metadata": {},
   "outputs": [],
   "source": [
    "from openai import OpenAI\n",
    "import json"
   ]
  },
  {
   "cell_type": "code",
   "execution_count": 2,
   "metadata": {},
   "outputs": [],
   "source": [
    "import generate_few_prompts"
   ]
  },
  {
   "cell_type": "code",
   "execution_count": 84,
   "metadata": {},
   "outputs": [],
   "source": [
    "client = OpenAI(api_key=\"sk-222f957d1a354c51ac268b01f978403a\", base_url=\"https://api.deepseek.com\")\n",
    "\n",
    "def generate_mental_health_case(batch_size = 5, seed=None):\n",
    "    examples = generate_few_prompts.generate_few_prompts(path=\"./combined.csv\", seed=seed)  \n",
    "    print(examples[0])\n",
    "    print(examples[1])\n",
    "    print(examples[2])\n",
    "    \n",
    "    system_prompt = system_prompt = f\"\"\"You are a mental health analysis assistant. Generate {batch_size} DISTINCT cases in JSON ARRAY format following these rules:\n",
    "    ```json\n",
    "    [\n",
    "        {{\n",
    "            \"query\": \"Consider this post: '[social media posts that may or may not indicate mental health issue sign]' \",\n",
    "            \"question\": \"The answer to the question 'Does the poster show signs of [certain mental health issue]?' is\",\n",
    "            \"answer\": \"[yes/no]. [whether the post shows the causation of ] [certain mental health issue] \",\n",
    "            \"reasoning\": \"[Clinical analysis and reasoning why or why not showing [certain mental health issue] signs]\"\n",
    "        }},\n",
    "        ...\n",
    "    ]\n",
    "    ```\n",
    "    Examples:\n",
    "    1. {examples[0]}\n",
    "    2. {examples[1]}\n",
    "    3. {examples[2]}\n",
    "    Requirements:\n",
    "    1. Post must contain the four required fields and must generate {batch_size} cases.\n",
    "    2. Reasoning must reference specific post content and clinical concepts.\n",
    "    3. Authentic Style:\n",
    "     - Write the “post” as though it might appear on social media (e.g., casual or emotional language, sharing everyday worries, frustrations, or confessions).\n",
    "    \"\"\"\n",
    "    try:\n",
    "        response = client.chat.completions.create(\n",
    "            model=\"deepseek-chat\",\n",
    "            messages=[\n",
    "                {\"role\": \"system\", \"content\": system_prompt},\n",
    "                {\"role\": \"user\", \"content\": \"Generate a new mental health case analysis.\"}\n",
    "            ],\n",
    "            temperature=0.7,\n",
    "            max_tokens=1000 * batch_size,\n",
    "            response_format={\"type\": \"json_object\"}\n",
    "\n",
    "        )\n",
    "        results = json.loads(response.choices[0].message.content)\n",
    "        return results\n",
    "    except Exception as e:\n",
    "        print(f\"Generation failed: {str(e)}\")\n",
    "        return None\n"
   ]
  },
  {
   "cell_type": "code",
   "execution_count": 85,
   "metadata": {},
   "outputs": [],
   "source": [
    "def generate_pipline(output_file=\"/Users/guoyihan/EECS 545/generated_dataset.json\", num_cases=20):\n",
    "    cases = []\n",
    "    for i in range(num_cases):\n",
    "        results = generate_mental_health_case(batch_size=5, seed=i)\n",
    "        if results and \"cases\" in results:\n",
    "            cases.extend(results[\"cases\"])\n",
    "    with open(output_file, 'w') as f:\n",
    "        json.dump(cases, f, indent=4)\n",
    "    print(f\"Generated {len(cases)} mental health cases. Saved to {output_file}\")"
   ]
  },
  {
   "cell_type": "code",
   "execution_count": 86,
   "metadata": {},
   "outputs": [
    {
     "name": "stderr",
     "output_type": "stream",
     "text": [
      "/Users/guoyihan/EECS 545/Mentalllm/generate_few_prompts.py:14: FutureWarning: Series.__getitem__ treating keys as positions is deprecated. In a future version, integer keys will always be treated as labels (consistent with DataFrame behavior). To access a value by position, use `ser.iloc[pos]`\n",
      "  \"query\": row[0].split(\" Question: \")[0],\n",
      "/Users/guoyihan/EECS 545/Mentalllm/generate_few_prompts.py:15: FutureWarning: Series.__getitem__ treating keys as positions is deprecated. In a future version, integer keys will always be treated as labels (consistent with DataFrame behavior). To access a value by position, use `ser.iloc[pos]`\n",
      "  \"Question\": row[0].split(\" Question: \")[1],\n",
      "/Users/guoyihan/EECS 545/Mentalllm/generate_few_prompts.py:16: FutureWarning: Series.__getitem__ treating keys as positions is deprecated. In a future version, integer keys will always be treated as labels (consistent with DataFrame behavior). To access a value by position, use `ser.iloc[pos]`\n",
      "  \"answer\": row[1].split(\" Reasoning: \")[0],\n",
      "/Users/guoyihan/EECS 545/Mentalllm/generate_few_prompts.py:17: FutureWarning: Series.__getitem__ treating keys as positions is deprecated. In a future version, integer keys will always be treated as labels (consistent with DataFrame behavior). To access a value by position, use `ser.iloc[pos]`\n",
      "  \"Reasoning\": row[1].split(\" Reasoning: \")[1]\n"
     ]
    },
    {
     "name": "stdout",
     "output_type": "stream",
     "text": [
      "{'query': 'Consider this post: \"Lately it feels like a haven\\'t been doing enough with my life I have no job even though I\\'ve applied to a lot of places. I rarely leave the house now and I don\\'t feel like I have the energy to leave I feel like a drone doing the same things everyday any advice on how to break this pattern?\"', 'Question': 'What cause of depression does this post show?', 'answer': 'This post shows causes of depression related to jobs and career.', 'Reasoning': 'The post mentions the dilemma of not having a job despite applying to many places, which points to the fact that the poster is suffering from Jobs and career stress. The post also mentions the lack of energy to go out and the secondary effects of the stress of not having a job can easily lead to a vicious cycle that makes it more difficult for the posters to get out of their emotional dilemmas.'}\n",
      "{'query': 'Consider this post: \"I think about multiple ways of killing myself everyday but I can\\'t bring myself to do it.\\nI\\'m so done feeling so so alone. I have friends who I can talk to, but I feel like I\\'m burdening them everytime. I\\'m pretty much done with my life. my studies are going nowhere, and I have no motivation in life.\\n\\nI thought of running into the road, but I wouldn\\'t want to be that selfish and traumatise some innocent driver. I thought of throwing myself off the building, but I wouldn\\'t want my family to be burdened with that gruesome image. \"', 'Question': 'Does the poster suffer from depression?', 'answer': 'Yes, the poster suffers from depression.', 'Reasoning': 'The poster is expressing very clear and concerning symptoms of severe depression or a related mental health condition. They mention recurrent suicidal ideation, feelings of isolation, the perception of being a burden to others, a lack of motivation, and a sense of hopelessness about their future. These are all significant warning signs.'}\n",
      "{'query': 'Consider this post: \"I did something really stupid cause i panicked and swerved into another car. I____e had nightmares of this scenario happening. Why can____ I do anything right? I hate existing so much. I hate myself. I hate how useless I am. I hate how anxious I get. I hate how i get easily distracted by my own thoughts. I hate how I caused unecessary financial issues. Im just glad no one was hurt.\"', 'Question': 'Does the vocational wellness dimension exist in the post?', 'answer': 'Yes, this wellness dimension exists in the post.', 'Reasoning': 'Although the post does not explicitly mention work or career-related concerns, the mention of causing unnecessary financial issues suggests that there may be an impact on the vocational aspect of wellness. This is because financial issues can often be related to work or career.'}\n"
     ]
    },
    {
     "name": "stderr",
     "output_type": "stream",
     "text": [
      "/Users/guoyihan/EECS 545/Mentalllm/generate_few_prompts.py:14: FutureWarning: Series.__getitem__ treating keys as positions is deprecated. In a future version, integer keys will always be treated as labels (consistent with DataFrame behavior). To access a value by position, use `ser.iloc[pos]`\n",
      "  \"query\": row[0].split(\" Question: \")[0],\n",
      "/Users/guoyihan/EECS 545/Mentalllm/generate_few_prompts.py:15: FutureWarning: Series.__getitem__ treating keys as positions is deprecated. In a future version, integer keys will always be treated as labels (consistent with DataFrame behavior). To access a value by position, use `ser.iloc[pos]`\n",
      "  \"Question\": row[0].split(\" Question: \")[1],\n",
      "/Users/guoyihan/EECS 545/Mentalllm/generate_few_prompts.py:16: FutureWarning: Series.__getitem__ treating keys as positions is deprecated. In a future version, integer keys will always be treated as labels (consistent with DataFrame behavior). To access a value by position, use `ser.iloc[pos]`\n",
      "  \"answer\": row[1].split(\" Reasoning: \")[0],\n",
      "/Users/guoyihan/EECS 545/Mentalllm/generate_few_prompts.py:17: FutureWarning: Series.__getitem__ treating keys as positions is deprecated. In a future version, integer keys will always be treated as labels (consistent with DataFrame behavior). To access a value by position, use `ser.iloc[pos]`\n",
      "  \"Reasoning\": row[1].split(\" Reasoning: \")[1]\n"
     ]
    },
    {
     "name": "stdout",
     "output_type": "stream",
     "text": [
      "{'query': 'Consider this post: \"I\\'m not sure which is worse: to be completely physically alone or mentally alone despite there being physical presence. Although I don\\'t have to pretend to be mentally okay when I\\'m on my own.\"', 'Question': 'Does the social wellness dimension exist in the post?', 'answer': 'Yes, this wellness dimension exists in the post.', 'Reasoning': 'The post discusses the interplay between physical and mental solitude, which reflects the interdependence between individuals and their mental states. The author also highlights the difference between being mentally alone when physically present, indicating their awareness of the connection between their internal and external experiences.'}\n",
      "{'query': 'Consider this post: \"Hey can anyone help All i can think of nowadays is how to kill myself. I don\\'t really want to do it but i find getting closer every day. I don\\'t know how to cope with life. Like I\\'m losing my mind over small things but it feels like they are the only things that matter. I feel like when i graduate high school I\\'m gonna be out of my safety net and everyone\\'s gonna know what a loser i am (never been the social kind). So I feel like I\\'ve set myself a deadline for suicide and I\\'m scared i actually might follow through. I feel like a chump blabbering but it feels good to write it out.\"', 'Question': 'What mental disorder symptoms does this post show?', 'answer': 'This post shows mental disorder symptoms related to suicide.', 'Reasoning': 'The post prominently features thoughts of self-harm and an expressed fear of potential suicidal actions in the future, especially with the mention of setting a \"deadline for suicide.\" Despite the individual stating they \"don\\'t really want to do it,\" the pervasive thoughts and the self-imposed deadline suggest a significant risk and a need for immediate intervention. The poster describes feelings of hopelessness, significant distress, and a fear of the future which are all common indicators associated with suicidal ideation.'}\n",
      "{'query': 'Consider this post: \"I don\\'t know what to do. I feel terrible! I\\'m so blank and I have a heavy feeling in my chest. I feel sad. I keep spacing out I just want to lay in bed and sleep. I hate being awake, I hate not being able to feel happy. Why am I sad, why do I hurt every fucken day? I feel so lonely. Everyone thinks I Amncrazy for being depressed. Nobody ever understands me. I always feel like a burden to everyone just for being sad. They say to cheer up or to stay distracted, that it will pass. It\\'s easier to have a reason for being sad but when you don\\'t even know why you\\'re hurting- it\\'s so unbearable. I have no one in my life who understands. My mind is breaking. I\\'m breaking. I feel so crazy. I try to win but I\\'m always losing to my self. I hate my thoughts. I\\'m so afraid of how I\\'m feeling, how nasty it fees to be depressed. I can feel every single negative emotion creeping up all over my body. There\\'s time when I just want to go to a psych home. I\\'m afraid of what I\\'m becoming. I hate who i am. I\\'m nothing.\"', 'Question': 'Does the poster suffer from loneliness?', 'answer': 'Yes, the poster suffers from loneliness.', 'Reasoning': 'The poster describes intense feelings of sadness, despair, and confusion. They are overwhelmed with negative emotions and have an overarching desire to escape their current mental state, preferably through sleep. The poster touches upon the difficulties of experiencing unexplained sadness and the additional pain it brings. There\\'s a direct mention of feeling isolated in their experiences, indicating that they believe nobody in their life understands the depth of their pain. This feeling is exacerbated by reactions from others, who advise them to simply \"cheer up\" or remain distracted, highlighting a lack of genuine empathy or understanding from their surroundings. The poster grapples with self-loathing, a fear of their evolving mental state, and a desire for professional intervention.The post directly shows loneliness. The poster explicitly states, \"I feel so lonely\" and mentions a lack of understanding and support from others in their life. The feeling of isolation is a recurring theme, underscored by the perception that no one truly comprehends the depth and complexity of their emotional turmoil.'}\n"
     ]
    },
    {
     "name": "stderr",
     "output_type": "stream",
     "text": [
      "/Users/guoyihan/EECS 545/Mentalllm/generate_few_prompts.py:14: FutureWarning: Series.__getitem__ treating keys as positions is deprecated. In a future version, integer keys will always be treated as labels (consistent with DataFrame behavior). To access a value by position, use `ser.iloc[pos]`\n",
      "  \"query\": row[0].split(\" Question: \")[0],\n",
      "/Users/guoyihan/EECS 545/Mentalllm/generate_few_prompts.py:15: FutureWarning: Series.__getitem__ treating keys as positions is deprecated. In a future version, integer keys will always be treated as labels (consistent with DataFrame behavior). To access a value by position, use `ser.iloc[pos]`\n",
      "  \"Question\": row[0].split(\" Question: \")[1],\n",
      "/Users/guoyihan/EECS 545/Mentalllm/generate_few_prompts.py:16: FutureWarning: Series.__getitem__ treating keys as positions is deprecated. In a future version, integer keys will always be treated as labels (consistent with DataFrame behavior). To access a value by position, use `ser.iloc[pos]`\n",
      "  \"answer\": row[1].split(\" Reasoning: \")[0],\n",
      "/Users/guoyihan/EECS 545/Mentalllm/generate_few_prompts.py:17: FutureWarning: Series.__getitem__ treating keys as positions is deprecated. In a future version, integer keys will always be treated as labels (consistent with DataFrame behavior). To access a value by position, use `ser.iloc[pos]`\n",
      "  \"Reasoning\": row[1].split(\" Reasoning: \")[1]\n"
     ]
    },
    {
     "name": "stdout",
     "output_type": "stream",
     "text": [
      "{'query': 'Consider this post: \"It\\'s six hours until New Year here and I just want to curl up and die. I\\'ve had depression for as long as I can remember but it recently has become worse. My boyfriend of 2 and a half years (who I live and work with) broke up with two weeks ago. Tonight he has gone to one of our colleagues house parties, I wasn\\'t invited. No one invited me anywhere and I don\\'t blame them. I\\'m not angry that he went, I am angry at myself. I have no friends, live miles away from any family and at the age of almost 28 have nothing to live for. I try to stay upbeat but I really don\\'t see the point. I\\'ve alienated myself from everyone and this is what I get. I just want it all to be over.\"', 'Question': 'Does the poster suffer from loneliness?', 'answer': 'Yes, the poster suffers from loneliness.', 'Reasoning': \"The post directly shows feelings of loneliness.The poster mentions feeling depressed for a long time, with a recent intensification of those feelings due to a breakup with their boyfriend of 2.5 years. With New Year's approaching, they highlight their isolation: not being invited anywhere, having no friends, and living far from family. The poster expresses intense despair, resentment towards themselves, and a lack of purpose in life.\"}\n",
      "{'query': 'Consider this post: \"Meal plan bipolar, blood sugar levels Hi I was wondering if anyone had thought about, researched or found a good meal plan to stick to for bipolar or schizoaffective disorder. I am currently at 283 pounds 6 foot 3 male, 26 years of age. My belly just keeps getting bigger and bigger. I know from my research cutting out sugar and carbs is a good option because it stabilizes blood sugar. Some sites even suggest cutting out gluten, citing a correlation in improvement after cutting out gluten but not knowing why it helps improve symptoms. I can not even exercise to burn many calories as I am so over weight. I can walk for about 10 minutes, that is providing my mood is good. I go for at least 1, 10 minute walk a day and sometimes up to 5 times a day. Which is nearly an hour of exersise. I am also a college student, but, in my family growing up we relied heavily on pastas, breads, canned and frozen food. I find myself not even knowing how to grocery shopping anymore with all this nutritional advice flying at me. I do not expect my weight to plateau, even if it does I don\\'t want to be 350 pounds. I also now have metabolic syndrome.\\nAny advice, tips, groceries shopping tips welcome.\\nThank you\"', 'Question': 'What mental disorder symptoms does this post show?', 'answer': 'This post shows mental disorder symptoms related to bipolar disorder.', 'Reasoning': 'The individual specifically mentions seeking a meal plan for bipolar or schizoaffective disorder. The context provided centers around managing their weight and health in relation to their bipolar disorder. The mention of mood affecting their exercise habits also points towards the diagnosis of bipolar disorder.'}\n",
      "{'query': 'Consider this post: \"Does the Senate hate women? Sign the damn Women\\'s Rights Treaty That U.S. Has Not Signed huff.to/or1uD6\"', 'Question': 'What mental disorder does this post show?', 'answer': 'This post shows no mental disorders.', 'Reasoning': 'This post seems to be expressing political frustration and advocating for a specific action regarding a treaty. It does not directly provide information indicating that the author is experiencing symptoms or behaviors related to suicide, depression, PTSD, or self-harm.'}\n"
     ]
    },
    {
     "name": "stderr",
     "output_type": "stream",
     "text": [
      "/Users/guoyihan/EECS 545/Mentalllm/generate_few_prompts.py:14: FutureWarning: Series.__getitem__ treating keys as positions is deprecated. In a future version, integer keys will always be treated as labels (consistent with DataFrame behavior). To access a value by position, use `ser.iloc[pos]`\n",
      "  \"query\": row[0].split(\" Question: \")[0],\n",
      "/Users/guoyihan/EECS 545/Mentalllm/generate_few_prompts.py:15: FutureWarning: Series.__getitem__ treating keys as positions is deprecated. In a future version, integer keys will always be treated as labels (consistent with DataFrame behavior). To access a value by position, use `ser.iloc[pos]`\n",
      "  \"Question\": row[0].split(\" Question: \")[1],\n",
      "/Users/guoyihan/EECS 545/Mentalllm/generate_few_prompts.py:16: FutureWarning: Series.__getitem__ treating keys as positions is deprecated. In a future version, integer keys will always be treated as labels (consistent with DataFrame behavior). To access a value by position, use `ser.iloc[pos]`\n",
      "  \"answer\": row[1].split(\" Reasoning: \")[0],\n",
      "/Users/guoyihan/EECS 545/Mentalllm/generate_few_prompts.py:17: FutureWarning: Series.__getitem__ treating keys as positions is deprecated. In a future version, integer keys will always be treated as labels (consistent with DataFrame behavior). To access a value by position, use `ser.iloc[pos]`\n",
      "  \"Reasoning\": row[1].split(\" Reasoning: \")[1]\n"
     ]
    },
    {
     "name": "stdout",
     "output_type": "stream",
     "text": [
      "{'query': 'Consider this post: \"i’m really gonna kill myself one of beck’s best sketches is no where to be found\"', 'Question': 'What mental disorder does this post show?', 'answer': 'This post shows suicide or self-harm tendency.', 'Reasoning': 'The phrase \"i\\'m really gonna kill myself\" indicates potential suicidal inclinations or a risk of self-harm. The individual seems deeply upset about not locating one of Beck\\'s notable sketches. Such an intense emotional response to what appears to be a minor issue might suggest deeper mental health challenges.'}\n",
      "{'query': 'Consider this post: \"Recently I received some bad news at home _ another health issue one would think would never impact me, even indirectly.  I don__ want to get into those details, but it led me to decide I needed to stop medication because my __uck_ is so bad no matter how good the medication I am still going to endure an incessant stream of negative events and circumstances that will overwhelm me.  My life is a story of waste: Brilliant, but not using that brain power at work; successful, but not enough to reach my goals.  Nothing ever comes easy and I see bad people left and right get their way.  It drives me nuts, and feeds into the __lack and white thinking_ that plagues me.  So I met with my doctor to ask how to get off my medication altogether.  Previously, he expressed shock at the cocktail I was taking and said he would not continue the malpractice of my old doctor, who recently closed her practice.  He did not try to convince me to stay on the medication, or change to something else.  I__ thankful he was honest about the methods to get off the pills.  But, it turns out the safe way to get off my medications will require over a year of weaning off them.  I wanted to stop going to doctors soon, but now I have to go through this process for over a year.  I handled the news well, surprisingly well. Still, it is incredibly difficult to live with my negative thinking, disturbing life events, a constant sense of failure and inadequacy, and potential withdrawals so serious I have to go through a year of tapering off meds.  I just needed to vent.  I feel like I have no one and nothing.  I constantly mutter things under my breath (often without realizing it) such as __ hate my life._  It__ just hard to see how the story of my life turns out well.\"', 'Question': 'What cause of depression does this post show?', 'answer': 'This post shows causes of depression related to medication.', 'Reasoning': \"The paragraphs describe the author's recent experience of receiving bad news regarding a health issue at home. This news led them to decide to stop taking medication and they believe their luck is consistently bad, regardless of the effectiveness of the medication. They express feelings of waste in their life, acknowledging their intelligence and some level of success but feeling that they are not utilizing their potential and struggling to achieve their goals.The post mentions that they wanted to stop seeing their doctor as soon as possible, but had to spend a year working with their doctor to slowly wean themselves off the medication due to severe withdrawal reactions, suggesting that the medication acted as a greater source of stress.\"}\n",
      "{'query': 'Consider this post: \"They weep after every session with me and all I can do is give them the thousand yard stare. I don\\'t even know how to feel yet my girlfriend says I\\'m selfless to a fault how I can be I don\\'t know she always says she wishes she could have rescued kid me from my mother and has been the saint of a women that is still by my side and still wants to marry me. How and why I don\\'t know I feel worthless ans like I have nothing to offer up other than my love and the constant promise I\\'ll never leave her. I have lashed out so many times at her for things not even done by her and I die inside a little more everytime I do. I know she knows why it happens and understands the brain chimstry behind my psych issues as she is a sociology and psychology major/minor.\"', 'Question': 'Does the poster suffer from stress?', 'answer': 'Yes, the poster suffers from stress.', 'Reasoning': 'The poster describes deep emotional reactions such as weeping and feelings of worthlessness. They also mention the strain in their relationship, as evidenced by instances of lashing out at their girlfriend and feeling regret afterwards. The reference to their past with their mother, the need to be \"rescued,\" and the mention of their psychological issues all indicate significant emotional turmoil and stress.'}\n"
     ]
    },
    {
     "name": "stderr",
     "output_type": "stream",
     "text": [
      "/Users/guoyihan/EECS 545/Mentalllm/generate_few_prompts.py:14: FutureWarning: Series.__getitem__ treating keys as positions is deprecated. In a future version, integer keys will always be treated as labels (consistent with DataFrame behavior). To access a value by position, use `ser.iloc[pos]`\n",
      "  \"query\": row[0].split(\" Question: \")[0],\n",
      "/Users/guoyihan/EECS 545/Mentalllm/generate_few_prompts.py:15: FutureWarning: Series.__getitem__ treating keys as positions is deprecated. In a future version, integer keys will always be treated as labels (consistent with DataFrame behavior). To access a value by position, use `ser.iloc[pos]`\n",
      "  \"Question\": row[0].split(\" Question: \")[1],\n",
      "/Users/guoyihan/EECS 545/Mentalllm/generate_few_prompts.py:16: FutureWarning: Series.__getitem__ treating keys as positions is deprecated. In a future version, integer keys will always be treated as labels (consistent with DataFrame behavior). To access a value by position, use `ser.iloc[pos]`\n",
      "  \"answer\": row[1].split(\" Reasoning: \")[0],\n",
      "/Users/guoyihan/EECS 545/Mentalllm/generate_few_prompts.py:17: FutureWarning: Series.__getitem__ treating keys as positions is deprecated. In a future version, integer keys will always be treated as labels (consistent with DataFrame behavior). To access a value by position, use `ser.iloc[pos]`\n",
      "  \"Reasoning\": row[1].split(\" Reasoning: \")[1]\n"
     ]
    },
    {
     "name": "stdout",
     "output_type": "stream",
     "text": [
      "{'query': 'Consider this post: \"Looking for friends.\\nI\\'m a socially awkward college student that\\'d like to make some friends. Not necessarily hangin out (would be nice sometimes) but just want people to talk too, so it\\'s all good if you don\\'t live near me. :)\"', 'Question': 'Does the poster suffer from depression?', 'answer': 'No, the poster does not suffer from depression.', 'Reasoning': \"The poster express a desire for social connection and admit to being socially awkward, which might indicate feelings of loneliness or difficulty in forming social bonds. However, these feelings are not uncommon among college students or people in general, and it doesn't necessarily mean they are suffering from depression.\"}\n",
      "{'query': 'Consider this post: \"Classmate/ bullying problems\\nI have a classmate who constantly bullies our other classmates. Seems like she feels as if she is superior, the leader of our whole class and everyone has to follow and do what she says. If someone is late to the meetings she is harassing them. She is being very rude and insulting. Her voice is always extremely loud, and if she has a problem with people she always shouts it to the class instead of approaching the person and discussing it with them like a normal person would do.\\n\\nFor example, she was upset with a group of her classmates because they didnt want to follow whatever she says, and she heard that they might have said something bad about her, but instead of approaching them to ask them about it, if its true or whatsoever, everytime we have meetings she will just talk extra loud and will let our whole class listen to her nonsense comments like she keeps on talking about \"fake people\", as if she wanted the group who said something about her to hear it and feel guilty.\\n\\nI dont get why she does it and why she is the way she is. Does anyone have an idea? And what should we do about it? It\\'s getting annoying and I know already if we would approach and talk to her she would put the blame on everyone else and just be more mad and find stupid excuses. Does anyone have any advice? By the way, including teachers or some other people doesnt help either so any other advices or info to shed light on this is welcome. Thank you\"', 'Question': 'Does the poster suffer from depression?', 'answer': 'No, the poster does not suffer from depression.', 'Reasoning': \"The poster describes a classmate who exhibits aggressive, domineering, and confrontational behavior. This individual seems to be seeking control over their peers, often resorting to public humiliation and indirect, passive-aggressive tactics rather than direct communication. The bully's actions cause distress among classmates, and attempts to involve authority figures like teachers haven't been successful.While the behaviors described are indicative of someone with potentially deep-seated issues or insecurities, it's not conclusive evidence that the aggressive classmate suffers from depression.\"}\n",
      "{'query': 'Consider this post: \"I don\\'t love you anymore but I still care if you\\'re dating a lair. I dated my ex for 4+ years and loved him but knew we weren\\'t right for each other. We couldn\\'t be friends because that hurt him too much. He\\'s a good guy, he\\'s smart and has a masters of engineering. Today I found out that he\\'s dating a woman who just got off from probation for impersonating children with cancer and used the donations to pay for drugs. He has long term health issues that comes with a pain management script for what ever he needs (oxey, ect).\\n\\nHe hates me for leaving and I\\'m not supposed to care but her motives scare the shit out of me and I can\\'t say anything. I wish you the best but I hope you know what you\\'re doing. \"', 'Question': 'What mental disorder symptoms does this post show?', 'answer': 'This post shows no mental disorder symptoms.', 'Reasoning': \"The content mainly delves into the author's sentiments about their former partner and worries regarding his current relationship. There aren't direct references or detailed portrayals related to symptoms typical of mental illnesses. The emphasis is largely on emotional responses and interpersonal dynamics.\"}\n"
     ]
    },
    {
     "name": "stderr",
     "output_type": "stream",
     "text": [
      "/Users/guoyihan/EECS 545/Mentalllm/generate_few_prompts.py:14: FutureWarning: Series.__getitem__ treating keys as positions is deprecated. In a future version, integer keys will always be treated as labels (consistent with DataFrame behavior). To access a value by position, use `ser.iloc[pos]`\n",
      "  \"query\": row[0].split(\" Question: \")[0],\n",
      "/Users/guoyihan/EECS 545/Mentalllm/generate_few_prompts.py:15: FutureWarning: Series.__getitem__ treating keys as positions is deprecated. In a future version, integer keys will always be treated as labels (consistent with DataFrame behavior). To access a value by position, use `ser.iloc[pos]`\n",
      "  \"Question\": row[0].split(\" Question: \")[1],\n",
      "/Users/guoyihan/EECS 545/Mentalllm/generate_few_prompts.py:16: FutureWarning: Series.__getitem__ treating keys as positions is deprecated. In a future version, integer keys will always be treated as labels (consistent with DataFrame behavior). To access a value by position, use `ser.iloc[pos]`\n",
      "  \"answer\": row[1].split(\" Reasoning: \")[0],\n",
      "/Users/guoyihan/EECS 545/Mentalllm/generate_few_prompts.py:17: FutureWarning: Series.__getitem__ treating keys as positions is deprecated. In a future version, integer keys will always be treated as labels (consistent with DataFrame behavior). To access a value by position, use `ser.iloc[pos]`\n",
      "  \"Reasoning\": row[1].split(\" Reasoning: \")[1]\n"
     ]
    },
    {
     "name": "stdout",
     "output_type": "stream",
     "text": [
      "{'query': 'Consider this post: \"I found out accidentally last week that all of my friends are going to another one of my friend\\'s party. I was not invited. My one friend who isn\\'t going isn\\'t responding to my texts. So now I\\'m alone at my house with Chinese food and beer. This past month I\\'ve felt more alone than I\\'ve ever have and i don\\'t know how to deal with it. I\\'m starting to realize my place in friendships as the excess, the one who is forgotten or dismissed. This NYE was the icing to the cake. I\\'m hoping that 2017 will be better but it\\'s not promising. Does this feeling of loneliness ever get better? Im scared that if I don\\'t do something about it, it\\'ll spiral out of control and that terrifies me\"', 'Question': 'Does the poster suffer from loneliness?', 'answer': 'Yes, the poster suffers from loneliness.', 'Reasoning': 'The poster reveals an experience of feeling excluded, notably from a friend\\'s gathering that many of their friends are attending without them. They are currently spending their time alone, resorting to comfort in the form of food and drink. The poster has identified a pattern of feeling marginalized in their friendships, feeling like an \"excess\" or someone who\\'s easily forgotten. This recent event has intensified their sense of loneliness, and they are grappling with the fear of these feelings escalating.The post directly shows loneliness. The explicit mention of being alone on a significant occasion, combined with the recurring feelings of being the disposable friend and questioning the long-term trajectory of their loneliness, underscores a profound sense of isolation and a craving for meaningful connection.'}\n",
      "{'query': 'Consider this post: \"and things get really bad so that i can finally kill myself. I\\'m so sick of not able to kill myself because there is always this voice saying it\\'s not that bad and not having enough courage because things are not that bad. There is no point anymore in trying so hard every year when nothing gets better. I\\'m so tired of living like this and waiting for nothing. And happy new year to everyone with mental illness and i hope this year turn out to be great for you all.\"', 'Question': 'Does the post show risk of perceived burdensomeness?', 'answer': 'Yes, the post shows this risk.', 'Reasoning': \"1. The post explicitly mentions thoughts of killing oneself, expressing a desire to end one's life. This indicates a serious mental distress and a possible perception of burdensomeness, as the individual sees suicide as the solution to their struggles.\\n2. The post also mentions feeling tired of living like this and waiting for nothing. This suggests a sense of hopelessness and frustration, which can contribute to perceived burdensomeness.\\n3. Despite the negative feelings, the individual expresses well wishes to others with mental illness, which may indicate a desire for empathy and connection. However, this does not negate the presence of risk factors for perceived burdensomeness in the post.\"}\n",
      "{'query': 'Consider this post: \"I have a family of 75+ people on my mom\\'s side, and I\\'m the only gay person. I\\'m also adopted, but I feel like I\\'ve never felt like I fit in in the family. I feel like the odd one out, the outcast, the black sheep. Whenever I talk to cousins or other family members, I don\\'t feel like I belong. Also, I\\'m the only gay person, which I know my very Catholic family won\\'t like when my partner and I get married. I feel like that\\'ll just make things worse and that they\\'ll shun me from the family. My parents are very conservative, however my brother and I are very close. He isn\\'t adopted, he\\'s my adoptive parents own kid. He\\'s 28, and I\\'m 22. We like the same things, many of his friends are my friends, and we just get along so well! He\\'s also non-religious, and has said that he will come to my wedding despite what my parents think or say. I\\'m also non-religious, I don\\'t believe in any gods. Is there anything I can do to help alleviate these feelings?\"', 'Question': 'Does the social wellness dimension exist in the post?', 'answer': 'Yes, this wellness dimension exists in the post.', 'Reasoning': 'The post discusses the individual\\'s feelings of not fitting in with their family and being the \"odd one out.\" This indicates a lack of interdependence between the individual and their family, as well as potential tension between the individual\\'s personal beliefs (being gay and non-religious) and their family\\'s values. The individual seeks advice on how to alleviate these feelings, indicating an awareness of the importance of social connections and the desire to improve their well-being in the social dimension.'}\n"
     ]
    },
    {
     "name": "stderr",
     "output_type": "stream",
     "text": [
      "/Users/guoyihan/EECS 545/Mentalllm/generate_few_prompts.py:14: FutureWarning: Series.__getitem__ treating keys as positions is deprecated. In a future version, integer keys will always be treated as labels (consistent with DataFrame behavior). To access a value by position, use `ser.iloc[pos]`\n",
      "  \"query\": row[0].split(\" Question: \")[0],\n",
      "/Users/guoyihan/EECS 545/Mentalllm/generate_few_prompts.py:15: FutureWarning: Series.__getitem__ treating keys as positions is deprecated. In a future version, integer keys will always be treated as labels (consistent with DataFrame behavior). To access a value by position, use `ser.iloc[pos]`\n",
      "  \"Question\": row[0].split(\" Question: \")[1],\n",
      "/Users/guoyihan/EECS 545/Mentalllm/generate_few_prompts.py:16: FutureWarning: Series.__getitem__ treating keys as positions is deprecated. In a future version, integer keys will always be treated as labels (consistent with DataFrame behavior). To access a value by position, use `ser.iloc[pos]`\n",
      "  \"answer\": row[1].split(\" Reasoning: \")[0],\n",
      "/Users/guoyihan/EECS 545/Mentalllm/generate_few_prompts.py:17: FutureWarning: Series.__getitem__ treating keys as positions is deprecated. In a future version, integer keys will always be treated as labels (consistent with DataFrame behavior). To access a value by position, use `ser.iloc[pos]`\n",
      "  \"Reasoning\": row[1].split(\" Reasoning: \")[1]\n"
     ]
    },
    {
     "name": "stdout",
     "output_type": "stream",
     "text": [
      "{'query': 'Consider this post: \"I did something really stupid cause i panicked and swerved into another car. I____e had nightmares of this scenario happening. Why can____ I do anything right? I hate existing so much. I hate myself. I hate how useless I am. I hate how anxious I get. I hate how i get easily distracted by my own thoughts. I hate how I caused unecessary financial issues. Im just glad no one was hurt.\"', 'Question': 'Does the vocational wellness dimension exist in the post?', 'answer': 'Yes, this wellness dimension exists in the post.', 'Reasoning': 'Although the post does not explicitly mention work or career-related concerns, the mention of causing unnecessary financial issues suggests that there may be an impact on the vocational aspect of wellness. This is because financial issues can often be related to work or career.'}\n",
      "{'query': 'Consider this post: \"I\\'ve had other things happening - lack of direction in life, nervousness about getting a job, feeling lonely by neglecting friends to do work and internships. I don\\'t know if I don\\'t love him anymore. I don\\'t know if I can get past my resentment. I don\\'t know. **Tl\\'dr: I feel numb to my boyfriend after a series of arguments/events that have left me not feeling loved or like a priority to my boyfriend.\"', 'Question': 'Does the poster suffer from stress?', 'answer': 'Yes, the poster suffers from stress.', 'Reasoning': 'The poster mentions several factors indicating potential stress. They express a lack of direction in life, nervousness about securing employment, feelings of loneliness due to prioritizing work over personal relationships, and issues within their romantic relationship, including feeling unloved and not prioritized. The accumulation of these concerns and the expressed uncertainty about their feelings towards their boyfriend suggests a state of emotional turmoil and potential stress.'}\n",
      "{'query': 'Consider this post: \"I did a few times but it always just blew up in us breaking up and then me being miserable for awhile. I just don\\'t know if I should bother anymore and commit to the fact that I\\'m alone and will probably be for the rest of my life. Both my brothers are married, most of my family members have partners apart from me so I sort of feel like the odd one out there. I\\'m sort of just unsure of what to do next.   ---\"', 'Question': 'Does the poster suffer from stress?', 'answer': 'Yes, the poster suffers from stress.', 'Reasoning': 'The language and tone of the post indicate feelings of sadness, resignation, and uncertainty. The poster mentions experiencing multiple breakups, feelings of misery, and a belief that they may remain alone for the rest of their life. These sentiments, combined with the comparison to their family members, suggest a sense of isolation and a perceived lack of belonging. The overall context of the post indicates emotional distress and a potential for stress.'}\n"
     ]
    },
    {
     "name": "stderr",
     "output_type": "stream",
     "text": [
      "/Users/guoyihan/EECS 545/Mentalllm/generate_few_prompts.py:14: FutureWarning: Series.__getitem__ treating keys as positions is deprecated. In a future version, integer keys will always be treated as labels (consistent with DataFrame behavior). To access a value by position, use `ser.iloc[pos]`\n",
      "  \"query\": row[0].split(\" Question: \")[0],\n",
      "/Users/guoyihan/EECS 545/Mentalllm/generate_few_prompts.py:15: FutureWarning: Series.__getitem__ treating keys as positions is deprecated. In a future version, integer keys will always be treated as labels (consistent with DataFrame behavior). To access a value by position, use `ser.iloc[pos]`\n",
      "  \"Question\": row[0].split(\" Question: \")[1],\n",
      "/Users/guoyihan/EECS 545/Mentalllm/generate_few_prompts.py:16: FutureWarning: Series.__getitem__ treating keys as positions is deprecated. In a future version, integer keys will always be treated as labels (consistent with DataFrame behavior). To access a value by position, use `ser.iloc[pos]`\n",
      "  \"answer\": row[1].split(\" Reasoning: \")[0],\n",
      "/Users/guoyihan/EECS 545/Mentalllm/generate_few_prompts.py:17: FutureWarning: Series.__getitem__ treating keys as positions is deprecated. In a future version, integer keys will always be treated as labels (consistent with DataFrame behavior). To access a value by position, use `ser.iloc[pos]`\n",
      "  \"Reasoning\": row[1].split(\" Reasoning: \")[1]\n"
     ]
    },
    {
     "name": "stdout",
     "output_type": "stream",
     "text": [
      "{'query': 'Consider this post: \"I think about multiple ways of killing myself everyday but I can\\'t bring myself to do it.\\nI\\'m so done feeling so so alone. I have friends who I can talk to, but I feel like I\\'m burdening them everytime. I\\'m pretty much done with my life. my studies are going nowhere, and I have no motivation in life.\\n\\nI thought of running into the road, but I wouldn\\'t want to be that selfish and traumatise some innocent driver. I thought of throwing myself off the building, but I wouldn\\'t want my family to be burdened with that gruesome image. \"', 'Question': 'Does the poster suffer from depression?', 'answer': 'Yes, the poster suffers from depression.', 'Reasoning': 'The poster is expressing very clear and concerning symptoms of severe depression or a related mental health condition. They mention recurrent suicidal ideation, feelings of isolation, the perception of being a burden to others, a lack of motivation, and a sense of hopelessness about their future. These are all significant warning signs.'}\n",
      "{'query': 'Consider this post: \"Please believe me. I want to die. Everything is numb and spinning please please please\"', 'Question': 'What mental disorder does this post show?', 'answer': 'This post shows suicide or self-harm tendency.', 'Reasoning': 'The post directly expresses a desire to die and communicates a sense of urgency and desperation, suggesting the individual may be in acute distress and at risk of self-harm or suicide.'}\n",
      "{'query': 'Consider this post: \"dealing with an emotionally unavailable best friend\\nI see my best friend a lot. I dont wear my heart on my sleeve but I\\'m emotional. I definitely give too much in a relationship and end up getting hurt because of it. My friend has troubles expressing her emotions and generally gets very annoyed when she has to \"prove herself\" because she feels like people should just trust her. She doesn\\'t have many friends because of this. I always express my irrational feelings but when shes angry she doesnt want to say anything because she doesnt want to hurt me. I don\\'t want her to hold anything in but I know that I would suffer because of the truth.\\n\\nHow do I balance our give and take? \\nIs there anyway I can help her open up? Or is that impossible?\\n\"', 'Question': 'Does the poster suffer from depression?', 'answer': 'No, the poster does not suffer from depression.', 'Reasoning': \"The post indicates emotional struggles, vulnerability, and challenges in their relationship with their friend, but these factors alone don't necessarily equate to depression.The focus of the post is on seeking solutions to the posters' dilemmas with their friend, which indicates that the overall tone of the post remains rational and positive.\"}\n"
     ]
    },
    {
     "name": "stderr",
     "output_type": "stream",
     "text": [
      "/Users/guoyihan/EECS 545/Mentalllm/generate_few_prompts.py:14: FutureWarning: Series.__getitem__ treating keys as positions is deprecated. In a future version, integer keys will always be treated as labels (consistent with DataFrame behavior). To access a value by position, use `ser.iloc[pos]`\n",
      "  \"query\": row[0].split(\" Question: \")[0],\n",
      "/Users/guoyihan/EECS 545/Mentalllm/generate_few_prompts.py:15: FutureWarning: Series.__getitem__ treating keys as positions is deprecated. In a future version, integer keys will always be treated as labels (consistent with DataFrame behavior). To access a value by position, use `ser.iloc[pos]`\n",
      "  \"Question\": row[0].split(\" Question: \")[1],\n",
      "/Users/guoyihan/EECS 545/Mentalllm/generate_few_prompts.py:16: FutureWarning: Series.__getitem__ treating keys as positions is deprecated. In a future version, integer keys will always be treated as labels (consistent with DataFrame behavior). To access a value by position, use `ser.iloc[pos]`\n",
      "  \"answer\": row[1].split(\" Reasoning: \")[0],\n",
      "/Users/guoyihan/EECS 545/Mentalllm/generate_few_prompts.py:17: FutureWarning: Series.__getitem__ treating keys as positions is deprecated. In a future version, integer keys will always be treated as labels (consistent with DataFrame behavior). To access a value by position, use `ser.iloc[pos]`\n",
      "  \"Reasoning\": row[1].split(\" Reasoning: \")[1]\n"
     ]
    },
    {
     "name": "stdout",
     "output_type": "stream",
     "text": [
      "{'query': 'Consider this post: \"I have no job, no friends and no girlfriend. All I do is play video games, hang with my dog and workout for an hour. I‚Äôm so bored with life. Worse part is I don‚Äôt wanna do anything. I don‚Äôt wanna socialize, don‚Äôt wanna go out, nothing really feels worthwhile and genuinely interesting. I‚Äôm almost 30 and life has lost all purpose. All I wait for is my next hour at the gym everyday.\"', 'Question': 'Does the post show risk of perceived burdensomeness?', 'answer': 'No, the post does not show this risk.', 'Reasoning': '1. While the post mentions feeling bored with life and lacking a sense of purpose, there is no explicit mention of feeling like a burden or that others would be better off without them. 2. The post does not express any negative self-perception or lack of self-worth, which are risk factors for perceived burdensomeness. 3. The post does mention a lack of interest in socializing and finding things worthwhile, but this does not necessarily indicate a desire to escape from perceived burdensomeness.'}\n",
      "{'query': 'Consider this post: \"The high for tomorrow is 90 and I think I might KILL MYSELF https://twitter.com/juliaalexander0/status/913857125037887488?…\"', 'Question': 'What mental disorder does this post show?', 'answer': 'This post shows suicide or self-harm tendency.', 'Reasoning': 'The statement \"I think I might KILL MYSELF\" in response to an external situation (in this case, a weather update) indicates a potential risk of self-harm or suicide, even if it may be used in a hyperbolic or exaggerated manner.'}\n",
      "{'query': 'Consider this post: \"Can anybody talk to me for a bit I’m so close to cutting myself or just killing myself, so if anyone could talk to me for a bit I’d appreciate it.\"', 'Question': 'What mental disorder symptoms does this post show?', 'answer': 'This post shows mental disorder symptoms related to suicide.', 'Reasoning': 'The individual explicitly expresses thoughts of self-harm and suicide. They are directly communicating a risk of immediate harm to themselves.'}\n"
     ]
    },
    {
     "name": "stderr",
     "output_type": "stream",
     "text": [
      "/Users/guoyihan/EECS 545/Mentalllm/generate_few_prompts.py:14: FutureWarning: Series.__getitem__ treating keys as positions is deprecated. In a future version, integer keys will always be treated as labels (consistent with DataFrame behavior). To access a value by position, use `ser.iloc[pos]`\n",
      "  \"query\": row[0].split(\" Question: \")[0],\n",
      "/Users/guoyihan/EECS 545/Mentalllm/generate_few_prompts.py:15: FutureWarning: Series.__getitem__ treating keys as positions is deprecated. In a future version, integer keys will always be treated as labels (consistent with DataFrame behavior). To access a value by position, use `ser.iloc[pos]`\n",
      "  \"Question\": row[0].split(\" Question: \")[1],\n",
      "/Users/guoyihan/EECS 545/Mentalllm/generate_few_prompts.py:16: FutureWarning: Series.__getitem__ treating keys as positions is deprecated. In a future version, integer keys will always be treated as labels (consistent with DataFrame behavior). To access a value by position, use `ser.iloc[pos]`\n",
      "  \"answer\": row[1].split(\" Reasoning: \")[0],\n",
      "/Users/guoyihan/EECS 545/Mentalllm/generate_few_prompts.py:17: FutureWarning: Series.__getitem__ treating keys as positions is deprecated. In a future version, integer keys will always be treated as labels (consistent with DataFrame behavior). To access a value by position, use `ser.iloc[pos]`\n",
      "  \"Reasoning\": row[1].split(\" Reasoning: \")[1]\n"
     ]
    },
    {
     "name": "stdout",
     "output_type": "stream",
     "text": [
      "{'query': 'Consider this post: \"Jon Gruden, @BMarshall @CarliLloyd @KarlTowns @michaelb4jordan discuss why #SportsMatter @DICKS pic.twitter.com/lAcFBBogVX\"', 'Question': 'What mental disorder does this post show?', 'answer': 'This post shows no mental disorders.', 'Reasoning': \"This post is discussing a topic related to sports and features various personalities sharing their views on why sports are important. There's no indication of any personal mental health issues in the content.\"}\n",
      "{'query': 'Consider this post: \"Lately it all seems to be going wrong, oddly enough since I last moved.\"', 'Question': 'What is the stress cause of this post?', 'answer': 'This post shows other stress causes.', 'Reasoning': '\"Lately it all seems to be going wrong\" is a broad statement that might encompass a range of issues not specifically mentioned, so the category \"Others\" is also appropriate.'}\n",
      "{'query': 'Consider this post: \"feeling anxious about being ignored Title says it all. I was trying to have a conversation today with my crush and he talked for a bit but then eventually stopped replying. I’m worried I said something I shouldn’t have or maybe he just doesn’t want to talk to me :( \\n\\n\"', 'Question': 'What mental disorder symptoms does this post show?', 'answer': 'This post shows mental disorder symptoms related to anxiety.', 'Reasoning': \"The post specifically mentions feeling anxious about a situation, in this case, being potentially ignored by someone the poster has feelings for. The worry about whether they said something wrong or the person's potential lack of interest in them indicates feelings of anxiety.\"}\n"
     ]
    },
    {
     "name": "stderr",
     "output_type": "stream",
     "text": [
      "/Users/guoyihan/EECS 545/Mentalllm/generate_few_prompts.py:14: FutureWarning: Series.__getitem__ treating keys as positions is deprecated. In a future version, integer keys will always be treated as labels (consistent with DataFrame behavior). To access a value by position, use `ser.iloc[pos]`\n",
      "  \"query\": row[0].split(\" Question: \")[0],\n",
      "/Users/guoyihan/EECS 545/Mentalllm/generate_few_prompts.py:15: FutureWarning: Series.__getitem__ treating keys as positions is deprecated. In a future version, integer keys will always be treated as labels (consistent with DataFrame behavior). To access a value by position, use `ser.iloc[pos]`\n",
      "  \"Question\": row[0].split(\" Question: \")[1],\n",
      "/Users/guoyihan/EECS 545/Mentalllm/generate_few_prompts.py:16: FutureWarning: Series.__getitem__ treating keys as positions is deprecated. In a future version, integer keys will always be treated as labels (consistent with DataFrame behavior). To access a value by position, use `ser.iloc[pos]`\n",
      "  \"answer\": row[1].split(\" Reasoning: \")[0],\n",
      "/Users/guoyihan/EECS 545/Mentalllm/generate_few_prompts.py:17: FutureWarning: Series.__getitem__ treating keys as positions is deprecated. In a future version, integer keys will always be treated as labels (consistent with DataFrame behavior). To access a value by position, use `ser.iloc[pos]`\n",
      "  \"Reasoning\": row[1].split(\" Reasoning: \")[1]\n"
     ]
    },
    {
     "name": "stdout",
     "output_type": "stream",
     "text": [
      "{'query': 'Consider this post: \"I don\\'t love you anymore but I still care if you\\'re dating a lair. I dated my ex for 4+ years and loved him but knew we weren\\'t right for each other. We couldn\\'t be friends because that hurt him too much. He\\'s a good guy, he\\'s smart and has a masters of engineering. Today I found out that he\\'s dating a woman who just got off from probation for impersonating children with cancer and used the donations to pay for drugs. He has long term health issues that comes with a pain management script for what ever he needs (oxey, ect).\\n\\nHe hates me for leaving and I\\'m not supposed to care but her motives scare the shit out of me and I can\\'t say anything. I wish you the best but I hope you know what you\\'re doing. \"', 'Question': 'What mental disorder symptoms does this post show?', 'answer': 'This post shows no mental disorder symptoms.', 'Reasoning': \"The content mainly delves into the author's sentiments about their former partner and worries regarding his current relationship. There aren't direct references or detailed portrayals related to symptoms typical of mental illnesses. The emphasis is largely on emotional responses and interpersonal dynamics.\"}\n",
      "{'query': 'Consider this post: \"Not sure the best way to describe it but for the last week and a half I have had to be social and around people every day except for a couple of hours each evening and it is KILLING ME. I’m on edge constantly because I need a break to just start over. And now I’m on the way to a 3 day work seminar in another country and I feel like there is zero mental energy left. I get back and then have work on Monday again. Anyone else feel like they need a day or two alone to “recharge” their (mental) energy?\"', 'Question': 'Does the poster suffer from stress?', 'answer': 'Yes, the poster suffers from stress.', 'Reasoning': 'The poster explicitly mentions feeling \"on edge constantly\" and feeling like there\\'s \"zero mental energy left.\" They describe being overwhelmed by prolonged social interactions and express a desire for alone time to \"recharge\" mentally. The tone and content both suggest that they are feeling drained and stressed due to their current circumstances.'}\n",
      "{'query': 'Consider this post: \"I just left a happy but low paid job which I excelled at for one with better money and better prospects. But I absolutely hate it. I hate the thought of being there. I hate the thought of not being able to do the job. I hate how much more of my time it takes up despite only being contracted for two more hours than I was at my previous job.  \\n  \\nI understand that there comes nerves with a new start but I\\'m starting to wonder if it\\'s all worth the effort if I was so much happier in my previous job, not just doing the work but it didn\\'t invade my life with thoughts when I wasn\\'t there. I have suffered from depression before, though not connected to work, and I can feel that the longer I am at my new job the less I\\'m enjoying my life. I\\'ve been absolutely miserable and unwanting to do anything in the past week. I don\\'t know what to do. Any kind words would be greatly appreciated.\"', 'Question': 'What cause of depression does this post show?', 'answer': 'This post shows causes of depression related to jobs and career.', 'Reasoning': 'The post mentions the recent job change of the poster, who misses the low-paying but competent job in the past, and loathes the new job with higher pay and better prospects. The inability to adapt to the new work environment has caused the poster a great deal of stress. At the same time, the posters also mentioned their own history of depression, although this is not related to work, but the current job has undoubtedly caused the posters emotional problems.'}\n"
     ]
    },
    {
     "name": "stderr",
     "output_type": "stream",
     "text": [
      "/Users/guoyihan/EECS 545/Mentalllm/generate_few_prompts.py:14: FutureWarning: Series.__getitem__ treating keys as positions is deprecated. In a future version, integer keys will always be treated as labels (consistent with DataFrame behavior). To access a value by position, use `ser.iloc[pos]`\n",
      "  \"query\": row[0].split(\" Question: \")[0],\n",
      "/Users/guoyihan/EECS 545/Mentalllm/generate_few_prompts.py:15: FutureWarning: Series.__getitem__ treating keys as positions is deprecated. In a future version, integer keys will always be treated as labels (consistent with DataFrame behavior). To access a value by position, use `ser.iloc[pos]`\n",
      "  \"Question\": row[0].split(\" Question: \")[1],\n",
      "/Users/guoyihan/EECS 545/Mentalllm/generate_few_prompts.py:16: FutureWarning: Series.__getitem__ treating keys as positions is deprecated. In a future version, integer keys will always be treated as labels (consistent with DataFrame behavior). To access a value by position, use `ser.iloc[pos]`\n",
      "  \"answer\": row[1].split(\" Reasoning: \")[0],\n",
      "/Users/guoyihan/EECS 545/Mentalllm/generate_few_prompts.py:17: FutureWarning: Series.__getitem__ treating keys as positions is deprecated. In a future version, integer keys will always be treated as labels (consistent with DataFrame behavior). To access a value by position, use `ser.iloc[pos]`\n",
      "  \"Reasoning\": row[1].split(\" Reasoning: \")[1]\n"
     ]
    },
    {
     "name": "stdout",
     "output_type": "stream",
     "text": [
      "{'query': 'Consider this post: \"It\\'ll be 2017 in 49 minutes. What a year 2016 has been. I lost my girlfriend of almost three years. The business I tried to get going failed before it even started. I got back in touch with the one girl I ever truely loved. Now we don\\'t talk to each other anymore - but at least she found her someone, and she\\'s doing better now. I\\'m not. I don\\'t have any friends to get drunk with tonight. So I\\'ll be hitting the gin on my own until I pass out and hopefully I\\'ll choke on my own vomit. But I digress. What I was trying to say, apart from telling the whole world \\'O how I\\'m sad, is that I know plenty of you guys and girls are in the same position. Remembering that we\\'re together in our loneliness is creepily heartwarming. Here\\'s to hoping for a better 2017 - but it won\\'t happen, right? So let\\'s hope we find bliss in our sleep never waking up again. It\\'ll be 2017 in 42 minutes. Finishing the year as it started. Happy new fucking year.\"', 'Question': 'Does the poster suffer from loneliness?', 'answer': 'Yes, the poster suffers from loneliness.', 'Reasoning': \"The poster reflects on the challenges they faced in the past year, 2016. They mention several significant setbacks, including a breakup with a long-term girlfriend, a failed business venture, and reconnection followed by loss of communication with someone they deeply cared about. The post highlights their loneliness with statements about being alone on New Year's Eve, a typically social event. Their feelings of sadness and despair are accentuated with mentions of self-harm and the desire to never wake up. The poster acknowledges the loneliness they share with others, finding some solace in knowing they are not the only ones feeling this way. They oscillate between a sliver of hope for a better new year and the deep-rooted belief that it won't come to fruition.The post directly displays loneliness. The explicit mentions of being alone on New Year's Eve, not having friends to celebrate with, and the overarching sentiment of despair underscore their isolation. The poster's acknowledgment of a shared sense of loneliness with others further emphasizes their own feelings of isolation and despair.\"}\n",
      "{'query': 'Consider this post: \"I am so tired I like can\\'t wake myself up.\"', 'Question': 'What is the stress cause of this post?', 'answer': 'This post shows the stress cause related to health issues.', 'Reasoning': \"The mention of extreme fatigue and the inability to wake up indicates a potential health concern or issue related to the individual's well-being.\"}\n",
      "{'query': 'Consider this post: \"I\\'ve had other things happening - lack of direction in life, nervousness about getting a job, feeling lonely by neglecting friends to do work and internships. I don\\'t know if I don\\'t love him anymore. I don\\'t know if I can get past my resentment. I don\\'t know. **Tl\\'dr: I feel numb to my boyfriend after a series of arguments/events that have left me not feeling loved or like a priority to my boyfriend.\"', 'Question': 'Does the poster suffer from stress?', 'answer': 'Yes, the poster suffers from stress.', 'Reasoning': 'The poster mentions several factors indicating potential stress. They express a lack of direction in life, nervousness about securing employment, feelings of loneliness due to prioritizing work over personal relationships, and issues within their romantic relationship, including feeling unloved and not prioritized. The accumulation of these concerns and the expressed uncertainty about their feelings towards their boyfriend suggests a state of emotional turmoil and potential stress.'}\n"
     ]
    },
    {
     "name": "stderr",
     "output_type": "stream",
     "text": [
      "/Users/guoyihan/EECS 545/Mentalllm/generate_few_prompts.py:14: FutureWarning: Series.__getitem__ treating keys as positions is deprecated. In a future version, integer keys will always be treated as labels (consistent with DataFrame behavior). To access a value by position, use `ser.iloc[pos]`\n",
      "  \"query\": row[0].split(\" Question: \")[0],\n",
      "/Users/guoyihan/EECS 545/Mentalllm/generate_few_prompts.py:15: FutureWarning: Series.__getitem__ treating keys as positions is deprecated. In a future version, integer keys will always be treated as labels (consistent with DataFrame behavior). To access a value by position, use `ser.iloc[pos]`\n",
      "  \"Question\": row[0].split(\" Question: \")[1],\n",
      "/Users/guoyihan/EECS 545/Mentalllm/generate_few_prompts.py:16: FutureWarning: Series.__getitem__ treating keys as positions is deprecated. In a future version, integer keys will always be treated as labels (consistent with DataFrame behavior). To access a value by position, use `ser.iloc[pos]`\n",
      "  \"answer\": row[1].split(\" Reasoning: \")[0],\n",
      "/Users/guoyihan/EECS 545/Mentalllm/generate_few_prompts.py:17: FutureWarning: Series.__getitem__ treating keys as positions is deprecated. In a future version, integer keys will always be treated as labels (consistent with DataFrame behavior). To access a value by position, use `ser.iloc[pos]`\n",
      "  \"Reasoning\": row[1].split(\" Reasoning: \")[1]\n"
     ]
    },
    {
     "name": "stdout",
     "output_type": "stream",
     "text": [
      "{'query': 'Consider this post: \"Anyone gotten off this drug? I am reading the inter webs and having the crap scared out of me. Been on it about 18 months...\"', 'Question': 'Does the post show risk of perceived burdensomeness?', 'answer': 'No, the post does not show this risk.', 'Reasoning': '1. The post does not directly mention any feelings of burden or thoughts of being better off gone. It is a question seeking information and support about getting off a specific drug. 2. While the post mentions being scared by the information found on the internet, it does not indicate any perceived burdensomeness. It is a natural concern about the potential consequences of stopping a medication.'}\n",
      "{'query': 'Consider this post: \"I\\'m tired of people trying to guilt trip me into something I don\\'t want to do.\"', 'Question': 'What is the stress cause of this post?', 'answer': 'This post shows the stress cause related to social relationships.', 'Reasoning': \"The post speaks about interactions with people trying to manipulate the poster's emotions, suggesting issues in their social relationships. Additionally, being guilt-tripped can lead to inner conflict and emotional distress, hence the label Emotional turmoil.\"}\n",
      "{'query': 'Consider this post: \"my annoying sister has been stressing me.\"', 'Question': 'What is the stress cause of this post?', 'answer': 'This post shows the stress cause related to family issues.', 'Reasoning': 'The post specifically mentions the individual\\'s \"annoying sister\" as a source of stress. When someone references a family member in relation to feelings of stress or annoyance, it typically implies some kind of familial conflict or tension. In this case, the mention of the sister as being \"annoying\" indicates that there might be disagreements, differing opinions, or behavioral aspects that are causing strain in their relationship.'}\n"
     ]
    },
    {
     "name": "stderr",
     "output_type": "stream",
     "text": [
      "/Users/guoyihan/EECS 545/Mentalllm/generate_few_prompts.py:14: FutureWarning: Series.__getitem__ treating keys as positions is deprecated. In a future version, integer keys will always be treated as labels (consistent with DataFrame behavior). To access a value by position, use `ser.iloc[pos]`\n",
      "  \"query\": row[0].split(\" Question: \")[0],\n",
      "/Users/guoyihan/EECS 545/Mentalllm/generate_few_prompts.py:15: FutureWarning: Series.__getitem__ treating keys as positions is deprecated. In a future version, integer keys will always be treated as labels (consistent with DataFrame behavior). To access a value by position, use `ser.iloc[pos]`\n",
      "  \"Question\": row[0].split(\" Question: \")[1],\n",
      "/Users/guoyihan/EECS 545/Mentalllm/generate_few_prompts.py:16: FutureWarning: Series.__getitem__ treating keys as positions is deprecated. In a future version, integer keys will always be treated as labels (consistent with DataFrame behavior). To access a value by position, use `ser.iloc[pos]`\n",
      "  \"answer\": row[1].split(\" Reasoning: \")[0],\n",
      "/Users/guoyihan/EECS 545/Mentalllm/generate_few_prompts.py:17: FutureWarning: Series.__getitem__ treating keys as positions is deprecated. In a future version, integer keys will always be treated as labels (consistent with DataFrame behavior). To access a value by position, use `ser.iloc[pos]`\n",
      "  \"Reasoning\": row[1].split(\" Reasoning: \")[1]\n"
     ]
    },
    {
     "name": "stdout",
     "output_type": "stream",
     "text": [
      "{'query': 'Consider this post: \"excepting me, I wish to me one only more pain. I don\\'t deserves for anything else. and probably my problems is so stupid and trivial. I probably just delete it\\'s because it\\'s just pile of shit, like me. So just skip this post, don\\'t even vote...\"', 'Question': 'Does the post show risk of thwarted belongingness?', 'answer': 'No, the post does not show this risk.', 'Reasoning': 'In the given post, the individual expresses self-deprecating thoughts and feelings, indicating low self-worth and potentially negative beliefs about themselves. However, the post does not specifically mention feelings of loneliness, isolation, or a lack of connectedness. While the individual may be experiencing mental disturbance, it is not necessarily related to inadequate connectedness.'}\n",
      "{'query': 'Consider this post: \"I did a few times but it always just blew up in us breaking up and then me being miserable for awhile. I just don\\'t know if I should bother anymore and commit to the fact that I\\'m alone and will probably be for the rest of my life. Both my brothers are married, most of my family members have partners apart from me so I sort of feel like the odd one out there. I\\'m sort of just unsure of what to do next.   ---\"', 'Question': 'Does the poster suffer from stress?', 'answer': 'Yes, the poster suffers from stress.', 'Reasoning': 'The language and tone of the post indicate feelings of sadness, resignation, and uncertainty. The poster mentions experiencing multiple breakups, feelings of misery, and a belief that they may remain alone for the rest of their life. These sentiments, combined with the comparison to their family members, suggest a sense of isolation and a perceived lack of belonging. The overall context of the post indicates emotional distress and a potential for stress.'}\n",
      "{'query': 'Consider this post: \"and things get really bad so that i can finally kill myself. I\\'m so sick of not able to kill myself because there is always this voice saying it\\'s not that bad and not having enough courage because things are not that bad. There is no point anymore in trying so hard every year when nothing gets better. I\\'m so tired of living like this and waiting for nothing. And happy new year to everyone with mental illness and i hope this year turn out to be great for you all.\"', 'Question': 'Does the post show risk of perceived burdensomeness?', 'answer': 'Yes, the post shows this risk.', 'Reasoning': \"1. The post explicitly mentions thoughts of killing oneself, expressing a desire to end one's life. This indicates a serious mental distress and a possible perception of burdensomeness, as the individual sees suicide as the solution to their struggles.\\n2. The post also mentions feeling tired of living like this and waiting for nothing. This suggests a sense of hopelessness and frustration, which can contribute to perceived burdensomeness.\\n3. Despite the negative feelings, the individual expresses well wishes to others with mental illness, which may indicate a desire for empathy and connection. However, this does not negate the presence of risk factors for perceived burdensomeness in the post.\"}\n"
     ]
    },
    {
     "name": "stderr",
     "output_type": "stream",
     "text": [
      "/Users/guoyihan/EECS 545/Mentalllm/generate_few_prompts.py:14: FutureWarning: Series.__getitem__ treating keys as positions is deprecated. In a future version, integer keys will always be treated as labels (consistent with DataFrame behavior). To access a value by position, use `ser.iloc[pos]`\n",
      "  \"query\": row[0].split(\" Question: \")[0],\n",
      "/Users/guoyihan/EECS 545/Mentalllm/generate_few_prompts.py:15: FutureWarning: Series.__getitem__ treating keys as positions is deprecated. In a future version, integer keys will always be treated as labels (consistent with DataFrame behavior). To access a value by position, use `ser.iloc[pos]`\n",
      "  \"Question\": row[0].split(\" Question: \")[1],\n",
      "/Users/guoyihan/EECS 545/Mentalllm/generate_few_prompts.py:16: FutureWarning: Series.__getitem__ treating keys as positions is deprecated. In a future version, integer keys will always be treated as labels (consistent with DataFrame behavior). To access a value by position, use `ser.iloc[pos]`\n",
      "  \"answer\": row[1].split(\" Reasoning: \")[0],\n",
      "/Users/guoyihan/EECS 545/Mentalllm/generate_few_prompts.py:17: FutureWarning: Series.__getitem__ treating keys as positions is deprecated. In a future version, integer keys will always be treated as labels (consistent with DataFrame behavior). To access a value by position, use `ser.iloc[pos]`\n",
      "  \"Reasoning\": row[1].split(\" Reasoning: \")[1]\n"
     ]
    },
    {
     "name": "stdout",
     "output_type": "stream",
     "text": [
      "{'query': 'Consider this post: \"Lately it feels like a haven\\'t been doing enough with my life I have no job even though I\\'ve applied to a lot of places. I rarely leave the house now and I don\\'t feel like I have the energy to leave I feel like a drone doing the same things everyday any advice on how to break this pattern?\"', 'Question': 'What cause of depression does this post show?', 'answer': 'This post shows causes of depression related to jobs and career.', 'Reasoning': 'The post mentions the dilemma of not having a job despite applying to many places, which points to the fact that the poster is suffering from Jobs and career stress. The post also mentions the lack of energy to go out and the secondary effects of the stress of not having a job can easily lead to a vicious cycle that makes it more difficult for the posters to get out of their emotional dilemmas.'}\n",
      "{'query': 'Consider this post: \"How do you explain depression to someone who just doesn‚Äôt get it or understand it at all?\"', 'Question': 'Does the post show risk of perceived burdensomeness?', 'answer': 'No, the post does not show this risk.', 'Reasoning': \"1. The post is asking for advice on how to explain depression to someone who doesn't understand it. It does not directly mention any feelings of burden or thoughts of being better off gone. 2. The response does not indicate any perceived burdensomeness. It is simply an empathetic statement expressing a desire to help someone understand depression better.\"}\n",
      "{'query': 'Consider this post: \"I just don‚Äôt know why I don‚Äôt commit suicide and die Life is full of pain and misery I have done nothing wrong and I have tried so hard but i just cannot find the happiness that I deserve My Lord I ask you for nothing but my happiness\"', 'Question': 'Does the post show risk of perceived burdensomeness?', 'answer': 'Yes, the post shows this risk.', 'Reasoning': '1. The post mentions thoughts of suicide and a desire to die. These thoughts indicate a feeling of hopelessness and potential perceived burdensomeness. 2. The post also mentions experiencing pain and misery despite feeling like they have done nothing wrong and tried their best. This suggests a lack of self-worth and dissatisfaction with their current circumstances, which can contribute to perceived burdensomeness. 3. The post expresses a plea to a higher power for happiness, indicating a desire to escape the current mental state.'}\n"
     ]
    },
    {
     "name": "stderr",
     "output_type": "stream",
     "text": [
      "/Users/guoyihan/EECS 545/Mentalllm/generate_few_prompts.py:14: FutureWarning: Series.__getitem__ treating keys as positions is deprecated. In a future version, integer keys will always be treated as labels (consistent with DataFrame behavior). To access a value by position, use `ser.iloc[pos]`\n",
      "  \"query\": row[0].split(\" Question: \")[0],\n",
      "/Users/guoyihan/EECS 545/Mentalllm/generate_few_prompts.py:15: FutureWarning: Series.__getitem__ treating keys as positions is deprecated. In a future version, integer keys will always be treated as labels (consistent with DataFrame behavior). To access a value by position, use `ser.iloc[pos]`\n",
      "  \"Question\": row[0].split(\" Question: \")[1],\n",
      "/Users/guoyihan/EECS 545/Mentalllm/generate_few_prompts.py:16: FutureWarning: Series.__getitem__ treating keys as positions is deprecated. In a future version, integer keys will always be treated as labels (consistent with DataFrame behavior). To access a value by position, use `ser.iloc[pos]`\n",
      "  \"answer\": row[1].split(\" Reasoning: \")[0],\n",
      "/Users/guoyihan/EECS 545/Mentalllm/generate_few_prompts.py:17: FutureWarning: Series.__getitem__ treating keys as positions is deprecated. In a future version, integer keys will always be treated as labels (consistent with DataFrame behavior). To access a value by position, use `ser.iloc[pos]`\n",
      "  \"Reasoning\": row[1].split(\" Reasoning: \")[1]\n"
     ]
    },
    {
     "name": "stdout",
     "output_type": "stream",
     "text": [
      "{'query': 'Consider this post: \"I don\\'t love you anymore but I still care if you\\'re dating a lair. I dated my ex for 4+ years and loved him but knew we weren\\'t right for each other. We couldn\\'t be friends because that hurt him too much. He\\'s a good guy, he\\'s smart and has a masters of engineering. Today I found out that he\\'s dating a woman who just got off from probation for impersonating children with cancer and used the donations to pay for drugs. He has long term health issues that comes with a pain management script for what ever he needs (oxey, ect).\\n\\nHe hates me for leaving and I\\'m not supposed to care but her motives scare the shit out of me and I can\\'t say anything. I wish you the best but I hope you know what you\\'re doing. \"', 'Question': 'What mental disorder symptoms does this post show?', 'answer': 'This post shows no mental disorder symptoms.', 'Reasoning': \"The content mainly delves into the author's sentiments about their former partner and worries regarding his current relationship. There aren't direct references or detailed portrayals related to symptoms typical of mental illnesses. The emphasis is largely on emotional responses and interpersonal dynamics.\"}\n",
      "{'query': 'Consider this post: \"It\\'ll be 2017 in 49 minutes. What a year 2016 has been. I lost my girlfriend of almost three years. The business I tried to get going failed before it even started. I got back in touch with the one girl I ever truely loved. Now we don\\'t talk to each other anymore - but at least she found her someone, and she\\'s doing better now. I\\'m not. I don\\'t have any friends to get drunk with tonight. So I\\'ll be hitting the gin on my own until I pass out and hopefully I\\'ll choke on my own vomit. But I digress. What I was trying to say, apart from telling the whole world \\'O how I\\'m sad, is that I know plenty of you guys and girls are in the same position. Remembering that we\\'re together in our loneliness is creepily heartwarming. Here\\'s to hoping for a better 2017 - but it won\\'t happen, right? So let\\'s hope we find bliss in our sleep never waking up again. It\\'ll be 2017 in 42 minutes. Finishing the year as it started. Happy new fucking year.\"', 'Question': 'Does the poster suffer from loneliness?', 'answer': 'Yes, the poster suffers from loneliness.', 'Reasoning': \"The poster reflects on the challenges they faced in the past year, 2016. They mention several significant setbacks, including a breakup with a long-term girlfriend, a failed business venture, and reconnection followed by loss of communication with someone they deeply cared about. The post highlights their loneliness with statements about being alone on New Year's Eve, a typically social event. Their feelings of sadness and despair are accentuated with mentions of self-harm and the desire to never wake up. The poster acknowledges the loneliness they share with others, finding some solace in knowing they are not the only ones feeling this way. They oscillate between a sliver of hope for a better new year and the deep-rooted belief that it won't come to fruition.The post directly displays loneliness. The explicit mentions of being alone on New Year's Eve, not having friends to celebrate with, and the overarching sentiment of despair underscore their isolation. The poster's acknowledgment of a shared sense of loneliness with others further emphasizes their own feelings of isolation and despair.\"}\n",
      "{'query': 'Consider this post: \"These were the first people that acknowledged me and understood how I felt. I was able to share my pain and feelings with them. I felt like I finally found those special people in my depressing life and now i will probably never see them again 铮棵济猜_？眉貌垄铮棵济猜\"', 'Question': 'Does the emotional wellness dimension exist in the post?', 'answer': 'Yes, this wellness dimension exists in the post.', 'Reasoning': 'The individual expresses feelings of connection, understanding, and the ability to share their pain and emotions with others. This demonstrates awareness and acceptance of their own feelings and their importance in finding support and connection.'}\n"
     ]
    },
    {
     "name": "stderr",
     "output_type": "stream",
     "text": [
      "/Users/guoyihan/EECS 545/Mentalllm/generate_few_prompts.py:14: FutureWarning: Series.__getitem__ treating keys as positions is deprecated. In a future version, integer keys will always be treated as labels (consistent with DataFrame behavior). To access a value by position, use `ser.iloc[pos]`\n",
      "  \"query\": row[0].split(\" Question: \")[0],\n",
      "/Users/guoyihan/EECS 545/Mentalllm/generate_few_prompts.py:15: FutureWarning: Series.__getitem__ treating keys as positions is deprecated. In a future version, integer keys will always be treated as labels (consistent with DataFrame behavior). To access a value by position, use `ser.iloc[pos]`\n",
      "  \"Question\": row[0].split(\" Question: \")[1],\n",
      "/Users/guoyihan/EECS 545/Mentalllm/generate_few_prompts.py:16: FutureWarning: Series.__getitem__ treating keys as positions is deprecated. In a future version, integer keys will always be treated as labels (consistent with DataFrame behavior). To access a value by position, use `ser.iloc[pos]`\n",
      "  \"answer\": row[1].split(\" Reasoning: \")[0],\n",
      "/Users/guoyihan/EECS 545/Mentalllm/generate_few_prompts.py:17: FutureWarning: Series.__getitem__ treating keys as positions is deprecated. In a future version, integer keys will always be treated as labels (consistent with DataFrame behavior). To access a value by position, use `ser.iloc[pos]`\n",
      "  \"Reasoning\": row[1].split(\" Reasoning: \")[1]\n"
     ]
    },
    {
     "name": "stdout",
     "output_type": "stream",
     "text": [
      "{'query': 'Consider this post: \"I think about multiple ways of killing myself everyday but I can\\'t bring myself to do it.\\nI\\'m so done feeling so so alone. I have friends who I can talk to, but I feel like I\\'m burdening them everytime. I\\'m pretty much done with my life. my studies are going nowhere, and I have no motivation in life.\\n\\nI thought of running into the road, but I wouldn\\'t want to be that selfish and traumatise some innocent driver. I thought of throwing myself off the building, but I wouldn\\'t want my family to be burdened with that gruesome image. \"', 'Question': 'Does the poster suffer from depression?', 'answer': 'Yes, the poster suffers from depression.', 'Reasoning': 'The poster is expressing very clear and concerning symptoms of severe depression or a related mental health condition. They mention recurrent suicidal ideation, feelings of isolation, the perception of being a burden to others, a lack of motivation, and a sense of hopelessness about their future. These are all significant warning signs.'}\n",
      "{'query': 'Consider this post: \"No one loves me, I have no friends, I\\'m spending new years alone in my bed. I refuse to take my anti depressants because I\\'m scared they will make me happy and I don\\'t deserve happiness because i\\'m an awful person and everyone leaves me.\"', 'Question': 'Does the poster suffer from loneliness?', 'answer': 'Yes, the poster suffers from loneliness.', 'Reasoning': \"The post directly shows loneliness. The poster explicitly mentions not being loved, having no friends, and spending New Year's alone, highlighting their isolation. The sentiment about not taking antidepressants out of a belief that they don't deserve happiness further emphasizes their sense of self-deprecation and isolation.\"}\n",
      "{'query': 'Consider this post: \"excepting me, I wish to me one only more pain. I don\\'t deserves for anything else. and probably my problems is so stupid and trivial. I probably just delete it\\'s because it\\'s just pile of shit, like me. So just skip this post, don\\'t even vote...\"', 'Question': 'Does the post show risk of thwarted belongingness?', 'answer': 'No, the post does not show this risk.', 'Reasoning': 'In the given post, the individual expresses self-deprecating thoughts and feelings, indicating low self-worth and potentially negative beliefs about themselves. However, the post does not specifically mention feelings of loneliness, isolation, or a lack of connectedness. While the individual may be experiencing mental disturbance, it is not necessarily related to inadequate connectedness.'}\n"
     ]
    },
    {
     "name": "stderr",
     "output_type": "stream",
     "text": [
      "/Users/guoyihan/EECS 545/Mentalllm/generate_few_prompts.py:14: FutureWarning: Series.__getitem__ treating keys as positions is deprecated. In a future version, integer keys will always be treated as labels (consistent with DataFrame behavior). To access a value by position, use `ser.iloc[pos]`\n",
      "  \"query\": row[0].split(\" Question: \")[0],\n",
      "/Users/guoyihan/EECS 545/Mentalllm/generate_few_prompts.py:15: FutureWarning: Series.__getitem__ treating keys as positions is deprecated. In a future version, integer keys will always be treated as labels (consistent with DataFrame behavior). To access a value by position, use `ser.iloc[pos]`\n",
      "  \"Question\": row[0].split(\" Question: \")[1],\n",
      "/Users/guoyihan/EECS 545/Mentalllm/generate_few_prompts.py:16: FutureWarning: Series.__getitem__ treating keys as positions is deprecated. In a future version, integer keys will always be treated as labels (consistent with DataFrame behavior). To access a value by position, use `ser.iloc[pos]`\n",
      "  \"answer\": row[1].split(\" Reasoning: \")[0],\n",
      "/Users/guoyihan/EECS 545/Mentalllm/generate_few_prompts.py:17: FutureWarning: Series.__getitem__ treating keys as positions is deprecated. In a future version, integer keys will always be treated as labels (consistent with DataFrame behavior). To access a value by position, use `ser.iloc[pos]`\n",
      "  \"Reasoning\": row[1].split(\" Reasoning: \")[1]\n"
     ]
    },
    {
     "name": "stdout",
     "output_type": "stream",
     "text": [
      "{'query': 'Consider this post: \"You\\'re the reason I can\\'t trust people, the reason I hate talking, and the reason I\\'m so violent and internally rebellious.\"', 'Question': 'What is the stress cause of this post?', 'answer': 'This post shows the stress cause related to social relationships.', 'Reasoning': 'The post highlights feelings of distrust, an aversion to communication, and tendencies towards violent and internal rebellion. Such strong emotions point to profound emotional distress the poster is undergoing. Moreover, attributing these feelings to a specific individual indicates that interpersonal conflicts or negative interactions are at the core of this stress. As such, the fitting labels for this post are Emotional turmoil and Social relationships.'}\n",
      "{'query': 'Consider this post: \"Why do people try to motivate depressives using shame?\\nI never understand the idea of people attempting to shame me out of my depression.\\n\\n\"How do you live like this? Why are you being like this? Your brothers aren\\'t like this?\"\\n\\nIf we\\'re going to have a face off over who has the lower opinion of me, I guarantee, I will win every time. Or at least I hope I will because if not they hate me more than I can imagine.\\n\\nI feel awful about even saying that, I see the weakness in that statement, the defeatism, but that doesn\\'t make it any less true.\"', 'Question': 'Does the poster suffer from depression?', 'answer': 'Yes, the poster suffers from depression.', 'Reasoning': 'The poster is expressing feelings commonly associated with depression. They highlight external misunderstandings about their condition, exhibit significantly low self-worth, and recognize their own negative thought patterns but feel trapped in them. Their sentiments suggest they are struggling with depressive feelings and possibly a depressive disorder.'}\n",
      "{'query': 'Consider this post: \"Recently I received some bad news at home _ another health issue one would think would never impact me, even indirectly.  I don__ want to get into those details, but it led me to decide I needed to stop medication because my __uck_ is so bad no matter how good the medication I am still going to endure an incessant stream of negative events and circumstances that will overwhelm me.  My life is a story of waste: Brilliant, but not using that brain power at work; successful, but not enough to reach my goals.  Nothing ever comes easy and I see bad people left and right get their way.  It drives me nuts, and feeds into the __lack and white thinking_ that plagues me.  So I met with my doctor to ask how to get off my medication altogether.  Previously, he expressed shock at the cocktail I was taking and said he would not continue the malpractice of my old doctor, who recently closed her practice.  He did not try to convince me to stay on the medication, or change to something else.  I__ thankful he was honest about the methods to get off the pills.  But, it turns out the safe way to get off my medications will require over a year of weaning off them.  I wanted to stop going to doctors soon, but now I have to go through this process for over a year.  I handled the news well, surprisingly well. Still, it is incredibly difficult to live with my negative thinking, disturbing life events, a constant sense of failure and inadequacy, and potential withdrawals so serious I have to go through a year of tapering off meds.  I just needed to vent.  I feel like I have no one and nothing.  I constantly mutter things under my breath (often without realizing it) such as __ hate my life._  It__ just hard to see how the story of my life turns out well.\"', 'Question': 'What cause of depression does this post show?', 'answer': 'This post shows causes of depression related to medication.', 'Reasoning': \"The paragraphs describe the author's recent experience of receiving bad news regarding a health issue at home. This news led them to decide to stop taking medication and they believe their luck is consistently bad, regardless of the effectiveness of the medication. They express feelings of waste in their life, acknowledging their intelligence and some level of success but feeling that they are not utilizing their potential and struggling to achieve their goals.The post mentions that they wanted to stop seeing their doctor as soon as possible, but had to spend a year working with their doctor to slowly wean themselves off the medication due to severe withdrawal reactions, suggesting that the medication acted as a greater source of stress.\"}\n"
     ]
    },
    {
     "name": "stderr",
     "output_type": "stream",
     "text": [
      "/Users/guoyihan/EECS 545/Mentalllm/generate_few_prompts.py:14: FutureWarning: Series.__getitem__ treating keys as positions is deprecated. In a future version, integer keys will always be treated as labels (consistent with DataFrame behavior). To access a value by position, use `ser.iloc[pos]`\n",
      "  \"query\": row[0].split(\" Question: \")[0],\n",
      "/Users/guoyihan/EECS 545/Mentalllm/generate_few_prompts.py:15: FutureWarning: Series.__getitem__ treating keys as positions is deprecated. In a future version, integer keys will always be treated as labels (consistent with DataFrame behavior). To access a value by position, use `ser.iloc[pos]`\n",
      "  \"Question\": row[0].split(\" Question: \")[1],\n",
      "/Users/guoyihan/EECS 545/Mentalllm/generate_few_prompts.py:16: FutureWarning: Series.__getitem__ treating keys as positions is deprecated. In a future version, integer keys will always be treated as labels (consistent with DataFrame behavior). To access a value by position, use `ser.iloc[pos]`\n",
      "  \"answer\": row[1].split(\" Reasoning: \")[0],\n",
      "/Users/guoyihan/EECS 545/Mentalllm/generate_few_prompts.py:17: FutureWarning: Series.__getitem__ treating keys as positions is deprecated. In a future version, integer keys will always be treated as labels (consistent with DataFrame behavior). To access a value by position, use `ser.iloc[pos]`\n",
      "  \"Reasoning\": row[1].split(\" Reasoning: \")[1]\n"
     ]
    },
    {
     "name": "stdout",
     "output_type": "stream",
     "text": [
      "{'query': 'Consider this post: \"I did a few times but it always just blew up in us breaking up and then me being miserable for awhile. I just don\\'t know if I should bother anymore and commit to the fact that I\\'m alone and will probably be for the rest of my life. Both my brothers are married, most of my family members have partners apart from me so I sort of feel like the odd one out there. I\\'m sort of just unsure of what to do next.   ---\"', 'Question': 'Does the poster suffer from stress?', 'answer': 'Yes, the poster suffers from stress.', 'Reasoning': 'The language and tone of the post indicate feelings of sadness, resignation, and uncertainty. The poster mentions experiencing multiple breakups, feelings of misery, and a belief that they may remain alone for the rest of their life. These sentiments, combined with the comparison to their family members, suggest a sense of isolation and a perceived lack of belonging. The overall context of the post indicates emotional distress and a potential for stress.'}\n",
      "{'query': 'Consider this post: \"Hey can anyone help All i can think of nowadays is how to kill myself. I don\\'t really want to do it but i find getting closer every day. I don\\'t know how to cope with life. Like I\\'m losing my mind over small things but it feels like they are the only things that matter. I feel like when i graduate high school I\\'m gonna be out of my safety net and everyone\\'s gonna know what a loser i am (never been the social kind). So I feel like I\\'ve set myself a deadline for suicide and I\\'m scared i actually might follow through. I feel like a chump blabbering but it feels good to write it out.\"', 'Question': 'What mental disorder symptoms does this post show?', 'answer': 'This post shows mental disorder symptoms related to suicide.', 'Reasoning': 'The post prominently features thoughts of self-harm and an expressed fear of potential suicidal actions in the future, especially with the mention of setting a \"deadline for suicide.\" Despite the individual stating they \"don\\'t really want to do it,\" the pervasive thoughts and the self-imposed deadline suggest a significant risk and a need for immediate intervention. The poster describes feelings of hopelessness, significant distress, and a fear of the future which are all common indicators associated with suicidal ideation.'}\n",
      "{'query': 'Consider this post: \"I want to kill myself so bad but cant until after I see Lana pic.twitter.com/ljqBUyDjaw\"', 'Question': 'What mental disorder does this post show?', 'answer': 'This post shows suicide or self-harm tendency.', 'Reasoning': 'The post explicitly states \"I want to kill myself\" indicating strong suicidal ideation or a desire for self-harm. Even with the mention of wanting to see Lana, the clear expression of wanting to harm oneself is deeply concerning.'}\n"
     ]
    },
    {
     "name": "stderr",
     "output_type": "stream",
     "text": [
      "/Users/guoyihan/EECS 545/Mentalllm/generate_few_prompts.py:14: FutureWarning: Series.__getitem__ treating keys as positions is deprecated. In a future version, integer keys will always be treated as labels (consistent with DataFrame behavior). To access a value by position, use `ser.iloc[pos]`\n",
      "  \"query\": row[0].split(\" Question: \")[0],\n",
      "/Users/guoyihan/EECS 545/Mentalllm/generate_few_prompts.py:15: FutureWarning: Series.__getitem__ treating keys as positions is deprecated. In a future version, integer keys will always be treated as labels (consistent with DataFrame behavior). To access a value by position, use `ser.iloc[pos]`\n",
      "  \"Question\": row[0].split(\" Question: \")[1],\n",
      "/Users/guoyihan/EECS 545/Mentalllm/generate_few_prompts.py:16: FutureWarning: Series.__getitem__ treating keys as positions is deprecated. In a future version, integer keys will always be treated as labels (consistent with DataFrame behavior). To access a value by position, use `ser.iloc[pos]`\n",
      "  \"answer\": row[1].split(\" Reasoning: \")[0],\n",
      "/Users/guoyihan/EECS 545/Mentalllm/generate_few_prompts.py:17: FutureWarning: Series.__getitem__ treating keys as positions is deprecated. In a future version, integer keys will always be treated as labels (consistent with DataFrame behavior). To access a value by position, use `ser.iloc[pos]`\n",
      "  \"Reasoning\": row[1].split(\" Reasoning: \")[1]\n"
     ]
    },
    {
     "name": "stdout",
     "output_type": "stream",
     "text": [
      "{'query': 'Consider this post: \"i’m really gonna kill myself one of beck’s best sketches is no where to be found\"', 'Question': 'What mental disorder does this post show?', 'answer': 'This post shows suicide or self-harm tendency.', 'Reasoning': 'The phrase \"i\\'m really gonna kill myself\" indicates potential suicidal inclinations or a risk of self-harm. The individual seems deeply upset about not locating one of Beck\\'s notable sketches. Such an intense emotional response to what appears to be a minor issue might suggest deeper mental health challenges.'}\n",
      "{'query': 'Consider this post: \"Does anybody know how I can stop living in the past?! How I can stop wishing my life away because of stupid decisions I____e made. I can____ keep going on like this. It____ destroying me in so many ways.\"', 'Question': 'Does the physical wellness dimension exist in the post?', 'answer': 'No, this wellness dimension does not exist in the post.', 'Reasoning': 'The wellness dimension of physical aspect does not exist in the post. The individual expresses their struggle with living in the past and making regretful decisions, indicating a lack of physical well-being. There is no mention of growth, changes in the body, or the adoption of healthy habits.'}\n",
      "{'query': 'Consider this post: \"Romantic Relationships and BP??? I\\'m curious how others think their BP afects their romantic relationships.\\n\\nfor me, even though i was diagnosed age 15, i didn\\'t believe it until about 6 months ago. now i\\'m looking back at my many many long term relationships and just seeing patterns. common thread? me.\\n\\nif anyone has anything they\\'d like to share good or bad i\\'d love to read it. \\n\\nim especially curious about patterns. \"', 'Question': 'What mental disorder symptoms does this post show?', 'answer': 'This post shows mental disorder symptoms related to bipolar disorder.', 'Reasoning': 'The individual is discussing the impact of their BP (Bipolar disorder) on their romantic relationships. The acronym \"BP\" in this context is directly referring to Bipolar disorder, and the individual reflects on patterns in relationships in light of their diagnosis.'}\n",
      "Generated 90 mental health cases. Saved to /Users/guoyihan/EECS 545/generated_dataset.json\n"
     ]
    }
   ],
   "source": [
    "generate_pipline()"
   ]
  },
  {
   "cell_type": "code",
   "execution_count": null,
   "metadata": {},
   "outputs": [],
   "source": []
  }
 ],
 "metadata": {
  "kernelspec": {
   "display_name": ".venv",
   "language": "python",
   "name": "python3"
  },
  "language_info": {
   "codemirror_mode": {
    "name": "ipython",
    "version": 3
   },
   "file_extension": ".py",
   "mimetype": "text/x-python",
   "name": "python",
   "nbconvert_exporter": "python",
   "pygments_lexer": "ipython3",
   "version": "3.11.7"
  }
 },
 "nbformat": 4,
 "nbformat_minor": 2
}
