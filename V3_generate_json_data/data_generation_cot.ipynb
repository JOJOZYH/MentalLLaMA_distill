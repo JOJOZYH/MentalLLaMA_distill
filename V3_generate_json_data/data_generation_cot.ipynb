{
 "cells": [
  {
   "cell_type": "code",
   "execution_count": 136,
   "metadata": {},
   "outputs": [],
   "source": [
    "from openai import OpenAI\n",
    "import json"
   ]
  },
  {
   "cell_type": "code",
   "execution_count": 137,
   "metadata": {},
   "outputs": [],
   "source": [
    "import os\n",
    "import sys\n",
    "import pandas as pd\n",
    "import random"
   ]
  },
  {
   "cell_type": "code",
   "execution_count": 138,
   "metadata": {},
   "outputs": [],
   "source": [
    "# expert examples\n",
    "df_DR = pd.read_csv('../data/expert_data/DR.csv')\n",
    "df_dreaddit = pd.read_csv('../data/expert_data/dreaddit.csv')\n",
    "df_Irf = pd.read_csv('../data/expert_data/Irf.csv')\n",
    "df_MultiWD = pd.read_csv('../data/expert_data/MultiWD.csv')\n",
    "df_SAD = pd.read_csv('../data/expert_data/SAD.csv')"
   ]
  },
  {
   "cell_type": "code",
   "execution_count": 139,
   "metadata": {},
   "outputs": [],
   "source": [
    "DR_train = pd.read_csv('../data/released_data_mentalllama/train_data/instruction_data/DR/train.csv')"
   ]
  },
  {
   "cell_type": "code",
   "execution_count": 140,
   "metadata": {},
   "outputs": [],
   "source": [
    "client = OpenAI(api_key=\"sk-222f957d1a354c51ac268b01f978403a\", base_url=\"https://api.deepseek.com\")"
   ]
  },
  {
   "cell_type": "code",
   "execution_count": 141,
   "metadata": {},
   "outputs": [],
   "source": [
    "# instructions\n",
    "# DR \n",
    "instruction = ''': You will be presented with a post and an assigned label to identify whether the poster\n",
    "shows symptoms of depression. Consider the emotions expressed from post to explain the reasoning of the label step by step.\n",
    "Here are twenty examples:'''"
   ]
  },
  {
   "cell_type": "code",
   "execution_count": 142,
   "metadata": {},
   "outputs": [],
   "source": [
    "import json\n",
    "\n",
    "class PromptBuilder:\n",
    "    def __init__(self, expert_dfs, train_df, num_examples_per_dataset=2):\n",
    "        self.expert_dfs = expert_dfs\n",
    "        self.train_df = train_df\n",
    "        self.num_examples_per_dataset = num_examples_per_dataset\n",
    "        self.train_pointer = 0 \n",
    "\n",
    "    def sample_expert_examples(self):\n",
    "        sampled_dfs = []\n",
    "        for df in self.expert_dfs:\n",
    "            sampled = df.sample(n=self.num_examples_per_dataset, random_state=random.randint(0, 10000))\n",
    "            sampled_dfs.append(sampled)\n",
    "        combined_df = pd.concat(sampled_dfs, ignore_index=True)\n",
    "        return combined_df\n",
    "    # n: number of target question each prompt has\n",
    "    def get_next_training_questions(self, n=5):\n",
    "        end = self.train_pointer + n\n",
    "        if end <= len(self.train_df):\n",
    "            questions = self.train_df.iloc[self.train_pointer:end]['query'].tolist()\n",
    "        else:\n",
    "            part1 = self.train_df.iloc[self.train_pointer:]['query'].tolist()\n",
    "            part2 = self.train_df.iloc[:end - len(self.train_df)]['query'].tolist()\n",
    "            questions = part1 + part2\n",
    "        self.train_pointer = (self.train_pointer + n) % len(self.train_df)\n",
    "        return questions\n",
    "\n",
    "    def build_prompt(self, instruction):\n",
    "        examples_df = self.sample_expert_examples()\n",
    "        target_questions = self.get_next_training_questions()\n",
    "\n",
    "        prompt = instruction.strip() + \"\\n\\n\"\n",
    "        prompt += \"### Expert-written examples:\\n\"\n",
    "\n",
    "        for _, row in examples_df.iterrows():\n",
    "            example_json = {\n",
    "                \"query\": row['query'],\n",
    "                \"answer\": row['gpt-3.5-turbo']\n",
    "            }\n",
    "            prompt += json.dumps(example_json, ensure_ascii=False) + \"\\n\"\n",
    "\n",
    "        prompt += \"\\n### Now answer the following queries in the following format: {\\\"response\\\": \\\"...\\\", \\\"reasoning\\\": \\\"...\\\"}\\n\"\n",
    "        for i, q in enumerate(target_questions, 1):\n",
    "            prompt += f\"Q{i}: {q}\\n\"\n",
    "\n",
    "        return prompt, target_questions\n"
   ]
  },
  {
   "cell_type": "code",
   "execution_count": 143,
   "metadata": {},
   "outputs": [],
   "source": [
    "def generate_mental_health_case(builder, instruction):\n",
    "    prompt, queries = builder.build_prompt(instruction)\n",
    "    try:\n",
    "        response = client.chat.completions.create(\n",
    "            model=\"deepseek-chat\",\n",
    "            messages=[\n",
    "                {\"role\": \"user\", \"content\": prompt}\n",
    "            ],\n",
    "            max_tokens= 1500)\n",
    "        results = response.choices[0].message.content.strip(), queries\n",
    "        return results\n",
    "    except Exception as e:\n",
    "        print(f\"Generation failed: {str(e)}\")\n",
    "        return None, None\n"
   ]
  },
  {
   "cell_type": "code",
   "execution_count": 144,
   "metadata": {},
   "outputs": [],
   "source": [
    "import re\n",
    "def extract_response_reasoning_plain_text(result_text):\n",
    "\n",
    "    pattern = r'response\":\\s*\"([^\"]+)\"\\s*,\\s*\"reasoning\":\\s*\"([^\"]+)\"'\n",
    "    matches = re.findall(pattern, result_text)\n",
    "\n",
    "    return matches "
   ]
  },
  {
   "cell_type": "code",
   "execution_count": 148,
   "metadata": {},
   "outputs": [],
   "source": [
    "# num_batches: number of iteration of prompts\n",
    "def generate_pipeline(builder, instruction, output_file=\"generated_dataset.csv\", num_batches=1):\n",
    "    rows = []\n",
    "\n",
    "    for i in range(num_batches):\n",
    "        print(f\"Generating batch {i+1}/{num_batches}...\")\n",
    "        result_text, queries = generate_mental_health_case(builder, instruction)\n",
    "\n",
    "        if result_text and queries:\n",
    "            pairs = extract_response_reasoning_plain_text(result_text)\n",
    "            if len(pairs) != len(queries):\n",
    "                print(f\"Warning: Mismatch between number of queries ({len(queries)}) and responses ({len(pairs)})\")\n",
    "                continue\n",
    "            for query, (response, reasoning) in zip(queries, pairs):\n",
    "                rows.append({\n",
    "                    \"query\": query,\n",
    "                    \"response\": response,\n",
    "                    \"reasoning\": reasoning\n",
    "                })\n",
    "\n",
    "        else:\n",
    "            print(\"Skipping this batch due to API or parsing error.\")\n",
    "\n",
    "    df = pd.DataFrame(rows)\n",
    "    df.to_csv(output_file, index=False)\n",
    "    print(f\"\\nSaved {len(df)} rows to {output_file}\")\n",
    "\n"
   ]
  },
  {
   "cell_type": "code",
   "execution_count": 146,
   "metadata": {},
   "outputs": [
    {
     "name": "stdout",
     "output_type": "stream",
     "text": [
      "Generating batch 1/1...\n",
      "\n",
      "Saved 5 rows to generated_dataset.csv\n"
     ]
    }
   ],
   "source": [
    "datasets = [\n",
    "    df_DR,\n",
    "    df_dreaddit,\n",
    "    df_Irf,\n",
    "    df_MultiWD,\n",
    "    df_SAD\n",
    "]\n",
    "builder = PromptBuilder(datasets, DR_train)\n",
    "generate_pipeline(builder, instruction, output_file=\"generated_dataset.csv\")"
   ]
  },
  {
   "cell_type": "code",
   "execution_count": 147,
   "metadata": {},
   "outputs": [
    {
     "data": {
      "text/html": [
       "<div>\n",
       "<style scoped>\n",
       "    .dataframe tbody tr th:only-of-type {\n",
       "        vertical-align: middle;\n",
       "    }\n",
       "\n",
       "    .dataframe tbody tr th {\n",
       "        vertical-align: top;\n",
       "    }\n",
       "\n",
       "    .dataframe thead th {\n",
       "        text-align: right;\n",
       "    }\n",
       "</style>\n",
       "<table border=\"1\" class=\"dataframe\">\n",
       "  <thead>\n",
       "    <tr style=\"text-align: right;\">\n",
       "      <th></th>\n",
       "      <th>query</th>\n",
       "      <th>response</th>\n",
       "      <th>reasoning</th>\n",
       "    </tr>\n",
       "  </thead>\n",
       "  <tbody>\n",
       "    <tr>\n",
       "      <th>0</th>\n",
       "      <td>Consider this post: \"How to avoid a relapse? I...</td>\n",
       "      <td>Yes, the poster suffers from depression.</td>\n",
       "      <td>The post describes a series of traumatic event...</td>\n",
       "    </tr>\n",
       "    <tr>\n",
       "      <th>1</th>\n",
       "      <td>Consider this post: \"This is how I feel and I ...</td>\n",
       "      <td>Yes, the poster suffers from depression.</td>\n",
       "      <td>The post contains multiple symptoms of depress...</td>\n",
       "    </tr>\n",
       "    <tr>\n",
       "      <th>2</th>\n",
       "      <td>Consider this post: \"Advice for getting back i...</td>\n",
       "      <td>Yes, the poster suffers from depression.</td>\n",
       "      <td>The post reflects a loss of interest in previo...</td>\n",
       "    </tr>\n",
       "    <tr>\n",
       "      <th>3</th>\n",
       "      <td>Consider this post: \"Having a really bad stret...</td>\n",
       "      <td>Yes, the poster suffers from depression.</td>\n",
       "      <td>The post details a long history of depression ...</td>\n",
       "    </tr>\n",
       "    <tr>\n",
       "      <th>4</th>\n",
       "      <td>Consider this post: \"I dont understand how peo...</td>\n",
       "      <td>Yes, the poster suffers from depression.</td>\n",
       "      <td>The post indicates a lack of interest in most ...</td>\n",
       "    </tr>\n",
       "  </tbody>\n",
       "</table>\n",
       "</div>"
      ],
      "text/plain": [
       "                                               query  \\\n",
       "0  Consider this post: \"How to avoid a relapse? I...   \n",
       "1  Consider this post: \"This is how I feel and I ...   \n",
       "2  Consider this post: \"Advice for getting back i...   \n",
       "3  Consider this post: \"Having a really bad stret...   \n",
       "4  Consider this post: \"I dont understand how peo...   \n",
       "\n",
       "                                   response  \\\n",
       "0  Yes, the poster suffers from depression.   \n",
       "1  Yes, the poster suffers from depression.   \n",
       "2  Yes, the poster suffers from depression.   \n",
       "3  Yes, the poster suffers from depression.   \n",
       "4  Yes, the poster suffers from depression.   \n",
       "\n",
       "                                           reasoning  \n",
       "0  The post describes a series of traumatic event...  \n",
       "1  The post contains multiple symptoms of depress...  \n",
       "2  The post reflects a loss of interest in previo...  \n",
       "3  The post details a long history of depression ...  \n",
       "4  The post indicates a lack of interest in most ...  "
      ]
     },
     "execution_count": 147,
     "metadata": {},
     "output_type": "execute_result"
    }
   ],
   "source": [
    "df = pd.read_csv(\"generated_dataset.csv\")\n",
    "df"
   ]
  },
  {
   "cell_type": "code",
   "execution_count": null,
   "metadata": {},
   "outputs": [],
   "source": []
  }
 ],
 "metadata": {
  "kernelspec": {
   "display_name": ".venv",
   "language": "python",
   "name": "python3"
  },
  "language_info": {
   "codemirror_mode": {
    "name": "ipython",
    "version": 3
   },
   "file_extension": ".py",
   "mimetype": "text/x-python",
   "name": "python",
   "nbconvert_exporter": "python",
   "pygments_lexer": "ipython3",
   "version": "3.11.7"
  }
 },
 "nbformat": 4,
 "nbformat_minor": 2
}
