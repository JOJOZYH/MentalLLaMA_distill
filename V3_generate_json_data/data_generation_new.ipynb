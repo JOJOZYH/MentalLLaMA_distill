{
 "cells": [
  {
   "cell_type": "code",
   "execution_count": 1,
   "id": "901fe8db",
   "metadata": {},
   "outputs": [],
   "source": [
    "import pandas as pd\n",
    "from data_generation_cot import PromptBuilder, generate_pipeline\n",
    "from openai import OpenAI"
   ]
  },
  {
   "cell_type": "code",
   "execution_count": 2,
   "id": "904a2b69",
   "metadata": {},
   "outputs": [],
   "source": [
    "client = OpenAI(api_key=\"sk-3027dc386bba4840abd9a5b16fcab47e\", base_url=\"https://api.deepseek.com\")"
   ]
  },
  {
   "cell_type": "code",
   "execution_count": 3,
   "id": "cceba9ed",
   "metadata": {},
   "outputs": [
    {
     "name": "stdout",
     "output_type": "stream",
     "text": [
      "You will be presented with 5 posts. Consider the emotions expressed in this post to identify whether the poster suffers from depression. Only return Yes or No, then explain your reasoning step by step. Here are some examples:\n",
      "\n",
      "### Expert-written examples:\n",
      "{\"query\": \"Consider this post: \\\"My mom caught me with someone, I lied and now she is mad...\\r\\ntl;dr: Mom caught me with someone and also caught me in a big lie.\\r\\n\\r\\nMy mom (F54) caught me in a huge lie as well after that, because I was trying to get her out of the house, things have been complicated since I've been lying.\\r\\n\\r\\nToday she arrived sooner than expected and well what i was trying to avoid happened. She is telling me I'm like a 14 year old and doesn't understand why i've done this. That I don't do shit despite me doing house stuff, and working. That \\\"I was your age too\\\" conversation happened.\\r\\n\\r\\nI'm 22 years old and I'm thinking about moving out and doing my own thing, but I feel like I don't need to update people every 10 minutes, is that just me?\\r\\n\\r\\nI don't think I have been lying to her, I just didn't told her I was seeing someone, and to be honest what was she expecting me to say??\\r\\n\\r\\nTo be honest I don't know what to do, can you guys help me dealing with this?? I kinda feel worthless at this point too because of all the things she said to me\\\" Question: Does the poster suffer from depression?\", \"response\": \"No, the poster does not suffer from depression. Reasoning: The poster is grappling with the aftermath of being caught in a lie by their mother. The situation has led to confrontations and feelings of guilt, shame, and confusion.But they're not expressing chronic feelings of sadness or a pervasive depressive mood.The overall tone of the post is skewed towards seeking advice rather than expressing depression.\"}\n",
      "{\"query\": \"Consider this post: \\\"My hands won't do what I want them to.\\r\\nI know I know I've ranted about not being able to do anything artistic a thousand times now, but this is different.\\r\\n\\r\\nA few times I've forced myself to draw I was garbage, but I figured that's to be expected since I haven't done it in a while. However lately I've found playing video games much more difficult because I find myself pressing the wrong button almost purposely, or not reacting to something my brain processed seconds ago. It's even gotten to the point where typing is difficult for me--every other letter I find myself making a stupid typo, and its irritating. It shouldn't take every ounce of will and concentration to type a stupid reddit post, yet here we are........\\\" Question: Does the poster suffer from depression?\", \"response\": \"No, the poster does not suffer from depression. Reasoning: The poster is experiencing significant frustration over their declining motor skills and coordination. They are struggling with activities that they once found easy or intuitive, such as drawing, playing video games, and typing. The described challenges go beyond mere lack of practice and are causing them noticeable distress. While the poster does express feelings of frustration, irritation, and difficulties in performing usual tasks, these symptoms alone do not definitively point to clinical depression. Changes in motor coordination and concentration can be symptomatic of various conditions.\"}\n",
      "{\"query\": \"Consider this post: \\\"When people ask you what you did for the weekend, or for your birthday, etc.\\r\\nI have no idea how to respond. My emotions have become so numb  that I can't feel anything so therefore I cannot enjoy anything I used to like doing. I literally just go to work everyday for 8 hours, come home and browse the news and reddit and listen to music, trying to entertain myself but never really succeeding. There's nothing I can enjoy. So when someone asks me what I did I just say some crap like I just relaxed at home or something, I don't know what else to say.\\r\\n\\r\\nIt's the worst part about depression for me. Not being able to enjoy anything. I don't even look forward to coming home from work because it's not like I have anything to enjoy at home. It's all the same dullness. I'd probably work 12-14 hours a day seven days a week if I could because it wouldn't bother me at all, I'm not missing out on anything. Too bad they don't because they don't want to pay overtime for me of course.\\\" Question: Does the poster suffer from depression?\", \"response\": \"Yes, the poster suffers from depression. Reasoning: The poster communicates a profound sense of numbness and disinterest in activities that people typically find enjoyable. They report an inability to feel emotions, resulting in a lack of enjoyment in previously liked activities. Their routine is monotonous, revolving around work and aimless browsing, with no anticipation of leisure or relaxation even after a workday. They express a preference for prolonged work hours, not out of passion, but seemingly as a way to fill the emptiness they experience.The poster's expressed feelings of emotional numbness, lack of enjoyment, and a monotonous daily routine strongly suggest they may be suffering from depression. The numbness and lack of interest in activities are common symptoms of depression.\"}\n",
      "{\"query\": \"Consider this post: \\\"Ancestry.com - is it safe?\\r\\nHello!: )\\r\\n\\r\\nI'm a new user so if this post ends up in a weird place/thread, pls bear w me.\\r\\n\\r\\nHas anyone used Ancestry.com lately? They offer a two week trial but still require your credit card information. Is this suspicious? It doesn't cost anything for the first two weeks, and then you can end the trial so you don't have to pay anything even then, but I just feel a little uncomfortable dialing my credit card information on there online.... Am I being too doubtfull? Share your experiences?\\r\\n\\r\\nThank you!\\r\\n\\r\\nIf my English isn't perfect, that's because I'm not a native speaker.\\\" Question: Does the poster suffer from depression?\", \"response\": \"No, the poster does not suffer from depression. Reasoning: The post showed no signs of depression, the poster was simply seeking advice from the internet about whether or not the site was safe, it was a post that had nothing to do with emotions.\"}\n",
      "{\"query\": \"Consider this post: \\\"dealing with an emotionally unavailable best friend\\r\\nI see my best friend a lot. I dont wear my heart on my sleeve but I'm emotional. I definitely give too much in a relationship and end up getting hurt because of it. My friend has troubles expressing her emotions and generally gets very annoyed when she has to \\\"prove herself\\\" because she feels like people should just trust her. She doesn't have many friends because of this. I always express my irrational feelings but when shes angry she doesnt want to say anything because she doesnt want to hurt me. I don't want her to hold anything in but I know that I would suffer because of the truth.\\r\\n\\r\\nHow do I balance our give and take? \\r\\nIs there anyway I can help her open up? Or is that impossible?\\r\\n\\\" Question: Does the poster suffer from depression?\", \"response\": \"No, the poster does not suffer from depression. Reasoning: The post indicates emotional struggles, vulnerability, and challenges in their relationship with their friend, but these factors alone don't necessarily equate to depression.The focus of the post is on seeking solutions to the posters' dilemmas with their friend, which indicates that the overall tone of the post remains rational and positive.\"}\n",
      "{\"query\": \"Consider this post: \\\"That orange message-notification...\\r\\nIt makes me happy, wanted, feeling like I belong. I love comments because I feel so alone in all of this. Even if the comment didn't help a lot, I feel like I'm not alone. Oh god I'm so miserable.\\r\\n\\r\\nEDIT: No its not a cry for attention or likes or upvotes. I sincerely feel good when I see the people of /r/depression commenting on my posts, and I love commenting on theirs. A mutual feeling of belonging...\\\" Question: Does the poster suffer from depression?\", \"response\": \"Yes, the poster suffers from depression. Reasoning: The emphasis on the joy derived from a simple message notification suggests a deep yearning for connection and validation.The explicit statement \\\"Oh god I'm so miserable\\\" clearly expresses distress.Their appreciation for the community of /r/depression and the mutual feeling of belonging they get from it indicates a search for understanding and shared experiences with others who are likely going through similar struggles.They clarify that their sentiment isn't just a cry for attention, suggesting an awareness of potential judgments but a sincere appreciation for the community support.The combination of these expressions indicates a person who is seeking connection and feels isolated in their experience. Their direct admission of feeling miserable further supports the likelihood that they may be suffering from depression or experiencing depressive symptoms.\"}\n",
      "{\"query\": \"Consider this post: \\\"The one and only thing I want to and have a will to do is to listen to the music all day and space out in it.\\r\\nEverything else is boring, draining and dull. And I receive no mental pleasure from doing anything else.\\\" Question: Does the poster suffer from depression?\", \"response\": \"Yes, the poster suffers from depression. Reasoning: The post describes a state of low desire, where the poster can't bring themselves to do anything but listen to music. Low interest in things, low motivation, and getting bored easily are all symptoms of depression. This indicates that the poster is in a more dangerous emotional state.\"}\n",
      "{\"query\": \"Consider this post: \\\"Nothing is enjoyable anymore.\\r\\nAlmost everything that I used to care for is simply starting to have no meaning. I feel dead and lifeless.\\r\\n\\r\\nI used to be very passionate with certain things but that was usually meant with me being bashed and shunned upon people. Or simply just a turn off. \\r\\n\\r\\nEveryday I wake up and I’m angry. Always wondering what the hell the point of this is. Why I’m here. \\r\\n\\r\\nI used to be extremely suicidal in the past and I’m slowly falling into that dark pit again. I don’t know what to do.\\r\\n\\r\\nIt’s so hard to be happy and I’m just... I’m starting to give up.\\\" Question: Does the poster suffer from depression?\", \"response\": \"Yes, the poster suffers from depression. Reasoning: The poster mentions that activities and passions they once enjoyed now hold no meaning for them. \\\"I feel dead and lifeless\\\" indicate severe emotional distress and feelings of emptiness.They reference negative reactions from others when they expressed their passions, which can contribute to feelings of isolation or rejection.The daily anger and existential questioning (\\\"wondering what the hell the point of this is\\\") show persistent negative emotions.The poster acknowledges a history of severe suicidal thoughts and expresses concern about returning to that state. \\\"It’s so hard to be happy\\\" and \\\"I’m starting to give up\\\" convey a sense of hopelessness and despair.These feelings and sentiments are strong indicators that the poster may be suffering from depression or a related mental health condition.\"}\n",
      "{\"query\": \"Consider this post: \\\"100% always try to be a nice friend but sometimes i dont want to, am i mean\\r\\nim in grad school. \\r\\nit will be way to long to explain the details\\r\\nbut whenever i go out with a group of friends, this girl always texts me when she hears about it or sees pics, of why i didn't invite her. \\r\\nthe thing is i know she's not exactly on good terms with them and i dont know how much they get a long. am i always obligated to ask her for when we go out. \\\" Question: Does the poster suffer from depression?\", \"response\": \"No, the poster does not suffer from depression. Reasoning: The poster appears to be dealing with social dynamics and the complexities of friendships in a grad school setting. While they express some feelings of guilt and uncertainty about their actions, the information given does not provide strong evidence that the poster is suffering from depression.\"}\n",
      "{\"query\": \"Consider this post: \\\"Possessive friends\\r\\nHi there, this is my first post.\\r\\nI became friends with a girl from my new class this year (who i had never met until we came into the same class) and became good friends with each other.She has a big network of friends and is quite different from me(talks to everyone, likes everyone, an extrovert). One day, a boy who happens to be her best friend saw us talking and got angry(for the life of me, i do not know why) and started making fake rumors about me, which she blindly believed. when she came to confront me about these false allegations, i flipped out and got quite angry and i have not talked to her for 3 days.\\r\\nHer friends are determined to hate me for some unknown reason and at the same time the girl has to problem with this, even defending them, saying that they are just very possessive of her.\\r\\nI am in a dilemma on what to do, ignore the hate or to stop caring and ignore her.\\\" Question: Does the poster suffer from depression?\", \"response\": \"No, the poster does not suffer from depression. Reasoning: The poster is expressing distress and confusion due to interpersonal conflicts with friends. They describe issues of trust, misunderstandings, and a feeling of being targeted by rumors. The text focuses on navigating a complex friendship dynamic and determining how to respond to the situation. While this certainly indicates emotional turmoil, there's no direct indication of depression in the description. Instead, the concerns are primarily about how to manage this particular challenging situation with friends.\"}\n",
      "\n",
      "### Now answer the following queries in the following format: {\"response\": \"...\", \"reasoning\": \"...\"}\n",
      "Q1: Consider this post: \"How to avoid a relapse? I've been having a particularly rough year; I attempted suicide, the love of my life left me, I failed my year at university, I've been physically assaulted, I've been sexually assaulted and today my grandfather died. I feel like I'm running on empty and doing the bare minimum to survive for myself while trying to be a rock to others. My emotional resilience has been wiped out. I feel \"okay\" but I've felt like this in the past and it has turned out that I've just been lying to myself and making things worse. Any advice on how to manage/process my emotions? Or just how to better understand myself?\" Question: Does the poster suffer from depression?\n",
      "Q2: Consider this post: \"This is how I feel and I have a slight sense I am the only one to think think this way. I am depressed? Help wanted I yearn for the days I was in high school. I felt as if I was always happy and never worried about anything. I am 22, just having graduated from University. It seems each day I am becoming a person who does not want to have a relationship with anyone other then my family. I want to be alone. Happiness to me is being sheltered by reality--alone with my thoughts. I deleted every single bit of social media I had about a year ago (SC, FB, Insta, Twitter, etc) in an attempt to become as alone as possible. I truly deep down wish I was never born, but I would never ever commit suicide. I wish more then anything else that I can just disappear and leave this world. I am studying for the MCAT currently. I don't have any problem doing so because of my extremely addictive personality, but I find that I enjoy things that take my mind off of reality. Studying, reading, listening to music or going for a drives are my favorite ways to achieve this. But the reality I see is that this world is shit. I believe that as a whole, humans are riddled with greed and selfishness that are the motivations behind MOST of everything in this world. And by humans, that obviously includes myself and I hate myself down to the core for the selfish things I have done. Maybe I am too cynical or something. But this bad world syndrome fucks my brain and idk. I REEEEALLLLY question every aspect of life and I can't help it. Each time I am left with questions that completely make me hate the way this world is. I guess I can give one example. The most recent self-philosophical argument I had is the idea of wars, with murdering others specifically. We praise those who fight for our country, yet at the same time a great deal of these same people are super religious. Do people not evaluate the reality they are in? Do they not question why they believe the things they do? Am I the only one? Does someone's act of ending another life provide justification for doing the same? Who is to even say so? If they would kill all of us if we did not kill them, then what makes our lives worth more? That's just one example, but then I look at areas like American healthcare or the fact my family and others are wealthy while there are people fucking dying because they cannot get water or food. Even the American political system with the deep state and shit. Why are we even on this damn earth? Seriously, what is the point of everything in life? I simply don't view the joys of life being worth living for. I just don't understand. This whole text here is just me rambling my thoughts in hopes that someone somewhere reading this could maybe help me.\" Question: Does the poster suffer from depression?\n",
      "Q3: Consider this post: \"Advice for getting back in touch with everyday life? I think the hardest thing for me, and the largest factor I need to address to try and feel healthy again, is simply trying to feel engaged in and enjoying the present. Right now, days have little to no meaning at all, and I am only really able to think of my life in terms of weeks, months, and years. As a result of that, I feel nothing from the hobbies or moments that would before provide me feelings of joy, satisfaction or just generally fulfilling myself. The only activities I really \"enjoy\" anymore is anything that provides me with a complete escape from reality, however these activities are not exactly one belonging to a healthy lifestyle. I just want to enjoy the things that I used to enjoy, but whenever I try I feel like I am wasting my time, are not doing them well enough. Has anybody gone through something similar, and has advice for how they managed to get through it? Thanks for reading.\" Question: Does the poster suffer from depression?\n",
      "Q4: Consider this post: \"Having a really bad stretch of days.. Hi all, I know this sub moves kinda fast but I just wanted to vent, hopefully some of you read this.. So my story is that I've had depression and social anxiety for about 15 years or so (at least that's when I recall starting to feel \"off\".. I'm 29 now).. Because of my poor decision to bottle things up and accept that I'm unhappy I put off seeking help until about a month or two ago in which I started going to therapy. It had taken a rather bad mental fallout that occurred in early December for me to finally reach out for help. In my sessions we've been working on techniques to combat both my SA and depression, these include going to places alone such as coffee shops, yoga classes, shopping malls, etc. (Keep in mind I have \"functioning\" social anxiety where I can physically be around people but I'm extremely uncomfortable the entire time and have a very difficult time interacting with people).. The thought process being that my depression stems from loneliness and my SA contributes to that.. It's been a big step for me to try and go out on my own, but I've been doing it almost every day even though it doesn't seem to be creating any improvement. Unfortunately the last few days have been incredibly difficult, I'm getting a very sick feeling of hopelessness and worry that my life is now just constantly shuffling around desperately trying to find something in the world that will \"fix\" me. I tried to sit at home last night to give myself a break and I couldn't even do that, I started becoming consumed by those bad thoughts and began having a panic attack.. So I decided to just go drive aimlessly even though we were in the middle of a snow storm.. I feel miserable again today and I'm just running out of steam to keep going, I really don't know what to do anymore.. I'm exhausted from constantly forcing myself into uncomfortable public situations but at the same time my home feels like a prison.. I have nobody to talk to or gain support from anymore, the couple of friends that I have all have their own lives with wives and kids and my family has been out of my life for 10 years and for good reason.. I know nobody has answers as to what I should do but I just needed to rant\" Question: Does the poster suffer from depression?\n",
      "Q5: Consider this post: \"I dont understand how people can be so interested in so many things First, let me apologize for formatting issues, I am typing this on mobile. I generally find television boring, have little to no interest in Netflix shows, anime, and most video games and hobbies. I really only have one hobby that I have feel attachment to, and frankly, I dont enjoy most new shows. If I watch something of my own, its typically something I watched from when I was younger, like scooby doo or Phineas and ferb as the two main ones, being my absolute favorites from my youth, though that's rare as it is. And whenever I do those things, except for my one main hobby sometimes, I feel that I am all to aware that it's just escapism, and instead of escaping, I fall back into the same track. I don't think I have a short attention span, but that's what I always feel like I go back to in the back of my head, as that's what people my age are supposed to have because of this digital age.\" Question: Does the poster suffer from depression?\n",
      "\n"
     ]
    }
   ],
   "source": [
    "# expert examples\n",
    "df_DR = pd.read_csv('../data/expert_data/DR.csv')\n",
    "df_dreaddit = pd.read_csv('../data/expert_data/dreaddit.csv')\n",
    "df_Irf = pd.read_csv('../data/expert_data/Irf.csv')\n",
    "df_MultiWD = pd.read_csv('../data/expert_data/MultiWD.csv')\n",
    "df_SAD = pd.read_csv('../data/expert_data/SAD.csv')\n",
    "\n",
    "DR_train = pd.read_csv('../data/released_data_mentalllama/train_data/instruction_data/DR/train.csv')\n",
    "\n",
    "\n",
    "# instructions, make sure to your instruction align with the task of the dataset\n",
    "instructions = {\n",
    "    \"depression_detection\": '''You will be presented with 5 posts. Consider the emotions expressed in this post to identify whether the poster suffers from depression. Only return Yes or No, then explain your reasoning step by step. Here are some examples: ''',\n",
    "    \"stress_detection\": '''You will be presented with 5 posts. Consider the emotions expressed in this post to identify whether the poster suffers from stress. Only return Yes or No, then explain your reasoning step by step. Here are some examples: ''',\n",
    "    \"stress_cause_detection\": '''You will be presented with 5 posts. Consider the emotions expressed in this post to identify the cause of which the poster suffer from stress. Only select from the following labels:{school, financial, family, social, work, health, emotional, everyday, other}, then explain your reasoning step by step. Here are some examples: ''',\n",
    "    \"wellness_dimensions_detection\": '''You will be presented with 5 posts. Consider the emotions expressed in this post to identify whether the target wellness dimension exist in the post. Only return Yes or No, then explain your reasoning step by step. Here are some examples: ''',\n",
    "    \"interpersonal_risks_factors_detection\": '''You will be presented with 5 posts. Consider the emotions expressed in this post to identify whether the poster shows the target risk. Only return Yes or No, then explain your reasoning step by step. Here are some examples: '''\n",
    "}\n",
    "\n",
    "# example datasets for depression detection only!\n",
    "example_datasets = [df_DR]\n",
    "\n",
    "builder = PromptBuilder(example_datasets, DR_train)\n",
    "build_prompt = builder.build_prompt(instructions['depression_detection'])\n",
    "print(build_prompt[0])"
   ]
  },
  {
   "cell_type": "code",
   "execution_count": null,
   "id": "f6f766fa",
   "metadata": {},
   "outputs": [
    {
     "name": "stdout",
     "output_type": "stream",
     "text": [
      "Generating batch 1/1...\n"
     ]
    }
   ],
   "source": [
    "generate_pipeline(\n",
    "    builder, \n",
    "    instructions['depression_detection'], \n",
    "    output_file=\"generated_dataset_temp.csv\", \n",
    "    failed_output_file='failed_generate.csv', \n",
    "    client=client,\n",
    "    num_batches=1,\n",
    ")"
   ]
  },
  {
   "cell_type": "code",
   "execution_count": null,
   "id": "0b55aa6a",
   "metadata": {},
   "outputs": [],
   "source": []
  }
 ],
 "metadata": {
  "kernelspec": {
   "display_name": "python_ml",
   "language": "python",
   "name": "python3"
  },
  "language_info": {
   "codemirror_mode": {
    "name": "ipython",
    "version": 3
   },
   "file_extension": ".py",
   "mimetype": "text/x-python",
   "name": "python",
   "nbconvert_exporter": "python",
   "pygments_lexer": "ipython3",
   "version": "3.11.11"
  }
 },
 "nbformat": 4,
 "nbformat_minor": 5
}
