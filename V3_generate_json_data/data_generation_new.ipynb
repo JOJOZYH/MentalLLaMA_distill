{
 "cells": [
  {
   "cell_type": "code",
   "execution_count": 2,
   "id": "901fe8db",
   "metadata": {},
   "outputs": [],
   "source": [
    "import pandas as pd\n",
    "import data_generation_cot\n",
    "from openai import OpenAI\n",
    "import math"
   ]
  },
  {
   "cell_type": "code",
   "execution_count": 2,
   "id": "e9de46f2",
   "metadata": {},
   "outputs": [],
   "source": [
    "set_dataset_names = ['DR', 'dreaddit', 'Irf', 'MultiWD', 'SAD']"
   ]
  },
  {
   "cell_type": "markdown",
   "id": "ea9fcdee",
   "metadata": {},
   "source": [
    "## DR"
   ]
  },
  {
   "cell_type": "code",
   "execution_count": 10,
   "id": "ce4fc5ef",
   "metadata": {},
   "outputs": [
    {
     "name": "stdout",
     "output_type": "stream",
     "text": [
      "(1003, 2)\n",
      "(430, 2)\n",
      "Generating batch 1/1...\n",
      "Saved 5 rows to ../data/data_generated/train/DR/generated_dataset_dr_train.csv\n",
      "Generating batch 1/1...\n",
      "Saved 5 rows to ../data/data_generated/train/DR/generated_dataset_dr_val.csv\n"
     ]
    }
   ],
   "source": [
    "# DR dataset\n",
    "# initialize the OpenAI client, replace with your own API key\n",
    "client = OpenAI(api_key=\"sk-65c8b4ba8d2e4972adb8acc42e426750\", base_url=\"https://api.deepseek.com\")\n",
    "\n",
    "# generate for DR dataset, task: depression detection\n",
    "# load the dataset\n",
    "df_DR = pd.read_csv('../data/expert_data/DR.csv')\n",
    "DR_train = pd.read_csv('../data/released_data_mentalllama/train_data/instruction_data/DR/train.csv')\n",
    "DR_val = pd.read_csv('../data/released_data_mentalllama/train_data/instruction_data/DR/val.csv')\n",
    "print(DR_train.shape)\n",
    "print(DR_val.shape)\n",
    "\n",
    "# generate data for DR_train\n",
    "data_generation_cot.main(\n",
    "    df_DR, \n",
    "    DR_train, \n",
    "    client, \n",
    "    num_batches=1, \n",
    "    dataset_name='DR', \n",
    "    output_file=\"../data/data_generated/train/DR/generated_dataset_dr_train.csv\", \n",
    "    failed_output_file=\"failed_generate_dr_train.csv\"\n",
    ")\n",
    "\n",
    "# generate for DR_val\n",
    "data_generation_cot.main(\n",
    "    df_DR, \n",
    "    DR_val, \n",
    "    client, \n",
    "    num_batches=1, \n",
    "    dataset_name='DR', \n",
    "    output_file=\"../data/data_generated/train/DR/generated_dataset_dr_val.csv\", \n",
    "    failed_output_file=\"failed_generate_dr_val.csv\"\n",
    ")"
   ]
  },
  {
   "cell_type": "code",
   "execution_count": 15,
   "id": "81a20718",
   "metadata": {},
   "outputs": [
    {
     "name": "stdout",
     "output_type": "stream",
     "text": [
      ": You will be presented with a post and an assigned label to identify whether the poster\n",
      "    shows symptoms of depression. Consider the emotions expressed from post to explain the reasoning of the label step by step.\n",
      "    Here are some examples:\n",
      "\n",
      "### Expert-written examples:\n",
      "Query: Consider this post: \"The good times don't make the bad times worth living.\n",
      "People always act like it's worth living through bad times so you can experience the good times but to me it doesn't feel worth it. Even the good times are tainted and I can barely ever even \"enjoy\" them the way I'm supposed to. They barely even make it into the picture when I think about my life.\" Question: Does the poster suffer from depression?\n",
      "Response: Yes, the poster suffers from depression. Reasoning: The poster conveys a feeling of despondency about life's ups and downs. They express that even during what are supposed to be \"good times\", they can't fully appreciate or enjoy them. The sentiment that life's positive moments don't outweigh the negative ones for them is a recurring theme in their words. Furthermore, the poster feels detached or distant from the typical joys of life, suggesting that positive moments have little to no impact on their overall perception of their existence. The poster displays signs that are commonly associated with feelings of depression, such as anhedonia (the inability to feel pleasure), a negative outlook on life, and a feeling that life's challenges outweigh its rewards. The sentiment expressed about not finding worth in the good times due to the pervasive presence of the bad times is indicative of a depressive mindset.\n",
      "\n",
      "Query: Consider this post: \"Feeling nostalgic?\n",
      "Does anyone else obsess over a point of time in their life when they felt like they were truly happy? For me the last time in my life when I felt like I was truly happy was 2013 and 2014 (mostly the summers) Ever since then life has changed so much. My depression got worse than ever. I spend so much time reminiscing on the good times because life is so crappy now. Does it ever get better again or what? I keep telling myself this is just a stage and things will get good again but it just seems to get worse. Nostalgia can be a great feeling but it’s killing me now knowing how good life once was.\" Question: Does the poster suffer from depression?\n",
      "Response: Yes, the poster suffers from depression. Reasoning: The poster shows symptoms that are consistent with depression. Their fixation on a happier time, feelings of increasing despair, and questions about the future indicate a struggle with their mental and emotional well-being.The poster reflects on a specific time period in their life, namely 2013 and 2014, when they felt genuinely happy. They indicate that since that time, their life has undergone significant changes, and their depression has intensified. The poster seems to grapple with feelings of nostalgia and expresses distress over the contrast between their past happiness and their current state. They question whether their situation will improve and convey a sense of hopelessness about their future.\n",
      "\n",
      "Query: Consider this post: \"100% always try to be a nice friend but sometimes i dont want to, am i mean\n",
      "im in grad school. \n",
      "it will be way to long to explain the details\n",
      "but whenever i go out with a group of friends, this girl always texts me when she hears about it or sees pics, of why i didn't invite her. \n",
      "the thing is i know she's not exactly on good terms with them and i dont know how much they get a long. am i always obligated to ask her for when we go out. \" Question: Does the poster suffer from depression?\n",
      "Response: No, the poster does not suffer from depression. Reasoning: The poster appears to be dealing with social dynamics and the complexities of friendships in a grad school setting. While they express some feelings of guilt and uncertainty about their actions, the information given does not provide strong evidence that the poster is suffering from depression.\n",
      "\n",
      "Query: Consider this post: \"My struggle\n",
      "I barely get out of bed, I lost my job because I got to depressed to go in, My family don’t speak to me because they don’t believe in how depressed I am, I’ve distanced myself from all my friends they don’t even check up on me anymore. \n",
      "\n",
      "I just feel like I’ve been forgotten and it hurts so, so much \" Question: Does the poster suffer from depression?\n",
      "Response: Yes, the poster suffers from depression. Reasoning: The poster reveals a series of troubling experiences: difficulty getting out of bed, job loss due to debilitating feelings, strained family relations rooted in disbelief about their emotional state, and an estrangement from friends leading to feelings of loneliness and neglect.Based on the provided information, it seems highly likely that the poster is suffering from depression. The symptoms they describe - lack of motivation, job loss related to emotional struggles, feelings of isolation from family and friends, and the overarching sense of being forgotten - align with common indicators of depression.\n",
      "\n",
      "Query: Consider this post: \"When people ask you what you did for the weekend, or for your birthday, etc.\n",
      "I have no idea how to respond. My emotions have become so numb  that I can't feel anything so therefore I cannot enjoy anything I used to like doing. I literally just go to work everyday for 8 hours, come home and browse the news and reddit and listen to music, trying to entertain myself but never really succeeding. There's nothing I can enjoy. So when someone asks me what I did I just say some crap like I just relaxed at home or something, I don't know what else to say.\n",
      "\n",
      "It's the worst part about depression for me. Not being able to enjoy anything. I don't even look forward to coming home from work because it's not like I have anything to enjoy at home. It's all the same dullness. I'd probably work 12-14 hours a day seven days a week if I could because it wouldn't bother me at all, I'm not missing out on anything. Too bad they don't because they don't want to pay overtime for me of course.\" Question: Does the poster suffer from depression?\n",
      "Response: Yes, the poster suffers from depression. Reasoning: The poster communicates a profound sense of numbness and disinterest in activities that people typically find enjoyable. They report an inability to feel emotions, resulting in a lack of enjoyment in previously liked activities. Their routine is monotonous, revolving around work and aimless browsing, with no anticipation of leisure or relaxation even after a workday. They express a preference for prolonged work hours, not out of passion, but seemingly as a way to fill the emptiness they experience.The poster's expressed feelings of emotional numbness, lack of enjoyment, and a monotonous daily routine strongly suggest they may be suffering from depression. The numbness and lack of interest in activities are common symptoms of depression.\n",
      "\n",
      "Query: Consider this post: \"How would you describe your life at this point?\n",
      "I literally feel like my life is a complete crap! I’ve been holding my feelings in(self doubt, emotionally unstable) it’s been rough! I just quit my job because it was causing more panic attacks ...so now I’m without a job and still depressed! Basically life sucks for me!!!!\" Question: Does the poster suffer from depression?\n",
      "Response: Yes, the poster suffers from depression. Reasoning: The poster is expressing feelings and situations that are commonly associated with depression. They mention feelings of self-doubt, emotional instability, experiencing panic attacks due to work stress, and a sense of hopelessness regarding their life situation. The overall tone and content of the message strongly suggest that the poster may be suffering from depression or a related mental health condition.\n",
      "\n",
      "Query: Consider this post: \"Who even cares anymore\n",
      "I’ve just learned to accept my thought and I realise things aren’t gonna get better.I have the same cycle every day just play video games mourn for death wish I had weed and listen to sad songs till the morning life has just become such a boring shit show. Even talking to random people has me fucked up cause i fuck things up tell me guys what’s the point of even living anymore \" Question: Does the poster suffer from depression?\n",
      "Response: Yes, the poster suffers from depression. Reasoning: The post takes on a very negative tone, with the poster indulging in drugs and sad music and believing that life is meaningless and hopeless. The poster believes that talking to people screws things up, which points to low self-esteem and low self-achievement. These are all symptoms of depression.\n",
      "\n",
      "Query: Consider this post: \"Why do people try to motivate depressives using shame?\n",
      "I never understand the idea of people attempting to shame me out of my depression.\n",
      "\n",
      "\"How do you live like this? Why are you being like this? Your brothers aren't like this?\"\n",
      "\n",
      "If we're going to have a face off over who has the lower opinion of me, I guarantee, I will win every time. Or at least I hope I will because if not they hate me more than I can imagine.\n",
      "\n",
      "I feel awful about even saying that, I see the weakness in that statement, the defeatism, but that doesn't make it any less true.\" Question: Does the poster suffer from depression?\n",
      "Response: Yes, the poster suffers from depression. Reasoning: The poster is expressing feelings commonly associated with depression. They highlight external misunderstandings about their condition, exhibit significantly low self-worth, and recognize their own negative thought patterns but feel trapped in them. Their sentiments suggest they are struggling with depressive feelings and possibly a depressive disorder.\n",
      "\n",
      "Query: Consider this post: \"isnt it kind of crazy when people who actually are not clinically depressed say they want to die or are depressed for fun, when you are really dealing with those feelings for real?\n",
      "There are people at my work place who clearly are not clinically depressed but tag and share memes like they are lonely or depressed or just say they want to die in a funny way, when everyday is a huge challenge for me in terms of forcing myself to be alive and conform to the societal norms. This usually never gets to me because many people dont actually get what it means to be depressed. Even depressed people experience things in a spectrum. However, when I feel like I am falling off the wagon and I see these seemingly normal treat suicidal thoughts/coping mechanisms of genuinely depressed people/melancholy as fun memes and have a good laugh when all those things are part my own personal hell, I just go completely bonkers and I do not really know why. \n",
      "\n",
      "Anyone else feel like this ? \n",
      "\n",
      "Sorry for terrible punctuation. \" Question: Does the poster suffer from depression?\n",
      "Response: Yes, the poster suffers from depression. Reasoning: The poster began by questioning whether people think it's crazy for people who are not depressed to make fun of themselves for claiming to be depressed. The poster used to be able to be unaffected by this sort of thing but now has no ability to laugh off such behavior when they are in a meltdown. This suggests that the posters have been in stressful situations that have made them uncomfortable for a long time, which has traumatized them and triggered their depression.\n",
      "\n",
      "Query: Consider this post: \"The one and only thing I want to and have a will to do is to listen to the music all day and space out in it.\n",
      "Everything else is boring, draining and dull. And I receive no mental pleasure from doing anything else.\" Question: Does the poster suffer from depression?\n",
      "Response: Yes, the poster suffers from depression. Reasoning: The post describes a state of low desire, where the poster can't bring themselves to do anything but listen to music. Low interest in things, low motivation, and getting bored easily are all symptoms of depression. This indicates that the poster is in a more dangerous emotional state.\n",
      "\n",
      "\n",
      "### Now provide the reasoning for the following queries and responses in the format: {\"reasoning\": \"...\"}\n",
      "Q1: Consider this post: \"How to avoid a relapse? I've been having a particularly rough year; I attempted suicide, the love of my life left me, I failed my year at university, I've been physically assaulted, I've been sexually assaulted and today my grandfather died. I feel like I'm running on empty and doing the bare minimum to survive for myself while trying to be a rock to others. My emotional resilience has been wiped out. I feel \"okay\" but I've felt like this in the past and it has turned out that I've just been lying to myself and making things worse. Any advice on how to manage/process my emotions? Or just how to better understand myself?\" Question: Does the poster suffer from depression?\n",
      "Response: Yes\n",
      "Q2: Consider this post: \"This is how I feel and I have a slight sense I am the only one to think think this way. I am depressed? Help wanted I yearn for the days I was in high school. I felt as if I was always happy and never worried about anything. I am 22, just having graduated from University. It seems each day I am becoming a person who does not want to have a relationship with anyone other then my family. I want to be alone. Happiness to me is being sheltered by reality--alone with my thoughts. I deleted every single bit of social media I had about a year ago (SC, FB, Insta, Twitter, etc) in an attempt to become as alone as possible. I truly deep down wish I was never born, but I would never ever commit suicide. I wish more then anything else that I can just disappear and leave this world. I am studying for the MCAT currently. I don't have any problem doing so because of my extremely addictive personality, but I find that I enjoy things that take my mind off of reality. Studying, reading, listening to music or going for a drives are my favorite ways to achieve this. But the reality I see is that this world is shit. I believe that as a whole, humans are riddled with greed and selfishness that are the motivations behind MOST of everything in this world. And by humans, that obviously includes myself and I hate myself down to the core for the selfish things I have done. Maybe I am too cynical or something. But this bad world syndrome fucks my brain and idk. I REEEEALLLLY question every aspect of life and I can't help it. Each time I am left with questions that completely make me hate the way this world is. I guess I can give one example. The most recent self-philosophical argument I had is the idea of wars, with murdering others specifically. We praise those who fight for our country, yet at the same time a great deal of these same people are super religious. Do people not evaluate the reality they are in? Do they not question why they believe the things they do? Am I the only one? Does someone's act of ending another life provide justification for doing the same? Who is to even say so? If they would kill all of us if we did not kill them, then what makes our lives worth more? That's just one example, but then I look at areas like American healthcare or the fact my family and others are wealthy while there are people fucking dying because they cannot get water or food. Even the American political system with the deep state and shit. Why are we even on this damn earth? Seriously, what is the point of everything in life? I simply don't view the joys of life being worth living for. I just don't understand. This whole text here is just me rambling my thoughts in hopes that someone somewhere reading this could maybe help me.\" Question: Does the poster suffer from depression?\n",
      "Response: Yes\n",
      "Q3: Consider this post: \"Advice for getting back in touch with everyday life? I think the hardest thing for me, and the largest factor I need to address to try and feel healthy again, is simply trying to feel engaged in and enjoying the present. Right now, days have little to no meaning at all, and I am only really able to think of my life in terms of weeks, months, and years. As a result of that, I feel nothing from the hobbies or moments that would before provide me feelings of joy, satisfaction or just generally fulfilling myself. The only activities I really \"enjoy\" anymore is anything that provides me with a complete escape from reality, however these activities are not exactly one belonging to a healthy lifestyle. I just want to enjoy the things that I used to enjoy, but whenever I try I feel like I am wasting my time, are not doing them well enough. Has anybody gone through something similar, and has advice for how they managed to get through it? Thanks for reading.\" Question: Does the poster suffer from depression?\n",
      "Response: Yes\n",
      "Q4: Consider this post: \"Having a really bad stretch of days.. Hi all, I know this sub moves kinda fast but I just wanted to vent, hopefully some of you read this.. So my story is that I've had depression and social anxiety for about 15 years or so (at least that's when I recall starting to feel \"off\".. I'm 29 now).. Because of my poor decision to bottle things up and accept that I'm unhappy I put off seeking help until about a month or two ago in which I started going to therapy. It had taken a rather bad mental fallout that occurred in early December for me to finally reach out for help. In my sessions we've been working on techniques to combat both my SA and depression, these include going to places alone such as coffee shops, yoga classes, shopping malls, etc. (Keep in mind I have \"functioning\" social anxiety where I can physically be around people but I'm extremely uncomfortable the entire time and have a very difficult time interacting with people).. The thought process being that my depression stems from loneliness and my SA contributes to that.. It's been a big step for me to try and go out on my own, but I've been doing it almost every day even though it doesn't seem to be creating any improvement. Unfortunately the last few days have been incredibly difficult, I'm getting a very sick feeling of hopelessness and worry that my life is now just constantly shuffling around desperately trying to find something in the world that will \"fix\" me. I tried to sit at home last night to give myself a break and I couldn't even do that, I started becoming consumed by those bad thoughts and began having a panic attack.. So I decided to just go drive aimlessly even though we were in the middle of a snow storm.. I feel miserable again today and I'm just running out of steam to keep going, I really don't know what to do anymore.. I'm exhausted from constantly forcing myself into uncomfortable public situations but at the same time my home feels like a prison.. I have nobody to talk to or gain support from anymore, the couple of friends that I have all have their own lives with wives and kids and my family has been out of my life for 10 years and for good reason.. I know nobody has answers as to what I should do but I just needed to rant\" Question: Does the poster suffer from depression?\n",
      "Response: Yes\n",
      "Q5: Consider this post: \"I dont understand how people can be so interested in so many things First, let me apologize for formatting issues, I am typing this on mobile. I generally find television boring, have little to no interest in Netflix shows, anime, and most video games and hobbies. I really only have one hobby that I have feel attachment to, and frankly, I dont enjoy most new shows. If I watch something of my own, its typically something I watched from when I was younger, like scooby doo or Phineas and ferb as the two main ones, being my absolute favorites from my youth, though that's rare as it is. And whenever I do those things, except for my one main hobby sometimes, I feel that I am all to aware that it's just escapism, and instead of escaping, I fall back into the same track. I don't think I have a short attention span, but that's what I always feel like I go back to in the back of my head, as that's what people my age are supposed to have because of this digital age.\" Question: Does the poster suffer from depression?\n",
      "Response: Yes\n",
      "\n"
     ]
    }
   ],
   "source": [
    "from data_generation_cot import generate_pipeline, PromptBuilder\n",
    "builder = PromptBuilder(df_DR, DR_train)\n",
    "prompt = builder.build_prompt(instruction = ''': You will be presented with a post and an assigned label to identify whether the poster\n",
    "    shows symptoms of depression. Consider the emotions expressed from post to explain the reasoning of the label step by step.\n",
    "    Here are some examples:''')\n",
    "print(prompt[0])"
   ]
  },
  {
   "cell_type": "code",
   "execution_count": 16,
   "id": "98166f5f",
   "metadata": {},
   "outputs": [
    {
     "name": "stdout",
     "output_type": "stream",
     "text": [
      "Generating batch 1/1...\n",
      "Saved 5 rows to generated_dataset_dr_train.csv\n",
      "Saved 5 rows to generated_dataset_dr_train.csv\n"
     ]
    }
   ],
   "source": [
    "generate_pipeline(\n",
    "    builder, \n",
    "    ''': You will be presented with a post and an assigned label to identify whether the poster\n",
    "    shows symptoms of depression. Consider the emotions expressed from post to explain the reasoning of the label step by step.\n",
    "    Here are some examples:''',\n",
    "    output_file=\"generated_dataset_dr_train.csv\", \n",
    "    failed_output_file= \"failed_generate_dr_train.csv\",\n",
    "    client=client, \n",
    "    num_batches=1)"
   ]
  },
  {
   "cell_type": "markdown",
   "id": "e3f087dc",
   "metadata": {},
   "source": [
    "## dreaddit"
   ]
  },
  {
   "cell_type": "code",
   "execution_count": 11,
   "id": "790d8b37",
   "metadata": {},
   "outputs": [
    {
     "name": "stdout",
     "output_type": "stream",
     "text": [
      "(2837, 2)\n",
      "(300, 2)\n",
      "Generating batch 1/2...\n",
      "Generating batch 2/2...\n",
      "Generating batch 2/2...\n",
      "Saved 10 rows to ../data/data_generated/train/dreaddit/generated_dataset_dreaddit_train.csv\n",
      "Generating batch 1/2...\n",
      "Saved 10 rows to ../data/data_generated/train/dreaddit/generated_dataset_dreaddit_train.csv\n",
      "Generating batch 1/2...\n",
      "Generating batch 2/2...\n",
      "Generating batch 2/2...\n",
      "Saved 10 rows to ../data/data_generated/train/dreaddit/generated_dataset_dreaddit_val.csv\n",
      "Saved 10 rows to ../data/data_generated/train/dreaddit/generated_dataset_dreaddit_val.csv\n"
     ]
    }
   ],
   "source": [
    "# dreaddit dataset\n",
    "# initialize the OpenAI client, replace with your own API key\n",
    "client = OpenAI(api_key=\"sk-65c8b4ba8d2e4972adb8acc42e426750\", base_url=\"https://api.deepseek.com\")\n",
    "\n",
    "# generate for dreaddit dataset, task: stress detection\n",
    "# load the dataset\n",
    "df_dreaddit = pd.read_csv('../data/expert_data/dreaddit.csv')\n",
    "dreaddit_train = pd.read_csv('../data/released_data_mentalllama/train_data/instruction_data/dreaddit/train.csv')\n",
    "dreaddit_val = pd.read_csv('../data/released_data_mentalllama/train_data/instruction_data/dreaddit/val.csv')\n",
    "print(dreaddit_train.shape)\n",
    "print(dreaddit_val.shape)\n",
    "\n",
    "# generate data for dreaddit_train\n",
    "data_generation_cot.main(\n",
    "    df_dreaddit, \n",
    "    dreaddit_train, \n",
    "    client, \n",
    "    # num_batches=math.ceil(dreaddit_train.shape[0] / 5), \n",
    "    num_batches=2, # set to a fixed integer 1~3 if testing\n",
    "    dataset_name='dreaddit', \n",
    "    output_file=\"../data/data_generated/train/dreaddit/generated_dataset_dreaddit_train.csv\", \n",
    "    failed_output_file=\"failed_generate_dreaddit_train.csv\"\n",
    ")\n",
    "\n",
    "# generate for dreaddit_val\n",
    "data_generation_cot.main(\n",
    "    df_dreaddit, \n",
    "    dreaddit_val, \n",
    "    client, \n",
    "    num_batches=2, # set to a fixed integer 1~3 if testing\n",
    "    dataset_name='dreaddit', \n",
    "    output_file=\"../data/data_generated/train/dreaddit/generated_dataset_dreaddit_val.csv\", \n",
    "    failed_output_file=\"failed_generate_dreaddit_val.csv\"\n",
    ")"
   ]
  },
  {
   "cell_type": "markdown",
   "id": "5952b89e",
   "metadata": {},
   "source": [
    "## Irf"
   ]
  },
  {
   "cell_type": "code",
   "execution_count": null,
   "id": "f126548d",
   "metadata": {},
   "outputs": [],
   "source": [
    "# Irf dataset\n",
    "# initialize the OpenAI client, replace with your own API key\n",
    "client = OpenAI(api_key=\"\", base_url=\"https://api.deepseek.com\")\n",
    "\n",
    "# generate for Irf dataset, task: interpersonal risk factor detection\n",
    "# load the dataset\n",
    "df_Irf = pd.read_csv('../data/expert_data/Irf.csv')\n",
    "irf_train = pd.read_csv('../data/released_data_mentalllama/train_data/instruction_data/irf/train.csv')\n",
    "irf_val = pd.read_csv('../data/released_data_mentalllama/train_data/instruction_data/irf/val.csv')\n",
    "print(irf_train.shape)\n",
    "print(irf_val.shape)\n",
    "\n",
    "# generate data for irf_train\n",
    "data_generation_cot.main(\n",
    "    df_Irf, \n",
    "    irf_train, \n",
    "    client, \n",
    "    num_batches=math.ceil(irf_train.shape[0] / 5), # set to a fixed integer 1~3 if testing\n",
    "    dataset_name='Irf', \n",
    "    output_file=\"../data/data_generated/train/irf/generated_dataset_irf_train.csv\", \n",
    "    failed_output_file=\"failed_generate_irf_train.csv\"\n",
    ")\n",
    "\n",
    "# generate for irf_val\n",
    "data_generation_cot.main(\n",
    "    df_Irf, \n",
    "    irf_val, \n",
    "    client, \n",
    "    num_batches=math.ceil(irf_val.shape[0] / 5), # set to a fixed integer 1~3 if testing\n",
    "    dataset_name='Irf', \n",
    "    output_file=\"../data/data_generated/train/irf/generated_dataset_irf_val.csv\", \n",
    "    failed_output_file=\"failed_generate_irf_val.csv\"\n",
    ")"
   ]
  },
  {
   "cell_type": "markdown",
   "id": "ed7c5f55",
   "metadata": {},
   "source": [
    "## MultiWD"
   ]
  },
  {
   "cell_type": "code",
   "execution_count": null,
   "id": "71d84831",
   "metadata": {},
   "outputs": [],
   "source": [
    "# MultiWD dataset\n",
    "# initialize the OpenAI client, replace with your own API key\n",
    "client = OpenAI(api_key=\"\", base_url=\"https://api.deepseek.com\")\n",
    "\n",
    "# generate for MultiWD dataset, task: wellness dimensions detection\n",
    "# load the dataset\n",
    "df_MultiWD = pd.read_csv('../data/expert_data/MultiWD.csv')\n",
    "multiwd_train = pd.read_csv('../data/released_data_mentalllama/train_data/instruction_data/multiwd/train.csv')\n",
    "multiwd_val = pd.read_csv('../data/released_data_mentalllama/train_data/instruction_data/multiwd/val.csv')\n",
    "print(multiwd_train.shape)\n",
    "print(multiwd_val.shape)\n",
    "\n",
    "# generate data for multiwd_train\n",
    "data_generation_cot.main(\n",
    "    df_MultiWD, \n",
    "    multiwd_train, \n",
    "    client, \n",
    "    num_batches=math.ceil(multiwd_train.shape[0] / 5), \n",
    "    dataset_name='MultiWD', \n",
    "    output_file=\"../data/data_generated/train/multiwd/generated_dataset_multiwd_train.csv\", \n",
    "    failed_output_file=\"failed_generate_multiwd_train.csv\"\n",
    ")\n",
    "\n",
    "# generate for multiwd_val\n",
    "data_generation_cot.main(\n",
    "    df_MultiWD, \n",
    "    multiwd_val, \n",
    "    client, \n",
    "    num_batches=math.ceil(multiwd_val.shape[0] / 5), \n",
    "    dataset_name='MultiWD', \n",
    "    output_file=\"../data/data_generated/train/multiwd/generated_dataset_multiwd_val.csv\", \n",
    "    failed_output_file=\"failed_generate_multiwd_val.csv\"\n",
    ")"
   ]
  },
  {
   "cell_type": "markdown",
   "id": "e44dfe65",
   "metadata": {},
   "source": [
    "## SAD"
   ]
  },
  {
   "cell_type": "code",
   "execution_count": null,
   "id": "353e21ef",
   "metadata": {},
   "outputs": [],
   "source": [
    "# SAD dataset\n",
    "# initialize the OpenAI client, replace with your own API key\n",
    "client = OpenAI(api_key=\"\", base_url=\"https://api.deepseek.com\")\n",
    "\n",
    "# generate for SAD dataset, task: stress cause detection\n",
    "# load the dataset\n",
    "df_SAD = pd.read_csv('../data/expert_data/SAD.csv')\n",
    "sad_train = pd.read_csv('../data/released_data_mentalllama/train_data/instruction_data/sad/train.csv')\n",
    "sad_val = pd.read_csv('../data/released_data_mentalllama/train_data/instruction_data/sad/val.csv')\n",
    "print(sad_train.shape)\n",
    "print(sad_val.shape)\n",
    "\n",
    "# generate data for sad_train\n",
    "data_generation_cot.main(\n",
    "    df_SAD, \n",
    "    sad_train, \n",
    "    client, \n",
    "    num_batches=math.ceil(sad_train.shape[0] / 5), \n",
    "    dataset_name='SAD', \n",
    "    output_file=\"../data/data_generated/train/sad/generated_dataset_sad_train.csv\", \n",
    "    failed_output_file=\"failed_generate_sad_train.csv\"\n",
    ")\n",
    "\n",
    "# generate for sad_val\n",
    "data_generation_cot.main(\n",
    "    df_SAD, \n",
    "    sad_val, \n",
    "    client, \n",
    "    num_batches=math.ceil(sad_val.shape[0] / 5), \n",
    "    dataset_name='SAD', \n",
    "    output_file=\"../data/data_generated/train/sad/generated_dataset_sad_val.csv\", \n",
    "    failed_output_file=\"failed_generate_sad_val.csv\"\n",
    ")"
   ]
  }
 ],
 "metadata": {
  "kernelspec": {
   "display_name": "python_ml",
   "language": "python",
   "name": "python3"
  },
  "language_info": {
   "codemirror_mode": {
    "name": "ipython",
    "version": 3
   },
   "file_extension": ".py",
   "mimetype": "text/x-python",
   "name": "python",
   "nbconvert_exporter": "python",
   "pygments_lexer": "ipython3",
   "version": "3.11.11"
  }
 },
 "nbformat": 4,
 "nbformat_minor": 5
}
