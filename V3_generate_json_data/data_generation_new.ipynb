{
 "cells": [
  {
   "cell_type": "code",
   "execution_count": 3,
   "id": "901fe8db",
   "metadata": {},
   "outputs": [],
   "source": [
    "import pandas as pd\n",
    "from data_generation_cot import PromptBuilder, generate_pipeline\n",
    "from openai import OpenAI"
   ]
  },
  {
   "cell_type": "code",
   "execution_count": 4,
   "id": "904a2b69",
   "metadata": {},
   "outputs": [
    {
     "data": {
      "text/plain": [
       "<openai.OpenAI at 0x2ef0495a710>"
      ]
     },
     "execution_count": 4,
     "metadata": {},
     "output_type": "execute_result"
    }
   ],
   "source": [
    "OpenAI(api_key=\"sk-3027dc386bba4840abd9a5b16fcab47e\", base_url=\"https://api.deepseek.com\")"
   ]
  },
  {
   "cell_type": "code",
   "execution_count": 12,
   "id": "cceba9ed",
   "metadata": {},
   "outputs": [
    {
     "name": "stdout",
     "output_type": "stream",
     "text": [
      "You will be presented with 5 posts. Consider the emotions expressed in this post to identify whether the poster suffers from depression. Only return Yes or No, then explain your reasoning step by step. Here are N examples:\n",
      "\n",
      "### Expert-written examples:\n",
      "{\"query\": \"Consider this post: \\\"Ancestry.com - is it safe?\\r\\nHello!: )\\r\\n\\r\\nI'm a new user so if this post ends up in a weird place/thread, pls bear w me.\\r\\n\\r\\nHas anyone used Ancestry.com lately? They offer a two week trial but still require your credit card information. Is this suspicious? It doesn't cost anything for the first two weeks, and then you can end the trial so you don't have to pay anything even then, but I just feel a little uncomfortable dialing my credit card information on there online.... Am I being too doubtfull? Share your experiences?\\r\\n\\r\\nThank you!\\r\\n\\r\\nIf my English isn't perfect, that's because I'm not a native speaker.\\\" Question: Does the poster suffer from depression?\", \"answer\": \"No, the poster does not suffer from depression. Reasoning: The post showed no signs of depression, the poster was simply seeking advice from the internet about whether or not the site was safe, it was a post that had nothing to do with emotions.\"}\n",
      "{\"query\": \"Consider this post: \\\"Feeling nostalgic?\\r\\nDoes anyone else obsess over a point of time in their life when they felt like they were truly happy? For me the last time in my life when I felt like I was truly happy was 2013 and 2014 (mostly the summers) Ever since then life has changed so much. My depression got worse than ever. I spend so much time reminiscing on the good times because life is so crappy now. Does it ever get better again or what? I keep telling myself this is just a stage and things will get good again but it just seems to get worse. Nostalgia can be a great feeling but it’s killing me now knowing how good life once was.\\\" Question: Does the poster suffer from depression?\", \"answer\": \"Yes, the poster suffers from depression. Reasoning: The poster shows symptoms that are consistent with depression. Their fixation on a happier time, feelings of increasing despair, and questions about the future indicate a struggle with their mental and emotional well-being.The poster reflects on a specific time period in their life, namely 2013 and 2014, when they felt genuinely happy. They indicate that since that time, their life has undergone significant changes, and their depression has intensified. The poster seems to grapple with feelings of nostalgia and expresses distress over the contrast between their past happiness and their current state. They question whether their situation will improve and convey a sense of hopelessness about their future.\"}\n",
      "{\"query\": \"Consider this post: \\\"He’s abused my dog in the past and I’ve no doubt he’ll do it again. My dog is one of the only positive aspects in my life, so taking her to the humane society is something I really want to avoid. In addition to that I have no job, a partial college education (I’d prefer to stop going to school and get a job), and no place to go if I were to leave my husband. Please please tell me what I can do. I feel so hopeless about everything.\\\" Question: Does the poster suffer from stress?\", \"answer\": \"Yes, the poster suffers from stress. Reasoning: The post contains multiple stressors, including fear for the well-being of the dog due to past abuse, concern about potential future abuse by the husband, financial insecurity due to lack of a job, an unfinished college education, and feeling trapped in the current situation with no apparent escape. The direct statement \\\"I feel so hopeless about everything\\\" reinforces the notion of emotional distress and a sense of being overwhelmed.\"}\n",
      "{\"query\": \"Consider this post: \\\"I don't feel like he's in love with me and I question my feelings for him. I don't know if I'm being clingy or he was being cruel and I'm overreacting. I don't know if my numbness is caused by other stress in my life. What do I do. **\\\" Question: Does the poster suffer from stress?\", \"answer\": \"Yes, the poster suffers from stress. Reasoning: The poster expresses doubt and uncertainty about their partner's feelings and their own feelings towards their partner. The use of phrases such as \\\"I don't know\\\" multiple times suggests confusion and inner turmoil. The mention of feeling \\\"numb\\\" and questioning whether this numbness might be related to other stressors in their life further indicates emotional distress and potential stress. The urgency in their tone, as emphasized by the final \\\"What do I do,\\\" suggests a state of concern and tension.\"}\n",
      "{\"query\": \"Consider this post: \\\"I just don‚Äôt know why I don‚Äôt commit suicide and die Life is full of pain and misery I have done nothing wrong and I have tried so hard but i just cannot find the happiness that I deserve My Lord I ask you for nothing but my happiness\\\" Question: Does the post show risk of perceived burdensomeness?\", \"answer\": \"Yes, the post shows this risk. Reasoning: 1. The post mentions thoughts of suicide and a desire to die. These thoughts indicate a feeling of hopelessness and potential perceived burdensomeness. 2. The post also mentions experiencing pain and misery despite feeling like they have done nothing wrong and tried their best. This suggests a lack of self-worth and dissatisfaction with their current circumstances, which can contribute to perceived burdensomeness. 3. The post expresses a plea to a higher power for happiness, indicating a desire to escape the current mental state.\"}\n",
      "{\"query\": \"Consider this post: \\\"Just curious, as last year I have lost most if not all of my friends and in the New Year even my sibling has told me \\\"I don't want to be around negative people\\\" and proceeded to cut me out in all social platforms and in real life. I just can't help but think that I don't choose to be this way, it's just how I am...\\\" Question: Does the post show risk of thwarted belongingness?\", \"answer\": \"Yes, the post shows this risk. Reasoning: 1. The individual mentions losing most, if not all, of their friends, indicating a lack of social connections. 2. They mention their sibling cutting them out on social platforms and in real life, further emphasizing their isolation and lack of belongingness. 3. The individual expresses confusion and a sense of not choosing to be a certain way, suggesting a potential struggle with forming and maintaining relationships.\"}\n",
      "{\"query\": \"Consider this post: \\\"My parents were always coercive, and I was timid. It was too much for me to compete in a private high school, but my parents forced me to. I was forced to do it. And I entered medical school as my parents wanted. But I hate life that I regret every day by taking classes that I don't even want. But I don't have what I like and what I'm good at anymore. I want to get away from the life I've lived with as a puppet.\\\" Question: Does the spiritual wellness dimension exist in the post?\", \"answer\": \"No, this wellness dimension does not exist in the post. Reasoning: In the post, the individual expresses feelings of being forced into a path they do not want and the regret they have for pursuing a career they do not enjoy. While there is a sense of dissatisfaction and a desire for change, there is no mention of a search for meaning or purpose in human existence. The focus is on wanting to escape a life that they feel trapped in and find something they truly enjoy.\"}\n",
      "{\"query\": \"Consider this post: \\\"i'm a foreveralone with suicidal depression. i need to be held, by fucking anyone at this point. i don't have the money for a prostitute otherwise thats what i'd do. i posted a craigslist ad but im a random 32 year old man and no one's gonna be sympathetic probably. i need to be touched. i don't know what to do. i cannot leave the house, i cannot and do not care anymore to develop social skills to find a woman, nor would any woman want to date an unemployed balding 5'6\\\" suicidal depression sufferer on disability. i am at a breaking point to be completely honest. what do i do. i want to be held and stroked and comforted physically. i swear to god i am not looking for sex. i don't have my dog with me anymore. my family won't let me live with them.\\\" Question: Does the vocational wellness dimension exist in the post?\", \"answer\": \"Yes, this wellness dimension exists in the post. Reasoning: Although the post primarily focuses on the person's emotional state and their desire for physical comfort, they mention being unemployed and on disability. This indicates that their vocational aspect is present as it relates to their work or lack thereof.\"}\n",
      "{\"query\": \"Consider this post: \\\"i'm worried because the car is on it's last legs.  we need breaks but can't get them\\\" Question: What is the stress cause of this post?\", \"answer\": \"This post shows the stress cause related to financial problem. Reasoning: The post references concerns about a car that seems to be malfunctioning or deteriorating (\\\"on its last legs\\\") and mentions the specific need for \\\"breaks\\\" (likely meant to be \\\"brakes\\\"). This indicates financial constraints since they can't afford the necessary repairs, thereby categorizing it under \\\"Financial problem.\\\" Additionally, the stress of potentially not having a functioning vehicle and the safety concerns associated with not being able to get the brakes fixed can fall under the \\\"Others\\\" category, as it doesn't strictly align with any of the predefined causes of stress.\"}\n",
      "{\"query\": \"Consider this post: \\\"i have problems balancing work and school.\\\" Question: What is the stress cause of this post?\", \"answer\": \"This post shows the stress cause related to school. Reasoning: The post clearly highlights the challenge of juggling both work and academic commitments, suggesting these are the primary stressors for the individual. Navigating the demands of both a job and education can be daunting, resulting in stress. As such, the fitting labels for this post would be School and Work.\"}\n",
      "\n",
      "### Now answer the following queries in the following format: {\"response\": \"...\", \"reasoning\": \"...\"}\n",
      "Q1: Consider this post: \"How to avoid a relapse? I've been having a particularly rough year; I attempted suicide, the love of my life left me, I failed my year at university, I've been physically assaulted, I've been sexually assaulted and today my grandfather died. I feel like I'm running on empty and doing the bare minimum to survive for myself while trying to be a rock to others. My emotional resilience has been wiped out. I feel \"okay\" but I've felt like this in the past and it has turned out that I've just been lying to myself and making things worse. Any advice on how to manage/process my emotions? Or just how to better understand myself?\" Question: Does the poster suffer from depression?\n",
      "Q2: Consider this post: \"This is how I feel and I have a slight sense I am the only one to think think this way. I am depressed? Help wanted I yearn for the days I was in high school. I felt as if I was always happy and never worried about anything. I am 22, just having graduated from University. It seems each day I am becoming a person who does not want to have a relationship with anyone other then my family. I want to be alone. Happiness to me is being sheltered by reality--alone with my thoughts. I deleted every single bit of social media I had about a year ago (SC, FB, Insta, Twitter, etc) in an attempt to become as alone as possible. I truly deep down wish I was never born, but I would never ever commit suicide. I wish more then anything else that I can just disappear and leave this world. I am studying for the MCAT currently. I don't have any problem doing so because of my extremely addictive personality, but I find that I enjoy things that take my mind off of reality. Studying, reading, listening to music or going for a drives are my favorite ways to achieve this. But the reality I see is that this world is shit. I believe that as a whole, humans are riddled with greed and selfishness that are the motivations behind MOST of everything in this world. And by humans, that obviously includes myself and I hate myself down to the core for the selfish things I have done. Maybe I am too cynical or something. But this bad world syndrome fucks my brain and idk. I REEEEALLLLY question every aspect of life and I can't help it. Each time I am left with questions that completely make me hate the way this world is. I guess I can give one example. The most recent self-philosophical argument I had is the idea of wars, with murdering others specifically. We praise those who fight for our country, yet at the same time a great deal of these same people are super religious. Do people not evaluate the reality they are in? Do they not question why they believe the things they do? Am I the only one? Does someone's act of ending another life provide justification for doing the same? Who is to even say so? If they would kill all of us if we did not kill them, then what makes our lives worth more? That's just one example, but then I look at areas like American healthcare or the fact my family and others are wealthy while there are people fucking dying because they cannot get water or food. Even the American political system with the deep state and shit. Why are we even on this damn earth? Seriously, what is the point of everything in life? I simply don't view the joys of life being worth living for. I just don't understand. This whole text here is just me rambling my thoughts in hopes that someone somewhere reading this could maybe help me.\" Question: Does the poster suffer from depression?\n",
      "Q3: Consider this post: \"Advice for getting back in touch with everyday life? I think the hardest thing for me, and the largest factor I need to address to try and feel healthy again, is simply trying to feel engaged in and enjoying the present. Right now, days have little to no meaning at all, and I am only really able to think of my life in terms of weeks, months, and years. As a result of that, I feel nothing from the hobbies or moments that would before provide me feelings of joy, satisfaction or just generally fulfilling myself. The only activities I really \"enjoy\" anymore is anything that provides me with a complete escape from reality, however these activities are not exactly one belonging to a healthy lifestyle. I just want to enjoy the things that I used to enjoy, but whenever I try I feel like I am wasting my time, are not doing them well enough. Has anybody gone through something similar, and has advice for how they managed to get through it? Thanks for reading.\" Question: Does the poster suffer from depression?\n",
      "Q4: Consider this post: \"Having a really bad stretch of days.. Hi all, I know this sub moves kinda fast but I just wanted to vent, hopefully some of you read this.. So my story is that I've had depression and social anxiety for about 15 years or so (at least that's when I recall starting to feel \"off\".. I'm 29 now).. Because of my poor decision to bottle things up and accept that I'm unhappy I put off seeking help until about a month or two ago in which I started going to therapy. It had taken a rather bad mental fallout that occurred in early December for me to finally reach out for help. In my sessions we've been working on techniques to combat both my SA and depression, these include going to places alone such as coffee shops, yoga classes, shopping malls, etc. (Keep in mind I have \"functioning\" social anxiety where I can physically be around people but I'm extremely uncomfortable the entire time and have a very difficult time interacting with people).. The thought process being that my depression stems from loneliness and my SA contributes to that.. It's been a big step for me to try and go out on my own, but I've been doing it almost every day even though it doesn't seem to be creating any improvement. Unfortunately the last few days have been incredibly difficult, I'm getting a very sick feeling of hopelessness and worry that my life is now just constantly shuffling around desperately trying to find something in the world that will \"fix\" me. I tried to sit at home last night to give myself a break and I couldn't even do that, I started becoming consumed by those bad thoughts and began having a panic attack.. So I decided to just go drive aimlessly even though we were in the middle of a snow storm.. I feel miserable again today and I'm just running out of steam to keep going, I really don't know what to do anymore.. I'm exhausted from constantly forcing myself into uncomfortable public situations but at the same time my home feels like a prison.. I have nobody to talk to or gain support from anymore, the couple of friends that I have all have their own lives with wives and kids and my family has been out of my life for 10 years and for good reason.. I know nobody has answers as to what I should do but I just needed to rant\" Question: Does the poster suffer from depression?\n",
      "Q5: Consider this post: \"I dont understand how people can be so interested in so many things First, let me apologize for formatting issues, I am typing this on mobile. I generally find television boring, have little to no interest in Netflix shows, anime, and most video games and hobbies. I really only have one hobby that I have feel attachment to, and frankly, I dont enjoy most new shows. If I watch something of my own, its typically something I watched from when I was younger, like scooby doo or Phineas and ferb as the two main ones, being my absolute favorites from my youth, though that's rare as it is. And whenever I do those things, except for my one main hobby sometimes, I feel that I am all to aware that it's just escapism, and instead of escaping, I fall back into the same track. I don't think I have a short attention span, but that's what I always feel like I go back to in the back of my head, as that's what people my age are supposed to have because of this digital age.\" Question: Does the poster suffer from depression?\n",
      "\n"
     ]
    }
   ],
   "source": [
    "# expert examples\n",
    "df_DR = pd.read_csv('../data/expert_data/DR.csv')\n",
    "df_dreaddit = pd.read_csv('../data/expert_data/dreaddit.csv')\n",
    "df_Irf = pd.read_csv('../data/expert_data/Irf.csv')\n",
    "df_MultiWD = pd.read_csv('../data/expert_data/MultiWD.csv')\n",
    "df_SAD = pd.read_csv('../data/expert_data/SAD.csv')\n",
    "\n",
    "DR_train = pd.read_csv('../data/released_data_mentalllama/train_data/instruction_data/DR/train.csv')\n",
    "\n",
    "\n",
    "# instructions, make sure to your instruction align with the task of the dataset\n",
    "instructions = {\n",
    "    \"depression_detection\": '''You will be presented with 5 posts. Consider the emotions expressed in this post to identify whether the poster suffers from depression. Only return Yes or No, then explain your reasoning step by step. Here are N examples: ''',\n",
    "    \"stress_detection\": '''You will be presented with 5 posts. Consider the emotions expressed in this post to identify whether the poster suffers from stress. Only return Yes or No, then explain your reasoning step by step. Here are N examples: ''',\n",
    "    \"stress_cause_detection\": '''You will be presented with 5 posts. Consider the emotions expressed in this post to identify the cause of which the poster suffer from stress. Only select from the following labels:{school, financial, family, social, work, health, emotional, everyday, other}, then explain your reasoning step by step. Here are N examples: ''',\n",
    "    \"wellness_dimensions_detection\": '''You will be presented with 5 posts. Consider the emotions expressed in this post to identify whether the target wellness dimension exist in the post. Only return Yes or No, then explain your reasoning step by step. Here are N examples: ''',\n",
    "    \"interpersonal_risks_factors_detection\": '''You will be presented with 5 posts. Consider the emotions expressed in this post to identify whether the poster shows the target risk. Only return Yes or No, then explain your reasoning step by step. Here are N examples: '''\n",
    "}\n",
    "\n",
    "example_datasets = [\n",
    "    df_DR,\n",
    "    df_dreaddit,\n",
    "    df_Irf,\n",
    "    df_MultiWD,\n",
    "    df_SAD\n",
    "]\n",
    "\n",
    "builder = PromptBuilder(example_datasets, DR_train)\n",
    "build_prompt = builder.build_prompt(instructions['depression_detection'])\n",
    "print(build_prompt[0])"
   ]
  },
  {
   "cell_type": "code",
   "execution_count": null,
   "id": "f6f766fa",
   "metadata": {},
   "outputs": [
    {
     "name": "stdout",
     "output_type": "stream",
     "text": [
      "Generating batch 1/1...\n",
      "\n",
      "Saved 5 rows to generated_dataset_temp.csv\n"
     ]
    }
   ],
   "source": [
    "generate_pipeline(builder, instructions['depression_detection'], output_file=\"generated_dataset_temp.csv\", num_batches=1)"
   ]
  },
  {
   "cell_type": "code",
   "execution_count": null,
   "id": "0b55aa6a",
   "metadata": {},
   "outputs": [],
   "source": []
  }
 ],
 "metadata": {
  "kernelspec": {
   "display_name": "python_ml",
   "language": "python",
   "name": "python3"
  },
  "language_info": {
   "codemirror_mode": {
    "name": "ipython",
    "version": 3
   },
   "file_extension": ".py",
   "mimetype": "text/x-python",
   "name": "python",
   "nbconvert_exporter": "python",
   "pygments_lexer": "ipython3",
   "version": "3.11.11"
  }
 },
 "nbformat": 4,
 "nbformat_minor": 5
}
