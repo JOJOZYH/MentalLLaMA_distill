{
 "cells": [
  {
   "cell_type": "code",
   "execution_count": null,
   "id": "901fe8db",
   "metadata": {},
   "outputs": [],
   "source": [
    "import pandas as pd\n",
    "import data_generation_cot\n",
    "from openai import OpenAI"
   ]
  },
  {
   "cell_type": "code",
   "execution_count": null,
   "id": "7eb6e169",
   "metadata": {},
   "outputs": [],
   "source": [
    "# expert examples\n",
    "df_DR = pd.read_csv('../data/expert_data/DR.csv')\n",
    "df_dreaddit = pd.read_csv('../data/expert_data/dreaddit.csv')\n",
    "df_Irf = pd.read_csv('../data/expert_data/Irf.csv')\n",
    "df_MultiWD = pd.read_csv('../data/expert_data/MultiWD.csv')\n",
    "df_SAD = pd.read_csv('../data/expert_data/SAD.csv')"
   ]
  },
  {
   "cell_type": "code",
   "execution_count": null,
   "id": "e9de46f2",
   "metadata": {},
   "outputs": [],
   "source": [
    "set_dataset_names = ['DR', 'dreaddit', 'Irf', 'MultiWD', 'SAD']"
   ]
  },
  {
   "cell_type": "code",
   "execution_count": null,
   "id": "ce4fc5ef",
   "metadata": {},
   "outputs": [],
   "source": [
    "# DR dataset\n",
    "# initialize the OpenAI client, replace with your own API key\n",
    "client = OpenAI(api_key=\"\", base_url=\"https://api.deepseek.com\")\n",
    "\n",
    "# generate for DR dataset, task: depression detection\n",
    "# load the dataset\n",
    "DR_train = pd.read_csv('../data/released_data_mentalllama/train_data/instruction_data/DR/train.csv')\n",
    "DR_val = pd.read_csv('../data/released_data_mentalllama/train_data/instruction_data/DR/val.csv')\n",
    "print(DR_train.shape)\n",
    "print(DR_val.shape)\n",
    "\n",
    "data_generation_cot.main(\n",
    "    df_DR, \n",
    "    DR_train, \n",
    "    client, \n",
    "    num_batches=DR_train.shape // 5, \n",
    "    dataset_name='DR', \n",
    "    output_file=\"generated_dataset_dr_train.csv\", \n",
    "    failed_output_file=\"failed_generate_dr_train.csv\"\n",
    ")"
   ]
  },
  {
   "cell_type": "code",
   "execution_count": null,
   "id": "0b55aa6a",
   "metadata": {},
   "outputs": [],
   "source": []
  }
 ],
 "metadata": {
  "kernelspec": {
   "display_name": "python_ml",
   "language": "python",
   "name": "python3"
  },
  "language_info": {
   "codemirror_mode": {
    "name": "ipython",
    "version": 3
   },
   "file_extension": ".py",
   "mimetype": "text/x-python",
   "name": "python",
   "nbconvert_exporter": "python",
   "pygments_lexer": "ipython3",
   "version": "3.11.11"
  }
 },
 "nbformat": 4,
 "nbformat_minor": 5
}
