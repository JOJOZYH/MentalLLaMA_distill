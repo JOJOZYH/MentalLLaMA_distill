{
 "cells": [
  {
   "cell_type": "code",
   "execution_count": 2,
   "id": "901fe8db",
   "metadata": {},
   "outputs": [],
   "source": [
    "import pandas as pd\n",
    "import data_generation_cot\n",
    "from openai import OpenAI\n",
    "import math"
   ]
  },
  {
   "cell_type": "code",
   "execution_count": 2,
   "id": "e9de46f2",
   "metadata": {},
   "outputs": [],
   "source": [
    "set_dataset_names = ['DR', 'dreaddit', 'Irf', 'MultiWD', 'SAD']"
   ]
  },
  {
   "cell_type": "markdown",
   "id": "ea9fcdee",
   "metadata": {},
   "source": [
    "## DR"
   ]
  },
  {
   "cell_type": "code",
   "execution_count": 10,
   "id": "ce4fc5ef",
   "metadata": {},
   "outputs": [
    {
     "name": "stdout",
     "output_type": "stream",
     "text": [
      "(1003, 2)\n",
      "(430, 2)\n",
      "Generating batch 1/1...\n",
      "Saved 5 rows to ../data/data_generated/train/DR/generated_dataset_dr_train.csv\n",
      "Generating batch 1/1...\n",
      "Saved 5 rows to ../data/data_generated/train/DR/generated_dataset_dr_val.csv\n"
     ]
    }
   ],
   "source": [
    "# DR dataset\n",
    "# initialize the OpenAI client, replace with your own API key\n",
    "client = OpenAI(api_key=\"sk-65c8b4ba8d2e4972adb8acc42e426750\", base_url=\"https://api.deepseek.com\")\n",
    "\n",
    "# generate for DR dataset, task: depression detection\n",
    "# load the dataset\n",
    "df_DR = pd.read_csv('../data/expert_data/DR.csv')\n",
    "DR_train = pd.read_csv('../data/released_data_mentalllama/train_data/instruction_data/DR/train.csv')\n",
    "DR_val = pd.read_csv('../data/released_data_mentalllama/train_data/instruction_data/DR/val.csv')\n",
    "print(DR_train.shape)\n",
    "print(DR_val.shape)\n",
    "\n",
    "# generate data for DR_train\n",
    "data_generation_cot.main(\n",
    "    df_DR, \n",
    "    DR_train, \n",
    "    client, \n",
    "    num_batches=1, \n",
    "    dataset_name='DR', \n",
    "    output_file=\"../data/data_generated/train/DR/generated_dataset_dr_train.csv\", \n",
    "    failed_output_file=\"failed_generate_dr_train.csv\"\n",
    ")\n",
    "\n",
    "# generate for DR_val\n",
    "data_generation_cot.main(\n",
    "    df_DR, \n",
    "    DR_val, \n",
    "    client, \n",
    "    num_batches=1, \n",
    "    dataset_name='DR', \n",
    "    output_file=\"../data/data_generated/train/DR/generated_dataset_dr_val.csv\", \n",
    "    failed_output_file=\"failed_generate_dr_val.csv\"\n",
    ")"
   ]
  },
  {
   "cell_type": "code",
   "execution_count": 19,
   "id": "81a20718",
   "metadata": {},
   "outputs": [
    {
     "name": "stdout",
     "output_type": "stream",
     "text": [
      ": You will be presented with a post and an assigned label to identify whether the poster\n",
      "    shows symptoms of depression. Consider the emotions expressed from post to explain the reasoning of the label step by step.\n",
      "    Here are some examples:\n",
      "\n",
      "### Expert-written examples:\n",
      "Query: Consider this post: \"dealing with an emotionally unavailable best friend\n",
      "I see my best friend a lot. I dont wear my heart on my sleeve but I'm emotional. I definitely give too much in a relationship and end up getting hurt because of it. My friend has troubles expressing her emotions and generally gets very annoyed when she has to \"prove herself\" because she feels like people should just trust her. She doesn't have many friends because of this. I always express my irrational feelings but when shes angry she doesnt want to say anything because she doesnt want to hurt me. I don't want her to hold anything in but I know that I would suffer because of the truth.\n",
      "\n",
      "How do I balance our give and take? \n",
      "Is there anyway I can help her open up? Or is that impossible?\n",
      "\" Question: Does the poster suffer from depression?\n",
      "Response: No, the poster does not suffer from depression. Reasoning: The post indicates emotional struggles, vulnerability, and challenges in their relationship with their friend, but these factors alone don't necessarily equate to depression.The focus of the post is on seeking solutions to the posters' dilemmas with their friend, which indicates that the overall tone of the post remains rational and positive.\n",
      "\n",
      "Query: Consider this post: \"Does anybody feel like their life is meaningless if they don’t have a relationship or crush\n",
      "In my opinion it feels like love is the only medicine strong enough to cure my depression. Whenever I’m in love or lust I’m on top of the world I feel so good everything feels great, but once something happens to it I fall down this hole and my depression comes back even stronger. I need to learn to be their for me to grow love for myself. That almost seems impossible but I won’t give up and I’m going to work on becoming a better me. Better for myself, better for my life, and kicking my depression away once and for all.\" Question: Does the poster suffer from depression?\n",
      "Response: Yes, the poster suffers from depression. Reasoning: The poster describes a reliance on romantic relationships or infatuations to combat feelings of depression. When in love, they feel elated, but in the absence of that affection or connection, they fall into a depressive state. The poster does exhibit signs consistent with depression, especially in how they describe their reliance on relationships to mitigate feelings of sadness and the way their mood plummets once a romantic relationship or infatuation ends.\n",
      "\n",
      "Query: Consider this post: \"Ancestry.com - is it safe?\n",
      "Hello!: )\n",
      "\n",
      "I'm a new user so if this post ends up in a weird place/thread, pls bear w me.\n",
      "\n",
      "Has anyone used Ancestry.com lately? They offer a two week trial but still require your credit card information. Is this suspicious? It doesn't cost anything for the first two weeks, and then you can end the trial so you don't have to pay anything even then, but I just feel a little uncomfortable dialing my credit card information on there online.... Am I being too doubtfull? Share your experiences?\n",
      "\n",
      "Thank you!\n",
      "\n",
      "If my English isn't perfect, that's because I'm not a native speaker.\" Question: Does the poster suffer from depression?\n",
      "Response: No, the poster does not suffer from depression. Reasoning: The post showed no signs of depression, the poster was simply seeking advice from the internet about whether or not the site was safe, it was a post that had nothing to do with emotions.\n",
      "\n",
      "Query: Consider this post: \"That orange message-notification...\n",
      "It makes me happy, wanted, feeling like I belong. I love comments because I feel so alone in all of this. Even if the comment didn't help a lot, I feel like I'm not alone. Oh god I'm so miserable.\n",
      "\n",
      "EDIT: No its not a cry for attention or likes or upvotes. I sincerely feel good when I see the people of /r/depression commenting on my posts, and I love commenting on theirs. A mutual feeling of belonging...\" Question: Does the poster suffer from depression?\n",
      "Response: Yes, the poster suffers from depression. Reasoning: The emphasis on the joy derived from a simple message notification suggests a deep yearning for connection and validation.The explicit statement \"Oh god I'm so miserable\" clearly expresses distress.Their appreciation for the community of /r/depression and the mutual feeling of belonging they get from it indicates a search for understanding and shared experiences with others who are likely going through similar struggles.They clarify that their sentiment isn't just a cry for attention, suggesting an awareness of potential judgments but a sincere appreciation for the community support.The combination of these expressions indicates a person who is seeking connection and feels isolated in their experience. Their direct admission of feeling miserable further supports the likelihood that they may be suffering from depression or experiencing depressive symptoms.\n",
      "\n",
      "Query: Consider this post: \"I think about multiple ways of killing myself everyday but I can't bring myself to do it.\n",
      "I'm so done feeling so so alone. I have friends who I can talk to, but I feel like I'm burdening them everytime. I'm pretty much done with my life. my studies are going nowhere, and I have no motivation in life.\n",
      "\n",
      "I thought of running into the road, but I wouldn't want to be that selfish and traumatise some innocent driver. I thought of throwing myself off the building, but I wouldn't want my family to be burdened with that gruesome image. \" Question: Does the poster suffer from depression?\n",
      "Response: Yes, the poster suffers from depression. Reasoning: The poster is expressing very clear and concerning symptoms of severe depression or a related mental health condition. They mention recurrent suicidal ideation, feelings of isolation, the perception of being a burden to others, a lack of motivation, and a sense of hopelessness about their future. These are all significant warning signs.\n",
      "\n",
      "Query: Consider this post: \"does it ever feel like your friends arent really there?\n",
      "I genuinely care for and love my friends so I regularly ask them how they're doing on messenger since they all live so far away. I know my friends struggle with depression so I make it a point to contact them and let them know I'm here for them. \n",
      "But most times I am left on \"read\" or get lukewarm responses, as though they are annoyed. They don't really initiate conversation with me and rarely ask me how I'm doing.\n",
      "I hope I don't sound selfish in any way, but it just feels weird to care so much for people who don't seem to care that much for you. It hurts sometimes that I also struggle with depression but have no one to talk to..\" Question: Does the poster suffer from depression?\n",
      "Response: Yes, the poster suffers from depression. Reasoning: The poster emphasizes feeling like their friends aren't really there for them despite their efforts to reach out.They mention feeling hurt by the perception that their friends don't care as much for them as they do for their friends.They openly state that they struggle with depression and express feelings of loneliness and lack of support.The feelings of perceived isolation, coupled with their explicit mention of struggling with depression and lacking a support system, strongly indicate that the poster may be suffering from depression or experiencing depressive symptoms.\n",
      "\n",
      "Query: Consider this post: \"The good times don't make the bad times worth living.\n",
      "People always act like it's worth living through bad times so you can experience the good times but to me it doesn't feel worth it. Even the good times are tainted and I can barely ever even \"enjoy\" them the way I'm supposed to. They barely even make it into the picture when I think about my life.\" Question: Does the poster suffer from depression?\n",
      "Response: Yes, the poster suffers from depression. Reasoning: The poster conveys a feeling of despondency about life's ups and downs. They express that even during what are supposed to be \"good times\", they can't fully appreciate or enjoy them. The sentiment that life's positive moments don't outweigh the negative ones for them is a recurring theme in their words. Furthermore, the poster feels detached or distant from the typical joys of life, suggesting that positive moments have little to no impact on their overall perception of their existence. The poster displays signs that are commonly associated with feelings of depression, such as anhedonia (the inability to feel pleasure), a negative outlook on life, and a feeling that life's challenges outweigh its rewards. The sentiment expressed about not finding worth in the good times due to the pervasive presence of the bad times is indicative of a depressive mindset.\n",
      "\n",
      "Query: Consider this post: \"My hands won't do what I want them to.\n",
      "I know I know I've ranted about not being able to do anything artistic a thousand times now, but this is different.\n",
      "\n",
      "A few times I've forced myself to draw I was garbage, but I figured that's to be expected since I haven't done it in a while. However lately I've found playing video games much more difficult because I find myself pressing the wrong button almost purposely, or not reacting to something my brain processed seconds ago. It's even gotten to the point where typing is difficult for me--every other letter I find myself making a stupid typo, and its irritating. It shouldn't take every ounce of will and concentration to type a stupid reddit post, yet here we are........\" Question: Does the poster suffer from depression?\n",
      "Response: No, the poster does not suffer from depression. Reasoning: The poster is experiencing significant frustration over their declining motor skills and coordination. They are struggling with activities that they once found easy or intuitive, such as drawing, playing video games, and typing. The described challenges go beyond mere lack of practice and are causing them noticeable distress. While the poster does express feelings of frustration, irritation, and difficulties in performing usual tasks, these symptoms alone do not definitively point to clinical depression. Changes in motor coordination and concentration can be symptomatic of various conditions.\n",
      "\n",
      "Query: Consider this post: \"My struggle\n",
      "I barely get out of bed, I lost my job because I got to depressed to go in, My family don’t speak to me because they don’t believe in how depressed I am, I’ve distanced myself from all my friends they don’t even check up on me anymore. \n",
      "\n",
      "I just feel like I’ve been forgotten and it hurts so, so much \" Question: Does the poster suffer from depression?\n",
      "Response: Yes, the poster suffers from depression. Reasoning: The poster reveals a series of troubling experiences: difficulty getting out of bed, job loss due to debilitating feelings, strained family relations rooted in disbelief about their emotional state, and an estrangement from friends leading to feelings of loneliness and neglect.Based on the provided information, it seems highly likely that the poster is suffering from depression. The symptoms they describe - lack of motivation, job loss related to emotional struggles, feelings of isolation from family and friends, and the overarching sense of being forgotten - align with common indicators of depression.\n",
      "\n",
      "Query: Consider this post: \"When people ask you what you did for the weekend, or for your birthday, etc.\n",
      "I have no idea how to respond. My emotions have become so numb  that I can't feel anything so therefore I cannot enjoy anything I used to like doing. I literally just go to work everyday for 8 hours, come home and browse the news and reddit and listen to music, trying to entertain myself but never really succeeding. There's nothing I can enjoy. So when someone asks me what I did I just say some crap like I just relaxed at home or something, I don't know what else to say.\n",
      "\n",
      "It's the worst part about depression for me. Not being able to enjoy anything. I don't even look forward to coming home from work because it's not like I have anything to enjoy at home. It's all the same dullness. I'd probably work 12-14 hours a day seven days a week if I could because it wouldn't bother me at all, I'm not missing out on anything. Too bad they don't because they don't want to pay overtime for me of course.\" Question: Does the poster suffer from depression?\n",
      "Response: Yes, the poster suffers from depression. Reasoning: The poster communicates a profound sense of numbness and disinterest in activities that people typically find enjoyable. They report an inability to feel emotions, resulting in a lack of enjoyment in previously liked activities. Their routine is monotonous, revolving around work and aimless browsing, with no anticipation of leisure or relaxation even after a workday. They express a preference for prolonged work hours, not out of passion, but seemingly as a way to fill the emptiness they experience.The poster's expressed feelings of emotional numbness, lack of enjoyment, and a monotonous daily routine strongly suggest they may be suffering from depression. The numbness and lack of interest in activities are common symptoms of depression.\n",
      "\n",
      "\n",
      "### Now provide the reasoning for the following queries and responses in the format: {\"reasoning\": \"...\"}\n",
      "Q1: Consider this post: \"How to avoid a relapse? I've been having a particularly rough year; I attempted suicide, the love of my life left me, I failed my year at university, I've been physically assaulted, I've been sexually assaulted and today my grandfather died. I feel like I'm running on empty and doing the bare minimum to survive for myself while trying to be a rock to others. My emotional resilience has been wiped out. I feel \"okay\" but I've felt like this in the past and it has turned out that I've just been lying to myself and making things worse. Any advice on how to manage/process my emotions? Or just how to better understand myself?\" Question: Does the poster suffer from depression?\n",
      "Response: Yes\n",
      "Q2: Consider this post: \"This is how I feel and I have a slight sense I am the only one to think think this way. I am depressed? Help wanted I yearn for the days I was in high school. I felt as if I was always happy and never worried about anything. I am 22, just having graduated from University. It seems each day I am becoming a person who does not want to have a relationship with anyone other then my family. I want to be alone. Happiness to me is being sheltered by reality--alone with my thoughts. I deleted every single bit of social media I had about a year ago (SC, FB, Insta, Twitter, etc) in an attempt to become as alone as possible. I truly deep down wish I was never born, but I would never ever commit suicide. I wish more then anything else that I can just disappear and leave this world. I am studying for the MCAT currently. I don't have any problem doing so because of my extremely addictive personality, but I find that I enjoy things that take my mind off of reality. Studying, reading, listening to music or going for a drives are my favorite ways to achieve this. But the reality I see is that this world is shit. I believe that as a whole, humans are riddled with greed and selfishness that are the motivations behind MOST of everything in this world. And by humans, that obviously includes myself and I hate myself down to the core for the selfish things I have done. Maybe I am too cynical or something. But this bad world syndrome fucks my brain and idk. I REEEEALLLLY question every aspect of life and I can't help it. Each time I am left with questions that completely make me hate the way this world is. I guess I can give one example. The most recent self-philosophical argument I had is the idea of wars, with murdering others specifically. We praise those who fight for our country, yet at the same time a great deal of these same people are super religious. Do people not evaluate the reality they are in? Do they not question why they believe the things they do? Am I the only one? Does someone's act of ending another life provide justification for doing the same? Who is to even say so? If they would kill all of us if we did not kill them, then what makes our lives worth more? That's just one example, but then I look at areas like American healthcare or the fact my family and others are wealthy while there are people fucking dying because they cannot get water or food. Even the American political system with the deep state and shit. Why are we even on this damn earth? Seriously, what is the point of everything in life? I simply don't view the joys of life being worth living for. I just don't understand. This whole text here is just me rambling my thoughts in hopes that someone somewhere reading this could maybe help me.\" Question: Does the poster suffer from depression?\n",
      "Response: Yes\n",
      "Q3: Consider this post: \"Advice for getting back in touch with everyday life? I think the hardest thing for me, and the largest factor I need to address to try and feel healthy again, is simply trying to feel engaged in and enjoying the present. Right now, days have little to no meaning at all, and I am only really able to think of my life in terms of weeks, months, and years. As a result of that, I feel nothing from the hobbies or moments that would before provide me feelings of joy, satisfaction or just generally fulfilling myself. The only activities I really \"enjoy\" anymore is anything that provides me with a complete escape from reality, however these activities are not exactly one belonging to a healthy lifestyle. I just want to enjoy the things that I used to enjoy, but whenever I try I feel like I am wasting my time, are not doing them well enough. Has anybody gone through something similar, and has advice for how they managed to get through it? Thanks for reading.\" Question: Does the poster suffer from depression?\n",
      "Response: Yes\n",
      "Q4: Consider this post: \"Having a really bad stretch of days.. Hi all, I know this sub moves kinda fast but I just wanted to vent, hopefully some of you read this.. So my story is that I've had depression and social anxiety for about 15 years or so (at least that's when I recall starting to feel \"off\".. I'm 29 now).. Because of my poor decision to bottle things up and accept that I'm unhappy I put off seeking help until about a month or two ago in which I started going to therapy. It had taken a rather bad mental fallout that occurred in early December for me to finally reach out for help. In my sessions we've been working on techniques to combat both my SA and depression, these include going to places alone such as coffee shops, yoga classes, shopping malls, etc. (Keep in mind I have \"functioning\" social anxiety where I can physically be around people but I'm extremely uncomfortable the entire time and have a very difficult time interacting with people).. The thought process being that my depression stems from loneliness and my SA contributes to that.. It's been a big step for me to try and go out on my own, but I've been doing it almost every day even though it doesn't seem to be creating any improvement. Unfortunately the last few days have been incredibly difficult, I'm getting a very sick feeling of hopelessness and worry that my life is now just constantly shuffling around desperately trying to find something in the world that will \"fix\" me. I tried to sit at home last night to give myself a break and I couldn't even do that, I started becoming consumed by those bad thoughts and began having a panic attack.. So I decided to just go drive aimlessly even though we were in the middle of a snow storm.. I feel miserable again today and I'm just running out of steam to keep going, I really don't know what to do anymore.. I'm exhausted from constantly forcing myself into uncomfortable public situations but at the same time my home feels like a prison.. I have nobody to talk to or gain support from anymore, the couple of friends that I have all have their own lives with wives and kids and my family has been out of my life for 10 years and for good reason.. I know nobody has answers as to what I should do but I just needed to rant\" Question: Does the poster suffer from depression?\n",
      "Response: Yes\n",
      "Q5: Consider this post: \"I dont understand how people can be so interested in so many things First, let me apologize for formatting issues, I am typing this on mobile. I generally find television boring, have little to no interest in Netflix shows, anime, and most video games and hobbies. I really only have one hobby that I have feel attachment to, and frankly, I dont enjoy most new shows. If I watch something of my own, its typically something I watched from when I was younger, like scooby doo or Phineas and ferb as the two main ones, being my absolute favorites from my youth, though that's rare as it is. And whenever I do those things, except for my one main hobby sometimes, I feel that I am all to aware that it's just escapism, and instead of escaping, I fall back into the same track. I don't think I have a short attention span, but that's what I always feel like I go back to in the back of my head, as that's what people my age are supposed to have because of this digital age.\" Question: Does the poster suffer from depression?\n",
      "Response: Yes\n",
      "\n"
     ]
    }
   ],
   "source": [
    "from data_generation_cot import generate_pipeline, PromptBuilder\n",
    "builder = PromptBuilder(df_DR, DR_train)\n",
    "prompt = builder.build_prompt(instruction = ''': You will be presented with a post and an assigned label to identify whether the poster\n",
    "    shows symptoms of depression. Consider the emotions expressed from post to explain the reasoning of the label step by step.\n",
    "    Here are some examples:''')\n",
    "print(prompt[0])"
   ]
  },
  {
   "cell_type": "code",
   "execution_count": 16,
   "id": "98166f5f",
   "metadata": {},
   "outputs": [
    {
     "name": "stdout",
     "output_type": "stream",
     "text": [
      "Generating batch 1/1...\n",
      "Saved 5 rows to generated_dataset_dr_train.csv\n",
      "Saved 5 rows to generated_dataset_dr_train.csv\n"
     ]
    }
   ],
   "source": [
    "generate_pipeline(\n",
    "    builder, \n",
    "    ''': You will be presented with a post and an assigned label to identify whether the poster\n",
    "    shows symptoms of depression. Consider the emotions expressed from post to explain the reasoning of the label step by step.\n",
    "    Here are some examples:''',\n",
    "    output_file=\"generated_dataset_dr_train.csv\", \n",
    "    failed_output_file= \"failed_generate_dr_train.csv\",\n",
    "    client=client, \n",
    "    num_batches=1)"
   ]
  },
  {
   "cell_type": "markdown",
   "id": "e3f087dc",
   "metadata": {},
   "source": [
    "## dreaddit"
   ]
  },
  {
   "cell_type": "code",
   "execution_count": 18,
   "id": "790d8b37",
   "metadata": {},
   "outputs": [
    {
     "name": "stdout",
     "output_type": "stream",
     "text": [
      "(2837, 2)\n",
      "(300, 2)\n",
      "Generating batch 1/2...\n",
      "Generating batch 2/2...\n",
      "Saved 10 rows to ../data/data_generated/train/dreaddit/generated_dataset_dreaddit_train.csv\n",
      "Generating batch 1/2...\n",
      "Generating batch 2/2...\n",
      "Saved 10 rows to ../data/data_generated/train/dreaddit/generated_dataset_dreaddit_val.csv\n"
     ]
    }
   ],
   "source": [
    "# dreaddit dataset\n",
    "# initialize the OpenAI client, replace with your own API key\n",
    "client = OpenAI(api_key=\"sk-65c8b4ba8d2e4972adb8acc42e426750\", base_url=\"https://api.deepseek.com\")\n",
    "\n",
    "# generate for dreaddit dataset, task: stress detection\n",
    "# load the dataset\n",
    "df_dreaddit = pd.read_csv('../data/expert_data/dreaddit.csv')\n",
    "dreaddit_train = pd.read_csv('../data/released_data_mentalllama/train_data/instruction_data/dreaddit/train.csv')\n",
    "dreaddit_val = pd.read_csv('../data/released_data_mentalllama/train_data/instruction_data/dreaddit/val.csv')\n",
    "print(dreaddit_train.shape)\n",
    "print(dreaddit_val.shape)\n",
    "\n",
    "# generate data for dreaddit_train\n",
    "data_generation_cot.main(\n",
    "    df_dreaddit, \n",
    "    dreaddit_train, \n",
    "    client, \n",
    "    # num_batches=math.ceil(dreaddit_train.shape[0] / 5), \n",
    "    num_batches=2, # set to a fixed integer 1~3 if testing\n",
    "    dataset_name='dreaddit', \n",
    "    output_file=\"../data/data_generated/train/dreaddit/generated_dataset_dreaddit_train.csv\", \n",
    "    failed_output_file=\"failed_generate_dreaddit_train.csv\"\n",
    ")\n",
    "\n",
    "# generate for dreaddit_val\n",
    "data_generation_cot.main(\n",
    "    df_dreaddit, \n",
    "    dreaddit_val, \n",
    "    client, \n",
    "    num_batches=2, # set to a fixed integer 1~3 if testing\n",
    "    dataset_name='dreaddit', \n",
    "    output_file=\"../data/data_generated/train/dreaddit/generated_dataset_dreaddit_val.csv\", \n",
    "    failed_output_file=\"failed_generate_dreaddit_val.csv\"\n",
    ")"
   ]
  },
  {
   "cell_type": "markdown",
   "id": "5952b89e",
   "metadata": {},
   "source": [
    "## Irf"
   ]
  },
  {
   "cell_type": "code",
   "execution_count": null,
   "id": "f126548d",
   "metadata": {},
   "outputs": [],
   "source": [
    "# Irf dataset\n",
    "# initialize the OpenAI client, replace with your own API key\n",
    "client = OpenAI(api_key=\"\", base_url=\"https://api.deepseek.com\")\n",
    "\n",
    "# generate for Irf dataset, task: interpersonal risk factor detection\n",
    "# load the dataset\n",
    "df_Irf = pd.read_csv('../data/expert_data/Irf.csv')\n",
    "irf_train = pd.read_csv('../data/released_data_mentalllama/train_data/instruction_data/irf/train.csv')\n",
    "irf_val = pd.read_csv('../data/released_data_mentalllama/train_data/instruction_data/irf/val.csv')\n",
    "print(irf_train.shape)\n",
    "print(irf_val.shape)\n",
    "\n",
    "# generate data for irf_train\n",
    "data_generation_cot.main(\n",
    "    df_Irf, \n",
    "    irf_train, \n",
    "    client, \n",
    "    num_batches=math.ceil(irf_train.shape[0] / 5), # set to a fixed integer 1~3 if testing\n",
    "    dataset_name='Irf', \n",
    "    output_file=\"../data/data_generated/train/irf/generated_dataset_irf_train.csv\", \n",
    "    failed_output_file=\"failed_generate_irf_train.csv\"\n",
    ")\n",
    "\n",
    "# generate for irf_val\n",
    "data_generation_cot.main(\n",
    "    df_Irf, \n",
    "    irf_val, \n",
    "    client, \n",
    "    num_batches=math.ceil(irf_val.shape[0] / 5), # set to a fixed integer 1~3 if testing\n",
    "    dataset_name='Irf', \n",
    "    output_file=\"../data/data_generated/train/irf/generated_dataset_irf_val.csv\", \n",
    "    failed_output_file=\"failed_generate_irf_val.csv\"\n",
    ")"
   ]
  },
  {
   "cell_type": "markdown",
   "id": "ed7c5f55",
   "metadata": {},
   "source": [
    "## MultiWD"
   ]
  },
  {
   "cell_type": "code",
   "execution_count": 17,
   "id": "19f337cc",
   "metadata": {},
   "outputs": [],
   "source": [
    "# random sample 1/3 from the original dataset for MultiWD dataset\n",
    "multiwd_train = pd.read_csv('../data/released_data_mentalllama/train_data/instruction_data/multiwd/train.csv')\n",
    "multiwd_train = multiwd_train.sample(frac=1/3, random_state=42)"
   ]
  },
  {
   "cell_type": "code",
   "execution_count": null,
   "id": "71d84831",
   "metadata": {},
   "outputs": [],
   "source": [
    "# MultiWD dataset\n",
    "# initialize the OpenAI client, replace with your own API key\n",
    "client = OpenAI(api_key=\"\", base_url=\"https://api.deepseek.com\")\n",
    "\n",
    "# generate for MultiWD dataset, task: wellness dimensions detection\n",
    "# load the dataset\n",
    "df_MultiWD = pd.read_csv('../data/expert_data/MultiWD.csv')\n",
    "multiwd_val = pd.read_csv('../data/released_data_mentalllama/train_data/instruction_data/multiwd/val.csv')\n",
    "print(multiwd_train.shape)\n",
    "print(multiwd_val.shape)\n",
    "\n",
    "# generate data for multiwd_train\n",
    "data_generation_cot.main(\n",
    "    df_MultiWD, \n",
    "    multiwd_train, \n",
    "    client, \n",
    "    num_batches=math.ceil(multiwd_train.shape[0] / 5), \n",
    "    dataset_name='MultiWD', \n",
    "    output_file=\"../data/data_generated/train/multiwd/generated_dataset_multiwd_train.csv\", \n",
    "    failed_output_file=\"failed_generate_multiwd_train.csv\"\n",
    ")\n",
    "\n",
    "# generate for multiwd_val\n",
    "data_generation_cot.main(\n",
    "    df_MultiWD, \n",
    "    multiwd_val, \n",
    "    client, \n",
    "    num_batches=math.ceil(multiwd_val.shape[0] / 5), \n",
    "    dataset_name='MultiWD', \n",
    "    output_file=\"../data/data_generated/train/multiwd/generated_dataset_multiwd_val.csv\", \n",
    "    failed_output_file=\"failed_generate_multiwd_val.csv\"\n",
    ")"
   ]
  },
  {
   "cell_type": "markdown",
   "id": "e44dfe65",
   "metadata": {},
   "source": [
    "## SAD"
   ]
  },
  {
   "cell_type": "code",
   "execution_count": null,
   "id": "353e21ef",
   "metadata": {},
   "outputs": [],
   "source": [
    "# SAD dataset\n",
    "# initialize the OpenAI client, replace with your own API key\n",
    "client = OpenAI(api_key=\"\", base_url=\"https://api.deepseek.com\")\n",
    "\n",
    "# generate for SAD dataset, task: stress cause detection\n",
    "# load the dataset\n",
    "df_SAD = pd.read_csv('../data/expert_data/SAD.csv')\n",
    "sad_train = pd.read_csv('../data/released_data_mentalllama/train_data/instruction_data/sad/train.csv')\n",
    "sad_val = pd.read_csv('../data/released_data_mentalllama/train_data/instruction_data/sad/val.csv')\n",
    "print(sad_train.shape)\n",
    "print(sad_val.shape)\n",
    "\n",
    "# generate data for sad_train\n",
    "data_generation_cot.main(\n",
    "    df_SAD, \n",
    "    sad_train, \n",
    "    client, \n",
    "    num_batches=math.ceil(sad_train.shape[0] / 5), \n",
    "    dataset_name='SAD', \n",
    "    output_file=\"../data/data_generated/train/sad/generated_dataset_sad_train.csv\", \n",
    "    failed_output_file=\"failed_generate_sad_train.csv\"\n",
    ")\n",
    "\n",
    "# generate for sad_val\n",
    "data_generation_cot.main(\n",
    "    df_SAD, \n",
    "    sad_val, \n",
    "    client, \n",
    "    num_batches=math.ceil(sad_val.shape[0] / 5), \n",
    "    dataset_name='SAD', \n",
    "    output_file=\"../data/data_generated/train/sad/generated_dataset_sad_val.csv\", \n",
    "    failed_output_file=\"failed_generate_sad_val.csv\"\n",
    ")"
   ]
  }
 ],
 "metadata": {
  "kernelspec": {
   "display_name": "python_ml",
   "language": "python",
   "name": "python3"
  },
  "language_info": {
   "codemirror_mode": {
    "name": "ipython",
    "version": 3
   },
   "file_extension": ".py",
   "mimetype": "text/x-python",
   "name": "python",
   "nbconvert_exporter": "python",
   "pygments_lexer": "ipython3",
   "version": "3.11.11"
  }
 },
 "nbformat": 4,
 "nbformat_minor": 5
}
