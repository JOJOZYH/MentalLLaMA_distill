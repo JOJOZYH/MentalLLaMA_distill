{
  "nbformat": 4,
  "nbformat_minor": 0,
  "metadata": {
    "colab": {
      "provenance": [],
      "gpuType": "T4",
      "machine_shape": "hm"
    },
    "kernelspec": {
      "name": "python3",
      "display_name": "Python 3"
    },
    "language_info": {
      "name": "python"
    },
    "accelerator": "GPU"
  },
  "cells": [
    {
      "cell_type": "markdown",
      "source": [],
      "metadata": {
        "id": "pbGQg9lPHTtu"
      }
    },
    {
      "cell_type": "code",
      "source": [],
      "metadata": {
        "id": "bp4FN9AmSe3l"
      },
      "execution_count": null,
      "outputs": []
    },
    {
      "cell_type": "markdown",
      "source": [
        "Evaluation"
      ],
      "metadata": {
        "id": "4Hy5tcixmNmd"
      }
    },
    {
      "cell_type": "code",
      "source": [
        "!git clone https://github.com/SteveKGYang/MentalLLaMA.git\n",
        "%cd MentalLLaMA/src"
      ],
      "metadata": {
        "colab": {
          "base_uri": "https://localhost:8080/"
        },
        "id": "8ceZNWiutJN5",
        "outputId": "124097e1-7c58-403c-824f-141fe5a4d741"
      },
      "execution_count": null,
      "outputs": [
        {
          "output_type": "stream",
          "name": "stdout",
          "text": [
            "Cloning into 'MentalLLaMA'...\n",
            "remote: Enumerating objects: 349, done.\u001b[K\n",
            "remote: Counting objects: 100% (125/125), done.\u001b[K\n",
            "remote: Compressing objects: 100% (89/89), done.\u001b[K\n",
            "remote: Total 349 (delta 58), reused 95 (delta 36), pack-reused 224 (from 1)\u001b[K\n",
            "Receiving objects: 100% (349/349), 13.50 MiB | 5.42 MiB/s, done.\n",
            "Resolving deltas: 100% (153/153), done.\n",
            "Updating files: 100% (72/72), done.\n",
            "/content/MentalLLaMA/src\n"
          ]
        }
      ]
    },
    {
      "cell_type": "code",
      "source": [
        "!pwd"
      ],
      "metadata": {
        "colab": {
          "base_uri": "https://localhost:8080/"
        },
        "id": "p7qx9MogUznK",
        "outputId": "4f2131a2-4172-469e-9a10-09d99b3813b0"
      },
      "execution_count": null,
      "outputs": [
        {
          "output_type": "stream",
          "name": "stdout",
          "text": [
            "/content/MentalLLaMA/src\n"
          ]
        }
      ]
    },
    {
      "cell_type": "code",
      "source": [
        "!python IMHI.py --model_path klyang/MentaLLaMA-chat-7B --lora_path /content/mental_lora --batch_size 2 --model_output_path response_data1 --test_dataset IMHI --llama --cuda #batch_size 根据GPU调整\n",
        "# evaluate baseline model"
      ],
      "metadata": {
        "colab": {
          "base_uri": "https://localhost:8080/"
        },
        "id": "Gp34p8BQGwLa",
        "outputId": "200cd594-4b90-4826-9007-86987424b4b9"
      },
      "execution_count": null,
      "outputs": [
        {
          "output_type": "stream",
          "name": "stdout",
          "text": [
            "2025-03-14 20:24:00.004778: I tensorflow/core/util/port.cc:153] oneDNN custom operations are on. You may see slightly different numerical results due to floating-point round-off errors from different computation orders. To turn them off, set the environment variable `TF_ENABLE_ONEDNN_OPTS=0`.\n",
            "2025-03-14 20:24:00.023578: E external/local_xla/xla/stream_executor/cuda/cuda_fft.cc:477] Unable to register cuFFT factory: Attempting to register factory for plugin cuFFT when one has already been registered\n",
            "WARNING: All log messages before absl::InitializeLog() is called are written to STDERR\n",
            "E0000 00:00:1741983840.045365   26319 cuda_dnn.cc:8310] Unable to register cuDNN factory: Attempting to register factory for plugin cuDNN when one has already been registered\n",
            "E0000 00:00:1741983840.052111   26319 cuda_blas.cc:1418] Unable to register cuBLAS factory: Attempting to register factory for plugin cuBLAS when one has already been registered\n",
            "2025-03-14 20:24:00.074944: I tensorflow/core/platform/cpu_feature_guard.cc:210] This TensorFlow binary is optimized to use available CPU instructions in performance-critical operations.\n",
            "To enable the following instructions: AVX2 AVX512F AVX512_VNNI FMA, in other operations, rebuild TensorFlow with the appropriate compiler flags.\n",
            "Generating for dataset: MultiWD\n",
            "0\n",
            "2\n",
            "4\n",
            "6\n",
            "8\n",
            "10\n",
            "12\n",
            "14\n",
            "16\n",
            "18\n",
            "Generating for dataset: CAMS\n",
            "0\n",
            "2\n",
            "4\n",
            "6\n",
            "8\n",
            "10\n",
            "12\n",
            "14\n",
            "16\n",
            "18\n",
            "Generating for dataset: swmh\n",
            "0\n",
            "2\n",
            "4\n",
            "6\n",
            "8\n",
            "10\n",
            "12\n",
            "14\n",
            "16\n",
            "18\n",
            "Generating for dataset: dreaddit\n",
            "0\n",
            "2\n",
            "4\n",
            "6\n",
            "8\n",
            "10\n",
            "12\n",
            "14\n",
            "16\n",
            "18\n",
            "Generating for dataset: DR\n",
            "0\n",
            "2\n",
            "4\n",
            "6\n",
            "8\n",
            "10\n",
            "12\n",
            "14\n",
            "16\n",
            "18\n",
            "Generating for dataset: SAD\n",
            "0\n",
            "2\n",
            "4\n",
            "6\n",
            "8\n",
            "10\n",
            "12\n",
            "14\n",
            "16\n",
            "18\n",
            "Generating for dataset: t-sid\n",
            "0\n",
            "2\n",
            "4\n",
            "6\n",
            "8\n",
            "10\n",
            "12\n",
            "14\n",
            "16\n",
            "18\n",
            "Generating for dataset: loneliness\n",
            "0\n",
            "2\n",
            "4\n",
            "6\n",
            "8\n",
            "10\n",
            "12\n",
            "14\n",
            "16\n",
            "18\n",
            "Generating for dataset: Irf\n",
            "0\n",
            "2\n",
            "4\n",
            "6\n",
            "8\n",
            "10\n",
            "12\n",
            "14\n",
            "16\n",
            "18\n"
          ]
        }
      ]
    },
    {
      "cell_type": "code",
      "source": [
        "%cd ../\n",
        "!pwd"
      ],
      "metadata": {
        "colab": {
          "base_uri": "https://localhost:8080/"
        },
        "id": "azEyMAqa2OH2",
        "outputId": "e1b016d3-abe2-4a35-82cf-f37bd39be028"
      },
      "execution_count": null,
      "outputs": [
        {
          "output_type": "stream",
          "name": "stdout",
          "text": [
            "/content/MentalLLaMA\n",
            "/content/MentalLLaMA\n"
          ]
        }
      ]
    },
    {
      "cell_type": "code",
      "source": [
        "%cd MODEL_PATH"
      ],
      "metadata": {
        "colab": {
          "base_uri": "https://localhost:8080/"
        },
        "id": "_ViEeXxL4b3I",
        "outputId": "dfa10a25-4af6-45a4-afcb-8e374295ca4b"
      },
      "execution_count": null,
      "outputs": [
        {
          "output_type": "stream",
          "name": "stdout",
          "text": [
            "/content/MentalLLaMA/src/MODEL_PATH\n"
          ]
        }
      ]
    },
    {
      "cell_type": "code",
      "source": [
        "!git clone https://huggingface.co/Tianlin668/t-sid"
      ],
      "metadata": {
        "colab": {
          "base_uri": "https://localhost:8080/"
        },
        "id": "q-E8S4BXFwNL",
        "outputId": "d4e5e9ff-353b-4781-b8b2-dda07570b623"
      },
      "execution_count": null,
      "outputs": [
        {
          "output_type": "stream",
          "name": "stdout",
          "text": [
            "Cloning into 't-sid'...\n",
            "remote: Enumerating objects: 13, done.\u001b[K\n",
            "remote: Total 13 (delta 0), reused 0 (delta 0), pack-reused 13 (from 1)\u001b[K\n",
            "Unpacking objects: 100% (13/13), 297.10 KiB | 5.94 MiB/s, done.\n"
          ]
        }
      ]
    },
    {
      "cell_type": "code",
      "source": [
        "!pwd"
      ],
      "metadata": {
        "colab": {
          "base_uri": "https://localhost:8080/"
        },
        "id": "QMjb-SS1Gfu-",
        "outputId": "8d067758-c821-4f50-8a6b-8216bf4223b9"
      },
      "execution_count": null,
      "outputs": [
        {
          "output_type": "stream",
          "name": "stdout",
          "text": [
            "/content/MentalLLaMA/src\n"
          ]
        }
      ]
    },
    {
      "cell_type": "code",
      "source": [
        "!python label_inference.py --model_path MODEL_PATH --data_path model_ouput/response_data --data_output_path OUTPUT_DATA1 --calculate --cuda"
      ],
      "metadata": {
        "colab": {
          "base_uri": "https://localhost:8080/"
        },
        "id": "j_lzP2Bp1A15",
        "outputId": "df447346-2de2-4351-cf79-d9d0b8132f34"
      },
      "execution_count": null,
      "outputs": [
        {
          "output_type": "stream",
          "name": "stdout",
          "text": [
            "2025-03-14 20:42:42.137996: I tensorflow/core/util/port.cc:153] oneDNN custom operations are on. You may see slightly different numerical results due to floating-point round-off errors from different computation orders. To turn them off, set the environment variable `TF_ENABLE_ONEDNN_OPTS=0`.\n",
            "2025-03-14 20:42:42.156897: E external/local_xla/xla/stream_executor/cuda/cuda_fft.cc:477] Unable to register cuFFT factory: Attempting to register factory for plugin cuFFT when one has already been registered\n",
            "WARNING: All log messages before absl::InitializeLog() is called are written to STDERR\n",
            "E0000 00:00:1741984962.179284   31318 cuda_dnn.cc:8310] Unable to register cuDNN factory: Attempting to register factory for plugin cuDNN when one has already been registered\n",
            "E0000 00:00:1741984962.186215   31318 cuda_blas.cc:1418] Unable to register cuBLAS factory: Attempting to register factory for plugin cuBLAS when one has already been registered\n",
            "2025-03-14 20:42:42.208782: I tensorflow/core/platform/cpu_feature_guard.cc:210] This TensorFlow binary is optimized to use available CPU instructions in performance-critical operations.\n",
            "To enable the following instructions: AVX2 AVX512F AVX512_VNNI FMA, in other operations, rebuild TensorFlow with the appropriate compiler flags.\n",
            "Generating for MultiWD dataset.\n",
            "Generating for CAMS dataset.\n",
            "Generating for swmh dataset.\n",
            "Generating for dreaddit dataset.\n",
            "Generating for DR dataset.\n",
            "Generating for SAD dataset.\n",
            "Generating for t-sid dataset.\n",
            "Generating for loneliness dataset.\n",
            "Generating for Irf dataset.\n",
            "Dataset: MultiWD, average acc:85.0, weighted F1 85.2, micro F1 85.0, macro F1 84.0\n",
            "Dataset: CAMS, average acc:55.0, weighted F1 52.9, micro F1 55.0, macro F1 47.88\n",
            "Dataset: swmh, average acc:70.0, weighted F1 69.24, micro F1 70.0, macro F1 70.21\n",
            "Dataset: dreaddit, average acc:65.0, weighted F1 58.09, micro F1 65.0, macro F1 56.11\n",
            "Dataset: DR, average acc:85.0, weighted F1 84.58, micro F1 85.0, macro F1 81.19\n",
            "Dataset: SAD, average acc:55.0, weighted F1 53.67, micro F1 55.0, macro F1 42.92\n",
            "Dataset: t-sid, average acc:70.0, weighted F1 77.63, micro F1 70.0, macro F1 50.32\n",
            "Dataset: loneliness, average acc:80.0, weighted F1 74.51, micro F1 80.0, macro F1 60.78\n",
            "Dataset: Irf, average acc:75.0, weighted F1 75.5, micro F1 75.0, macro F1 71.51\n"
          ]
        }
      ]
    },
    {
      "cell_type": "code",
      "source": [
        "!git clone https://github.com/jinlanfu/GPTScore.git"
      ],
      "metadata": {
        "colab": {
          "base_uri": "https://localhost:8080/"
        },
        "id": "BBXvgCAFH1D1",
        "outputId": "2712185b-0474-4597-94c9-792a4ea8e601"
      },
      "execution_count": null,
      "outputs": [
        {
          "output_type": "stream",
          "name": "stdout",
          "text": [
            "Cloning into 'GPTScore'...\n",
            "remote: Enumerating objects: 50, done.\u001b[K\n",
            "remote: Counting objects: 100% (50/50), done.\u001b[K\n",
            "remote: Compressing objects: 100% (35/35), done.\u001b[K\n",
            "remote: Total 50 (delta 13), reused 44 (delta 10), pack-reused 0 (from 0)\u001b[K\n",
            "Receiving objects: 100% (50/50), 851.74 KiB | 6.76 MiB/s, done.\n",
            "Resolving deltas: 100% (13/13), done.\n"
          ]
        }
      ]
    },
    {
      "cell_type": "code",
      "source": [
        "!pip install evaluate"
      ],
      "metadata": {
        "colab": {
          "base_uri": "https://localhost:8080/"
        },
        "id": "aGoYwpx5IgiS",
        "outputId": "83db4f94-2229-4e7f-b46f-248434d4ef6b"
      },
      "execution_count": null,
      "outputs": [
        {
          "output_type": "stream",
          "name": "stdout",
          "text": [
            "Collecting evaluate\n",
            "  Downloading evaluate-0.4.3-py3-none-any.whl.metadata (9.2 kB)\n",
            "Collecting datasets>=2.0.0 (from evaluate)\n",
            "  Downloading datasets-3.4.0-py3-none-any.whl.metadata (19 kB)\n",
            "Requirement already satisfied: numpy>=1.17 in /usr/local/lib/python3.11/dist-packages (from evaluate) (1.26.4)\n",
            "Collecting dill (from evaluate)\n",
            "  Downloading dill-0.3.9-py3-none-any.whl.metadata (10 kB)\n",
            "Requirement already satisfied: pandas in /usr/local/lib/python3.11/dist-packages (from evaluate) (2.2.2)\n",
            "Requirement already satisfied: requests>=2.19.0 in /usr/local/lib/python3.11/dist-packages (from evaluate) (2.32.3)\n",
            "Requirement already satisfied: tqdm>=4.62.1 in /usr/local/lib/python3.11/dist-packages (from evaluate) (4.67.1)\n",
            "Collecting xxhash (from evaluate)\n",
            "  Downloading xxhash-3.5.0-cp311-cp311-manylinux_2_17_x86_64.manylinux2014_x86_64.whl.metadata (12 kB)\n",
            "Collecting multiprocess (from evaluate)\n",
            "  Downloading multiprocess-0.70.17-py311-none-any.whl.metadata (7.2 kB)\n",
            "Requirement already satisfied: fsspec>=2021.05.0 in /usr/local/lib/python3.11/dist-packages (from fsspec[http]>=2021.05.0->evaluate) (2024.10.0)\n",
            "Requirement already satisfied: huggingface-hub>=0.7.0 in /usr/local/lib/python3.11/dist-packages (from evaluate) (0.28.1)\n",
            "Requirement already satisfied: packaging in /usr/local/lib/python3.11/dist-packages (from evaluate) (24.2)\n",
            "Requirement already satisfied: filelock in /usr/local/lib/python3.11/dist-packages (from datasets>=2.0.0->evaluate) (3.17.0)\n",
            "Requirement already satisfied: pyarrow>=15.0.0 in /usr/local/lib/python3.11/dist-packages (from datasets>=2.0.0->evaluate) (18.1.0)\n",
            "Collecting dill (from evaluate)\n",
            "  Downloading dill-0.3.8-py3-none-any.whl.metadata (10 kB)\n",
            "Collecting multiprocess (from evaluate)\n",
            "  Downloading multiprocess-0.70.16-py311-none-any.whl.metadata (7.2 kB)\n",
            "Requirement already satisfied: aiohttp in /usr/local/lib/python3.11/dist-packages (from datasets>=2.0.0->evaluate) (3.11.13)\n",
            "Requirement already satisfied: pyyaml>=5.1 in /usr/local/lib/python3.11/dist-packages (from datasets>=2.0.0->evaluate) (6.0.2)\n",
            "Requirement already satisfied: typing-extensions>=3.7.4.3 in /usr/local/lib/python3.11/dist-packages (from huggingface-hub>=0.7.0->evaluate) (4.12.2)\n",
            "Requirement already satisfied: charset-normalizer<4,>=2 in /usr/local/lib/python3.11/dist-packages (from requests>=2.19.0->evaluate) (3.4.1)\n",
            "Requirement already satisfied: idna<4,>=2.5 in /usr/local/lib/python3.11/dist-packages (from requests>=2.19.0->evaluate) (3.10)\n",
            "Requirement already satisfied: urllib3<3,>=1.21.1 in /usr/local/lib/python3.11/dist-packages (from requests>=2.19.0->evaluate) (2.3.0)\n",
            "Requirement already satisfied: certifi>=2017.4.17 in /usr/local/lib/python3.11/dist-packages (from requests>=2.19.0->evaluate) (2025.1.31)\n",
            "Requirement already satisfied: python-dateutil>=2.8.2 in /usr/local/lib/python3.11/dist-packages (from pandas->evaluate) (2.8.2)\n",
            "Requirement already satisfied: pytz>=2020.1 in /usr/local/lib/python3.11/dist-packages (from pandas->evaluate) (2025.1)\n",
            "Requirement already satisfied: tzdata>=2022.7 in /usr/local/lib/python3.11/dist-packages (from pandas->evaluate) (2025.1)\n",
            "Requirement already satisfied: aiohappyeyeballs>=2.3.0 in /usr/local/lib/python3.11/dist-packages (from aiohttp->datasets>=2.0.0->evaluate) (2.6.1)\n",
            "Requirement already satisfied: aiosignal>=1.1.2 in /usr/local/lib/python3.11/dist-packages (from aiohttp->datasets>=2.0.0->evaluate) (1.3.2)\n",
            "Requirement already satisfied: attrs>=17.3.0 in /usr/local/lib/python3.11/dist-packages (from aiohttp->datasets>=2.0.0->evaluate) (25.2.0)\n",
            "Requirement already satisfied: frozenlist>=1.1.1 in /usr/local/lib/python3.11/dist-packages (from aiohttp->datasets>=2.0.0->evaluate) (1.5.0)\n",
            "Requirement already satisfied: multidict<7.0,>=4.5 in /usr/local/lib/python3.11/dist-packages (from aiohttp->datasets>=2.0.0->evaluate) (6.1.0)\n",
            "Requirement already satisfied: propcache>=0.2.0 in /usr/local/lib/python3.11/dist-packages (from aiohttp->datasets>=2.0.0->evaluate) (0.3.0)\n",
            "Requirement already satisfied: yarl<2.0,>=1.17.0 in /usr/local/lib/python3.11/dist-packages (from aiohttp->datasets>=2.0.0->evaluate) (1.18.3)\n",
            "Requirement already satisfied: six>=1.5 in /usr/local/lib/python3.11/dist-packages (from python-dateutil>=2.8.2->pandas->evaluate) (1.17.0)\n",
            "Downloading evaluate-0.4.3-py3-none-any.whl (84 kB)\n",
            "\u001b[2K   \u001b[90m━━━━━━━━━━━━━━━━━━━━━━━━━━━━━━━━━━━━━━━━\u001b[0m \u001b[32m84.0/84.0 kB\u001b[0m \u001b[31m3.4 MB/s\u001b[0m eta \u001b[36m0:00:00\u001b[0m\n",
            "\u001b[?25hDownloading datasets-3.4.0-py3-none-any.whl (487 kB)\n",
            "\u001b[2K   \u001b[90m━━━━━━━━━━━━━━━━━━━━━━━━━━━━━━━━━━━━━━━━\u001b[0m \u001b[32m487.4/487.4 kB\u001b[0m \u001b[31m14.6 MB/s\u001b[0m eta \u001b[36m0:00:00\u001b[0m\n",
            "\u001b[?25hDownloading dill-0.3.8-py3-none-any.whl (116 kB)\n",
            "\u001b[2K   \u001b[90m━━━━━━━━━━━━━━━━━━━━━━━━━━━━━━━━━━━━━━━━\u001b[0m \u001b[32m116.3/116.3 kB\u001b[0m \u001b[31m12.7 MB/s\u001b[0m eta \u001b[36m0:00:00\u001b[0m\n",
            "\u001b[?25hDownloading multiprocess-0.70.16-py311-none-any.whl (143 kB)\n",
            "\u001b[2K   \u001b[90m━━━━━━━━━━━━━━━━━━━━━━━━━━━━━━━━━━━━━━━━\u001b[0m \u001b[32m143.5/143.5 kB\u001b[0m \u001b[31m14.4 MB/s\u001b[0m eta \u001b[36m0:00:00\u001b[0m\n",
            "\u001b[?25hDownloading xxhash-3.5.0-cp311-cp311-manylinux_2_17_x86_64.manylinux2014_x86_64.whl (194 kB)\n",
            "\u001b[2K   \u001b[90m━━━━━━━━━━━━━━━━━━━━━━━━━━━━━━━━━━━━━━━━\u001b[0m \u001b[32m194.8/194.8 kB\u001b[0m \u001b[31m20.4 MB/s\u001b[0m eta \u001b[36m0:00:00\u001b[0m\n",
            "\u001b[?25hInstalling collected packages: xxhash, dill, multiprocess, datasets, evaluate\n",
            "Successfully installed datasets-3.4.0 dill-0.3.8 evaluate-0.4.3 multiprocess-0.70.16 xxhash-3.5.0\n"
          ]
        }
      ]
    },
    {
      "cell_type": "code",
      "source": [
        "!pwd"
      ],
      "metadata": {
        "colab": {
          "base_uri": "https://localhost:8080/"
        },
        "id": "sYJDwM3VKXT-",
        "outputId": "a13dd2ed-256b-4c9f-9129-09267cbee065"
      },
      "execution_count": null,
      "outputs": [
        {
          "output_type": "stream",
          "name": "stdout",
          "text": [
            "/content/MentalLLaMA/src\n"
          ]
        }
      ]
    },
    {
      "cell_type": "code",
      "source": [
        "!python score.py --gen_dir_name response_data --score_method bart_score --cuda"
      ],
      "metadata": {
        "colab": {
          "base_uri": "https://localhost:8080/"
        },
        "id": "teZ88XEq6T3O",
        "outputId": "3d186f7a-3628-4d37-b0f9-d67da2d05fd2"
      },
      "execution_count": null,
      "outputs": [
        {
          "output_type": "stream",
          "name": "stdout",
          "text": [
            "2025-03-14 20:43:27.651774: I tensorflow/core/util/port.cc:153] oneDNN custom operations are on. You may see slightly different numerical results due to floating-point round-off errors from different computation orders. To turn them off, set the environment variable `TF_ENABLE_ONEDNN_OPTS=0`.\n",
            "2025-03-14 20:43:27.670313: E external/local_xla/xla/stream_executor/cuda/cuda_fft.cc:477] Unable to register cuFFT factory: Attempting to register factory for plugin cuFFT when one has already been registered\n",
            "WARNING: All log messages before absl::InitializeLog() is called are written to STDERR\n",
            "E0000 00:00:1741985007.692320   31556 cuda_dnn.cc:8310] Unable to register cuDNN factory: Attempting to register factory for plugin cuDNN when one has already been registered\n",
            "E0000 00:00:1741985007.698991   31556 cuda_blas.cc:1418] Unable to register cuBLAS factory: Attempting to register factory for plugin cuBLAS when one has already been registered\n",
            "2025-03-14 20:43:27.721492: I tensorflow/core/platform/cpu_feature_guard.cc:210] This TensorFlow binary is optimized to use available CPU instructions in performance-critical operations.\n",
            "To enable the following instructions: AVX2 AVX512F AVX512_VNNI FMA, in other operations, rebuild TensorFlow with the appropriate compiler flags.\n",
            "                                             goldens                                     generated_text\n",
            "0  No, this wellness dimension does not exist in ...  No, this wellness dimension does not exist in ...\n",
            "Results for MultiWD dataset: -2.080912101268768\n",
            "                                             goldens                                     generated_text\n",
            "0  This post shows causes of depression related t...  This post shows causes of depression related t...\n",
            "Results for CAMS dataset: -3.0598017156124113\n",
            "                                             goldens                                     generated_text\n",
            "0  This post shows mental disorder symptoms relat...  Reasoning: The post explicitly mentions being ...\n",
            "Results for swmh dataset: -3.20630464553833\n",
            "                                             goldens                                     generated_text\n",
            "0  No, the poster does not suffer from stress. Re...  Reasoning: The poster mentions having PTSD, wh...\n",
            "Results for dreaddit dataset: -3.1204787254333497\n",
            "                                             goldens                                     generated_text\n",
            "0  No, the poster does not suffer from depression...  Reasoning: The post does not exhibit strong em...\n",
            "Results for DR dataset: -3.089637541770935\n",
            "                                             goldens                                     generated_text\n",
            "0  This post shows the stress cause related to fi...  Reasoning: The post discusses the potential im...\n",
            "Results for SAD dataset: -3.007034730911255\n",
            "                                             goldens                                     generated_text\n",
            "0  This post shows suicide or self-harm tendency....  \\n\\nReasoning: This post suggests that the per...\n",
            "Results for t-sid dataset: -3.3013026654720306\n",
            "                                             goldens                                     generated_text\n",
            "0  No, the poster does not suffer from loneliness...  Reasoning: The post mentions feeling unfulfill...\n",
            "Results for loneliness dataset: -2.95909104347229\n",
            "                                             goldens                                     generated_text\n",
            "0  No, the post does not show this risk. Reasonin...  Reasoning: No, the post does not show this ris...\n",
            "Results for Irf dataset: -2.9434775829315187\n"
          ]
        }
      ]
    },
    {
      "cell_type": "code",
      "source": [
        "import pickle\n",
        "\n",
        "# Path to your pickle file\n",
        "pkl_file = \"../quality_evaluation_results/bart_score_response_data.pkl\"\n",
        "\n",
        "# Load the file\n",
        "with open(pkl_file, \"rb\") as file:\n",
        "    data = pickle.load(file)\n",
        "\n",
        "# Print the contents\n",
        "print(data)"
      ],
      "metadata": {
        "id": "e3-4R4Fcs_cO",
        "colab": {
          "base_uri": "https://localhost:8080/"
        },
        "outputId": "d809187a-e743-49e7-b755-5a5b33d9f73d"
      },
      "execution_count": null,
      "outputs": [
        {
          "output_type": "stream",
          "name": "stdout",
          "text": [
            "{'MultiWD': -2.080912101268768, 'CAMS': -3.0598017156124113, 'swmh': -3.20630464553833, 'dreaddit': -3.1204787254333497, 'DR': -3.089637541770935, 'SAD': -3.007034730911255, 't-sid': -3.3013026654720306, 'loneliness': -2.95909104347229, 'Irf': -2.9434775829315187}\n"
          ]
        }
      ]
    },
    {
      "cell_type": "markdown",
      "source": [
        "### **BaseLine**"
      ],
      "metadata": {
        "id": "jwN-3BkfQAsY"
      }
    },
    {
      "cell_type": "code",
      "source": [
        "!python IMHI.py --model_path klyang/MentaLLaMA-chat-7B --batch_size 2 --model_output_path model_output_baseline --test_dataset IMHI --llama --cuda #batch_size 根据GPU调整"
      ],
      "metadata": {
        "colab": {
          "base_uri": "https://localhost:8080/"
        },
        "id": "6_fwJzyOOF8n",
        "outputId": "9a140c53-2f92-4313-dade-f1035965caeb"
      },
      "execution_count": null,
      "outputs": [
        {
          "output_type": "stream",
          "name": "stdout",
          "text": [
            "2025-03-14 20:03:08.147946: I tensorflow/core/util/port.cc:153] oneDNN custom operations are on. You may see slightly different numerical results due to floating-point round-off errors from different computation orders. To turn them off, set the environment variable `TF_ENABLE_ONEDNN_OPTS=0`.\n",
            "2025-03-14 20:03:08.167171: E external/local_xla/xla/stream_executor/cuda/cuda_fft.cc:477] Unable to register cuFFT factory: Attempting to register factory for plugin cuFFT when one has already been registered\n",
            "WARNING: All log messages before absl::InitializeLog() is called are written to STDERR\n",
            "E0000 00:00:1741982588.189907   20840 cuda_dnn.cc:8310] Unable to register cuDNN factory: Attempting to register factory for plugin cuDNN when one has already been registered\n",
            "E0000 00:00:1741982588.196800   20840 cuda_blas.cc:1418] Unable to register cuBLAS factory: Attempting to register factory for plugin cuBLAS when one has already been registered\n",
            "2025-03-14 20:03:08.220007: I tensorflow/core/platform/cpu_feature_guard.cc:210] This TensorFlow binary is optimized to use available CPU instructions in performance-critical operations.\n",
            "To enable the following instructions: AVX2 AVX512F AVX512_VNNI FMA, in other operations, rebuild TensorFlow with the appropriate compiler flags.\n",
            "Generating for dataset: MultiWD\n",
            "0\n",
            "2\n",
            "4\n",
            "6\n",
            "8\n",
            "10\n",
            "12\n",
            "14\n",
            "16\n",
            "18\n",
            "Generating for dataset: CAMS\n",
            "0\n",
            "2\n",
            "4\n",
            "6\n",
            "8\n",
            "10\n",
            "12\n",
            "14\n",
            "16\n",
            "18\n",
            "Generating for dataset: swmh\n",
            "0\n",
            "2\n",
            "4\n",
            "6\n",
            "8\n",
            "10\n",
            "12\n",
            "14\n",
            "16\n",
            "18\n",
            "Generating for dataset: dreaddit\n",
            "0\n",
            "2\n",
            "4\n",
            "6\n",
            "8\n",
            "10\n",
            "12\n",
            "14\n",
            "16\n",
            "18\n",
            "Generating for dataset: DR\n",
            "0\n",
            "2\n",
            "4\n",
            "6\n",
            "8\n",
            "10\n",
            "12\n",
            "14\n",
            "16\n",
            "18\n",
            "Generating for dataset: SAD\n",
            "0\n",
            "2\n",
            "4\n",
            "6\n",
            "8\n",
            "10\n",
            "12\n",
            "14\n",
            "16\n",
            "18\n",
            "Generating for dataset: t-sid\n",
            "0\n",
            "2\n",
            "4\n",
            "6\n",
            "8\n",
            "10\n",
            "12\n",
            "14\n",
            "16\n",
            "18\n",
            "Generating for dataset: loneliness\n",
            "0\n",
            "2\n",
            "4\n",
            "6\n",
            "8\n",
            "10\n",
            "12\n",
            "14\n",
            "16\n",
            "18\n",
            "Generating for dataset: Irf\n",
            "0\n",
            "2\n",
            "4\n",
            "6\n",
            "8\n",
            "10\n",
            "12\n",
            "14\n",
            "16\n",
            "18\n"
          ]
        }
      ]
    },
    {
      "cell_type": "code",
      "source": [
        "!pwd"
      ],
      "metadata": {
        "colab": {
          "base_uri": "https://localhost:8080/"
        },
        "id": "wyqD8PrlSVRr",
        "outputId": "171cc8c1-f457-4526-b1df-383ff2ac58e0"
      },
      "execution_count": null,
      "outputs": [
        {
          "output_type": "stream",
          "name": "stdout",
          "text": [
            "/content/MentalLLaMA/src\n"
          ]
        }
      ]
    },
    {
      "cell_type": "code",
      "source": [
        "!python label_inference.py --model_path MODEL_PATH --data_path model_ouput/model_output_baseline --data_output_path OUTPUT_DATA_BASELINE --calculate --cuda"
      ],
      "metadata": {
        "colab": {
          "base_uri": "https://localhost:8080/"
        },
        "id": "49NpSIwqP-6T",
        "outputId": "575f3838-1a7d-48a3-af12-8ba864083340"
      },
      "execution_count": null,
      "outputs": [
        {
          "output_type": "stream",
          "name": "stdout",
          "text": [
            "2025-03-14 20:12:43.469459: I tensorflow/core/util/port.cc:153] oneDNN custom operations are on. You may see slightly different numerical results due to floating-point round-off errors from different computation orders. To turn them off, set the environment variable `TF_ENABLE_ONEDNN_OPTS=0`.\n",
            "2025-03-14 20:12:43.487931: E external/local_xla/xla/stream_executor/cuda/cuda_fft.cc:477] Unable to register cuFFT factory: Attempting to register factory for plugin cuFFT when one has already been registered\n",
            "WARNING: All log messages before absl::InitializeLog() is called are written to STDERR\n",
            "E0000 00:00:1741983163.509774   23330 cuda_dnn.cc:8310] Unable to register cuDNN factory: Attempting to register factory for plugin cuDNN when one has already been registered\n",
            "E0000 00:00:1741983163.516474   23330 cuda_blas.cc:1418] Unable to register cuBLAS factory: Attempting to register factory for plugin cuBLAS when one has already been registered\n",
            "2025-03-14 20:12:43.538920: I tensorflow/core/platform/cpu_feature_guard.cc:210] This TensorFlow binary is optimized to use available CPU instructions in performance-critical operations.\n",
            "To enable the following instructions: AVX2 AVX512F AVX512_VNNI FMA, in other operations, rebuild TensorFlow with the appropriate compiler flags.\n",
            "Generating for MultiWD dataset.\n",
            "Generating for CAMS dataset.\n",
            "Generating for swmh dataset.\n",
            "Generating for dreaddit dataset.\n",
            "Generating for DR dataset.\n",
            "Generating for SAD dataset.\n",
            "Generating for t-sid dataset.\n",
            "Generating for loneliness dataset.\n",
            "Generating for Irf dataset.\n",
            "Dataset: MultiWD, average acc:90.0, weighted F1 89.52, micro F1 90.0, macro F1 88.1\n",
            "Dataset: CAMS, average acc:45.0, weighted F1 44.14, micro F1 45.0, macro F1 37.62\n",
            "Dataset: swmh, average acc:70.0, weighted F1 69.58, micro F1 70.0, macro F1 73.0\n",
            "Dataset: dreaddit, average acc:75.0, weighted F1 72.51, micro F1 75.0, macro F1 71.51\n",
            "Dataset: DR, average acc:90.0, weighted F1 89.33, micro F1 90.0, macro F1 86.67\n",
            "Dataset: SAD, average acc:50.0, weighted F1 45.64, micro F1 50.0, macro F1 44.94\n",
            "Dataset: t-sid, average acc:80.0, weighted F1 86.67, micro F1 80.0, macro F1 63.89\n",
            "Dataset: loneliness, average acc:85.0, weighted F1 82.47, micro F1 85.0, macro F1 74.03\n",
            "Dataset: Irf, average acc:75.0, weighted F1 75.5, micro F1 75.0, macro F1 71.51\n"
          ]
        }
      ]
    },
    {
      "cell_type": "code",
      "source": [
        "!python score.py --gen_dir_name model_output_baseline --score_method bart_score --cuda"
      ],
      "metadata": {
        "colab": {
          "base_uri": "https://localhost:8080/"
        },
        "id": "6BNP6-rBR66q",
        "outputId": "d8058506-011a-4af4-9ba0-e5f504e12558"
      },
      "execution_count": null,
      "outputs": [
        {
          "output_type": "stream",
          "name": "stdout",
          "text": [
            "2025-03-14 20:45:16.411332: I tensorflow/core/util/port.cc:153] oneDNN custom operations are on. You may see slightly different numerical results due to floating-point round-off errors from different computation orders. To turn them off, set the environment variable `TF_ENABLE_ONEDNN_OPTS=0`.\n",
            "2025-03-14 20:45:16.429781: E external/local_xla/xla/stream_executor/cuda/cuda_fft.cc:477] Unable to register cuFFT factory: Attempting to register factory for plugin cuFFT when one has already been registered\n",
            "WARNING: All log messages before absl::InitializeLog() is called are written to STDERR\n",
            "E0000 00:00:1741985116.451602   32061 cuda_dnn.cc:8310] Unable to register cuDNN factory: Attempting to register factory for plugin cuDNN when one has already been registered\n",
            "E0000 00:00:1741985116.458206   32061 cuda_blas.cc:1418] Unable to register cuBLAS factory: Attempting to register factory for plugin cuBLAS when one has already been registered\n",
            "2025-03-14 20:45:16.480650: I tensorflow/core/platform/cpu_feature_guard.cc:210] This TensorFlow binary is optimized to use available CPU instructions in performance-critical operations.\n",
            "To enable the following instructions: AVX2 AVX512F AVX512_VNNI FMA, in other operations, rebuild TensorFlow with the appropriate compiler flags.\n",
            "                                             goldens                                     generated_text\n",
            "0  No, this wellness dimension does not exist in ...  No, this wellness dimension does not exist in ...\n",
            "Results for MultiWD dataset: -1.9541790634393692\n",
            "                                             goldens                                     generated_text\n",
            "0  This post shows causes of depression related t...  \\n\\nThis post shows no causes of depression. R...\n",
            "Results for CAMS dataset: -3.191731321811676\n",
            "                                             goldens                                     generated_text\n",
            "0  This post shows mental disorder symptoms relat...  Reasoning: The post explicitly mentions being ...\n",
            "Results for swmh dataset: -3.188701558113098\n",
            "                                             goldens                                     generated_text\n",
            "0  No, the poster does not suffer from stress. Re...  Reasoning: The poster mentions experiencing po...\n",
            "Results for dreaddit dataset: -3.0409340262413025\n",
            "                                             goldens                                     generated_text\n",
            "0  No, the poster does not suffer from depression...  Reasoning: The post does not exhibit strong em...\n",
            "Results for DR dataset: -2.9859787821769714\n",
            "                                             goldens                                     generated_text\n",
            "0  This post shows the stress cause related to fi...  Reasoning: The post mentions the coronavirus a...\n",
            "Results for SAD dataset: -3.0241546630859375\n",
            "                                             goldens                                     generated_text\n",
            "0  This post shows suicide or self-harm tendency....  \\n\\nReasoning: The post suggests that the pers...\n",
            "Results for t-sid dataset: -3.2921801090240477\n",
            "                                             goldens                                     generated_text\n",
            "0  No, the poster does not suffer from loneliness...  Reasoning: The post mentions having great expe...\n",
            "Results for loneliness dataset: -3.009383571147919\n",
            "                                             goldens                                     generated_text\n",
            "0  No, the post does not show this risk. Reasonin...  Reasoning: No, the post does not show this ris...\n",
            "Results for Irf dataset: -2.900742292404175\n"
          ]
        }
      ]
    },
    {
      "cell_type": "code",
      "source": [
        "import pickle\n",
        "\n",
        "# Path to your pickle file\n",
        "pkl_file = \"../quality_evaluation_results/bart_score_model_output_baseline.pkl\"\n",
        "\n",
        "# Load the file\n",
        "with open(pkl_file, \"rb\") as file:\n",
        "    data = pickle.load(file)\n",
        "\n",
        "# Print the contents\n",
        "print(data)"
      ],
      "metadata": {
        "colab": {
          "base_uri": "https://localhost:8080/"
        },
        "id": "E8WuNu0yZ2Bl",
        "outputId": "258d373c-874e-4a8a-f50f-f704d9f644a2"
      },
      "execution_count": null,
      "outputs": [
        {
          "output_type": "stream",
          "name": "stdout",
          "text": [
            "{'MultiWD': -1.9541790634393692, 'CAMS': -3.191731321811676, 'swmh': -3.188701558113098, 'dreaddit': -3.0409340262413025, 'DR': -2.9859787821769714, 'SAD': -3.0241546630859375, 't-sid': -3.2921801090240477, 'loneliness': -3.009383571147919, 'Irf': -2.900742292404175}\n"
          ]
        }
      ]
    },
    {
      "cell_type": "code",
      "source": [
        "{'MultiWD': -2.080912101268768, 'CAMS': -3.0598017156124113, 'swmh': -3.20630464553833, 'dreaddit': -3.1204787254333497, 'DR': -3.089637541770935, 'SAD': -3.007034730911255, 't-sid': -3.3013026654720306, 'loneliness': -2.95909104347229, 'Irf': -2.9434775829315187}\n",
        "{'MultiWD': -1.9541790634393692, 'CAMS': -3.191731321811676, 'swmh': -3.188701558113098, 'dreaddit': -3.0409340262413025, 'DR': -2.9859787821769714, 'SAD': -3.0241546630859375, 't-sid': -3.2921801090240477, 'loneliness': -3.009383571147919, 'Irf': -2.900742292404175}"
      ],
      "metadata": {
        "id": "qopnrNhOaDcE"
      },
      "execution_count": null,
      "outputs": []
    },
    {
      "cell_type": "code",
      "source": [
        "from google.colab import drive\n",
        "drive.mount('/content/drive')\n"
      ],
      "metadata": {
        "colab": {
          "base_uri": "https://localhost:8080/"
        },
        "id": "JNjFzVTbaiM3",
        "outputId": "0af9ef10-c487-4318-89ae-b0d65072556e"
      },
      "execution_count": null,
      "outputs": [
        {
          "output_type": "stream",
          "name": "stdout",
          "text": [
            "Mounted at /content/drive\n"
          ]
        }
      ]
    },
    {
      "cell_type": "code",
      "source": [
        "!cp -r /content/MentalLLaMA/ /content/drive/MyDrive/MentalLLaMA_Backup/"
      ],
      "metadata": {
        "id": "MA4fFDqhamWj"
      },
      "execution_count": null,
      "outputs": []
    },
    {
      "cell_type": "code",
      "source": [],
      "metadata": {
        "id": "SdX0K_cDaqm4"
      },
      "execution_count": null,
      "outputs": []
    }
  ]
}